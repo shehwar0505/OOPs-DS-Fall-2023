{
 "cells": [
  {
   "cell_type": "markdown",
   "id": "9c1abb8d-6740-48a6-8607-28f31e713a05",
   "metadata": {},
   "source": [
    "# Lab Title: EE-271 “OOP & Data Structures Lab\n",
    "# LAB 8: Multi-Level Inheritance\n",
    "# Lab Report task:"
   ]
  },
  {
   "cell_type": "markdown",
   "id": "260b548d-8038-4524-a8bd-17c543638060",
   "metadata": {},
   "source": [
    "# a. Construct a Rectangle class"
   ]
  },
  {
   "cell_type": "code",
   "execution_count": 16,
   "id": "cab0830f-68c5-4d26-b474-4fe5742737f6",
   "metadata": {},
   "outputs": [],
   "source": [
    "class Rectangle:\n",
    "    def __init__(self, width, height):\n",
    "        self.width = width\n",
    "        self.height = height\n",
    "\n",
    "    def area(self):\n",
    "        return self.width * self.height\n",
    "\n",
    "    def perimeter(self):\n",
    "        return 2 * (self.width + self.height)\n",
    "\n",
    "    def display(self):\n",
    "        return f\"Rectangle: Width = {self.width}, Height = {self.height}\"\n"
   ]
  },
  {
   "cell_type": "markdown",
   "id": "8d94b642-35f8-4429-953e-2ffb66fe55c0",
   "metadata": {},
   "source": [
    "# b. Inherit a Square class from the Rectangle class"
   ]
  },
  {
   "cell_type": "code",
   "execution_count": 19,
   "id": "583fed71-4bd0-4a1d-b344-6648ee6c5ff2",
   "metadata": {},
   "outputs": [],
   "source": [
    "class Square(Rectangle):\n",
    "    def __init__(self, side):\n",
    "        super().__init__(side, side)\n",
    "\n",
    "    def display(self):\n",
    "        return f\"Square: Side = {self.width}\"\n"
   ]
  },
  {
   "cell_type": "markdown",
   "id": "f4614870-2ef5-4385-b470-03968834275a",
   "metadata": {},
   "source": [
    "# c. Create a Cube class that inherits from Square"
   ]
  },
  {
   "cell_type": "code",
   "execution_count": 22,
   "id": "2cd670f2-a43e-4d0c-9c62-cecb3f976636",
   "metadata": {},
   "outputs": [],
   "source": [
    "class Cube(Square):\n",
    "    def __init__(self, side):\n",
    "        super().__init__(side)\n",
    "\n",
    "    def surface_area(self):\n",
    "        return 6 * self.width ** 2  # Since side = width for square, we use self.width\n",
    "\n",
    "    def volume(self):\n",
    "        return self.width ** 3\n"
   ]
  },
  {
   "cell_type": "markdown",
   "id": "fefefe94-f0c3-4ba6-bbd8-226021c7ea65",
   "metadata": {},
   "source": [
    "# d. Create two instances of the Cube class and call both instance methods"
   ]
  },
  {
   "cell_type": "code",
   "execution_count": 25,
   "id": "7d83c1d1-0f75-48b2-b0a1-78b9d1894513",
   "metadata": {},
   "outputs": [
    {
     "name": "stdout",
     "output_type": "stream",
     "text": [
      "Cube 1 - Square: Side = 4\n",
      "Surface Area of Cube 1: 96 square units\n",
      "Volume of Cube 1: 64 cubic units\n",
      "Cube 2 - Square: Side = 7\n",
      "Surface Area of Cube 2: 294 square units\n",
      "Volume of Cube 2: 343 cubic units\n"
     ]
    }
   ],
   "source": [
    "# Create two instances of Cube\n",
    "cube1 = Cube(4)\n",
    "cube2 = Cube(7)\n",
    "\n",
    "# Call the instance methods for cube1\n",
    "print(f\"Cube 1 - {cube1.display()}\")\n",
    "print(f\"Surface Area of Cube 1: {cube1.surface_area()} square units\")\n",
    "print(f\"Volume of Cube 1: {cube1.volume()} cubic units\")\n",
    "\n",
    "# Call the instance methods for cube2\n",
    "print(f\"Cube 2 - {cube2.display()}\")\n",
    "print(f\"Surface Area of Cube 2: {cube2.surface_area()} square units\")\n",
    "print(f\"Volume of Cube 2: {cube2.volume()} cubic units\")\n"
   ]
  },
  {
   "cell_type": "markdown",
   "id": "9a7db418-e9bd-4ebf-b9dd-283f87919803",
   "metadata": {},
   "source": [
    "# LAB: 8 COMPLETED By NAME: SHEHWAR MUHAMMAD REG NO: 23JZELE0505 SECTI0N: A"
   ]
  }
 ],
 "metadata": {
  "kernelspec": {
   "display_name": "Python 3 (ipykernel)",
   "language": "python",
   "name": "python3"
  },
  "language_info": {
   "codemirror_mode": {
    "name": "ipython",
    "version": 3
   },
   "file_extension": ".py",
   "mimetype": "text/x-python",
   "name": "python",
   "nbconvert_exporter": "python",
   "pygments_lexer": "ipython3",
   "version": "3.12.4"
  }
 },
 "nbformat": 4,
 "nbformat_minor": 5
}
