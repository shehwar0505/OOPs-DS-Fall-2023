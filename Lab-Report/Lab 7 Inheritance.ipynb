{
 "cells": [
  {
   "cell_type": "markdown",
   "id": "1ec63f76-2d4e-4ede-b07b-8963bca6c474",
   "metadata": {},
   "source": [
    "# Lab Title: EE-271 “OOP & Data Structures Lab\n",
    "# LAB 7\n",
    "# Lab Report task:\n",
    "# Problem 1:"
   ]
  },
  {
   "cell_type": "markdown",
   "id": "4618f6e7-4c65-47ca-8093-b23edb90c1df",
   "metadata": {},
   "source": [
    "# Rectangle Class:"
   ]
  },
  {
   "cell_type": "code",
   "execution_count": 11,
   "id": "56657230-530c-43d2-b243-a6b435aea25d",
   "metadata": {},
   "outputs": [],
   "source": [
    "class Rectangle:\n",
    "    def __init__(self, width, height):\n",
    "        self.width = width\n",
    "        self.height = height\n",
    "\n",
    "    def area(self):\n",
    "        return self.width * self.height\n",
    "\n",
    "    def perimeter(self):\n",
    "        return 2 * (self.width + self.height)\n",
    "\n",
    "    def display(self):\n",
    "        return f\"Rectangle: Width = {self.width}, Height = {self.height}\"\n"
   ]
  },
  {
   "cell_type": "markdown",
   "id": "4c58ed1b-b35c-47ee-b013-0a59b6368514",
   "metadata": {},
   "source": [
    "# Square Class (Inheriting from Rectangle):\n"
   ]
  },
  {
   "cell_type": "code",
   "execution_count": 18,
   "id": "37d3a109-41f5-48e0-9d66-554ccd6de5a8",
   "metadata": {},
   "outputs": [],
   "source": [
    "class Square(Rectangle):\n",
    "    def __init__(self, side):\n",
    "        super().__init__(side, side)\n",
    "\n",
    "    def display(self):\n",
    "        return f\"Square: Side = {self.width}\"\n"
   ]
  },
  {
   "cell_type": "markdown",
   "id": "72767750-a2f7-4274-b109-f9172c11fd6a",
   "metadata": {},
   "source": [
    "# Create two instances of the Square class and call the instance methods"
   ]
  },
  {
   "cell_type": "code",
   "execution_count": 21,
   "id": "08ece7b2-2b9c-4f31-a306-bc919514b57d",
   "metadata": {},
   "outputs": [
    {
     "name": "stdout",
     "output_type": "stream",
     "text": [
      "Square 1 - Square: Side = 4\n",
      "Area of Square 1: 16\n",
      "Perimeter of Square 1: 16\n",
      "Square 2 - Square: Side = 7\n",
      "Area of Square 2: 49\n",
      "Perimeter of Square 2: 28\n"
     ]
    }
   ],
   "source": [
    "# Create two instances of Square\n",
    "square1 = Square(4)\n",
    "square2 = Square(7)\n",
    "\n",
    "# Call the instance methods for square1\n",
    "print(f\"Square 1 - {square1.display()}\")\n",
    "print(f\"Area of Square 1: {square1.area()}\")\n",
    "print(f\"Perimeter of Square 1: {square1.perimeter()}\")\n",
    "\n",
    "# Call the instance methods for square2\n",
    "print(f\"Square 2 - {square2.display()}\")\n",
    "print(f\"Area of Square 2: {square2.area()}\")\n",
    "print(f\"Perimeter of Square 2: {square2.perimeter()}\")\n"
   ]
  },
  {
   "cell_type": "markdown",
   "id": "e3758fbe-4300-4a3c-808a-10d8fa541335",
   "metadata": {},
   "source": [
    "# LAB: 7 COMPLETED By NAME: SHEHWAR MUHAMMAD REG NO: 23JZELE0505 SECTI0N: A"
   ]
  }
 ],
 "metadata": {
  "kernelspec": {
   "display_name": "Python 3 (ipykernel)",
   "language": "python",
   "name": "python3"
  },
  "language_info": {
   "codemirror_mode": {
    "name": "ipython",
    "version": 3
   },
   "file_extension": ".py",
   "mimetype": "text/x-python",
   "name": "python",
   "nbconvert_exporter": "python",
   "pygments_lexer": "ipython3",
   "version": "3.12.4"
  }
 },
 "nbformat": 4,
 "nbformat_minor": 5
}
