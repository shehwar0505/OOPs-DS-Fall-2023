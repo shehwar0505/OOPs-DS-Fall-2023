{
 "cells": [
  {
   "cell_type": "markdown",
   "id": "3421254c-f98a-4d41-a147-f2e359e1afa5",
   "metadata": {},
   "source": [
    "# Lab Title: EE-271 “OOP & Data Structures Lab\n",
    "# LAB 9: Multiple Inheritance\n",
    "# Lab Report task:"
   ]
  },
  {
   "cell_type": "markdown",
   "id": "e948a2f4-8e6f-4004-9597-dafd3b657582",
   "metadata": {},
   "source": [
    "# multiple Inheritance in Python"
   ]
  },
  {
   "cell_type": "code",
   "execution_count": 3,
   "id": "a84af80c-1878-44af-bda4-78b30c8f12f0",
   "metadata": {},
   "outputs": [],
   "source": [
    "class Rectangle:\n",
    "    def __init__(self, length, width, **kwargs):\n",
    "        self.length = length\n",
    "        self.width = width\n",
    "        super().__init__(**kwargs)\n",
    "\n",
    "    def area(self):\n",
    "        return self.length * self.width\n",
    "\n",
    "    def perimeter(self):\n",
    "        return 2 * self.length + 2 * self.width\n",
    "\n",
    "class Square(Rectangle):\n",
    "    def __init__(self, length, **kwargs):\n",
    "        super().__init__(length=length, width=length, **kwargs)\n",
    "\n",
    "class Triangle:\n",
    "    def __init__(self, base, height, **kwargs):\n",
    "        self.base = base\n",
    "        self.height = height\n",
    "        super().__init__(**kwargs)\n",
    "\n",
    "    def tri_area(self):\n",
    "        return 0.5 * self.base * self.height\n",
    "\n",
    "class RightPyramid(Square, Triangle):\n",
    "    def __init__(self, base, slant_height, **kwargs):\n",
    "        # Initialize both Square and Triangle parts\n",
    "        self.base = base\n",
    "        self.slant_height = slant_height\n",
    "        self.height = slant_height  # Assuming slant_height = height for simplicity\n",
    "        kwargs[\"length\"] = base\n",
    "        kwargs[\"width\"] = base\n",
    "        super().__init__(length=base, **kwargs)\n",
    "\n",
    "    def area(self):\n",
    "        # Base area (Square's area) + 4 triangular faces\n",
    "        base_area = super().area()  # Area from Square\n",
    "        perimeter = super().perimeter()  # Perimeter from Square\n",
    "        return 0.5 * perimeter * self.slant_height + base_area\n",
    "\n",
    "    def area_2(self):\n",
    "        # Base area (Square's area) + 4 triangle areas\n",
    "        base_area = super().area()  # Area from Square\n",
    "        triangle_area = super().tri_area()  # Area from Triangle\n",
    "        return triangle_area * 4 + base_area\n",
    "\n",
    "class SurfaceAreaMixin:\n",
    "    def surface_area(self):\n",
    "        surface_area = 0\n",
    "        for surface in self.surfaces:\n",
    "            surface_area += surface.area()\n",
    "        return surface_area\n",
    "\n",
    "class Cube(Square, SurfaceAreaMixin):\n",
    "    def __init__(self, length):\n",
    "        super().__init__(length)\n",
    "        self.surfaces = [Square(length) for _ in range(6)]  # Six Square faces for a cube\n",
    "\n",
    "class RightPyramidWithSurfaceArea(RightPyramid, SurfaceAreaMixin):\n",
    "    def __init__(self, base, slant_height):\n",
    "        RightPyramid.__init__(self, base, slant_height)\n",
    "        self.surfaces = [Square(base)] + [Triangle(base, slant_height) for _ in range(4)]  # One base, four triangles\n"
   ]
  },
  {
   "cell_type": "code",
   "execution_count": 7,
   "id": "afed6b98-d720-45c7-8425-43aca710b31e",
   "metadata": {},
   "outputs": [
    {
     "data": {
      "text/plain": [
       "54"
      ]
     },
     "execution_count": 7,
     "metadata": {},
     "output_type": "execute_result"
    }
   ],
   "source": [
    "cube = Cube(3)\n",
    "cube.surface_area()"
   ]
  },
  {
   "cell_type": "markdown",
   "id": "9d723092-e9f0-417d-958b-8367af658ee7",
   "metadata": {},
   "source": [
    "# LAB: 9 COMPLETED By NAME: SHEHWAR MUHAMMAD REG NO: 23JZELE0505 SECTI0N: A"
   ]
  }
 ],
 "metadata": {
  "kernelspec": {
   "display_name": "Python 3 (ipykernel)",
   "language": "python",
   "name": "python3"
  },
  "language_info": {
   "codemirror_mode": {
    "name": "ipython",
    "version": 3
   },
   "file_extension": ".py",
   "mimetype": "text/x-python",
   "name": "python",
   "nbconvert_exporter": "python",
   "pygments_lexer": "ipython3",
   "version": "3.12.4"
  }
 },
 "nbformat": 4,
 "nbformat_minor": 5
}
