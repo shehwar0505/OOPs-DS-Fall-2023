{
 "cells": [
  {
   "cell_type": "markdown",
   "id": "1c527b58-03fd-4152-856d-88776ab13f74",
   "metadata": {},
   "source": [
    "# Base Class Circuit:"
   ]
  },
  {
   "cell_type": "code",
   "execution_count": 65,
   "id": "79b57704-a198-49f9-8a91-cc8d0ee44e1d",
   "metadata": {},
   "outputs": [],
   "source": [
    "import cmath\n",
    "import math\n",
    "\n",
    "class Circuit:\n",
    "    def __init__(self, E):\n",
    "        self._E = cmath.rect(E[0], math.radians(E[1]))\n",
    "        self._Z = None  \n",
    "        self._I = None  \n",
    "\n",
    "    @property\n",
    "    def current(self):\n",
    "        if self._I is None:\n",
    "            self._I = self._E / self.impedance\n",
    "        return self._I\n",
    "\n",
    "    @property\n",
    "    def power_factor(self):\n",
    "        angle = cmath.phase(self.impedance)\n",
    "        return math.cos(angle)\n",
    "\n",
    "    @staticmethod\n",
    "    def format_phasor(value):\n",
    "        magnitude = abs(value)\n",
    "        angle = math.degrees(cmath.phase(value))\n",
    "        return f\"{magnitude:.2f}∠{angle:.2f}°\""
   ]
  },
  {
   "cell_type": "markdown",
   "id": "c4b5f78c-016f-45ec-a27a-24dfa2b9aba1",
   "metadata": {},
   "source": [
    "# Subclass R: "
   ]
  },
  {
   "cell_type": "code",
   "execution_count": 68,
   "id": "8fbdb2ca-e024-4662-95c8-7ba454518803",
   "metadata": {},
   "outputs": [],
   "source": [
    "class R(Circuit):\n",
    "    def __init__(self, E, R1):\n",
    "        super().__init__(E)\n",
    "        self._R1 = R1\n",
    "\n",
    "    @property\n",
    "    def impedance(self):\n",
    "        if self._Z is None:\n",
    "            self._Z = self._R1\n",
    "        return self._Z\n",
    "\n",
    "    @property\n",
    "    def average_power(self):\n",
    "        I = self.current\n",
    "        P = abs(I)**2 * self._R1\n",
    "        return P"
   ]
  },
  {
   "cell_type": "markdown",
   "id": "2df37359-f77a-4636-bb02-08984ada34fa",
   "metadata": {},
   "source": [
    "# Subclass RCSeries: "
   ]
  },
  {
   "cell_type": "code",
   "execution_count": 71,
   "id": "76c0679f-608f-43e3-9c5b-cc5016b9bbc8",
   "metadata": {},
   "outputs": [],
   "source": [
    "class RCSeries(R):\n",
    "    def __init__(self, E, R1, XC):\n",
    "        super().__init__(E, R1)\n",
    "        self._XC = XC\n",
    "\n",
    "    @property\n",
    "    def impedance(self):\n",
    "        if self._Z is None:\n",
    "            self._Z = self._R1 - 1j * self._XC\n",
    "        return self._Z\n",
    "\n",
    "    @property\n",
    "    def voltage_drops(self):\n",
    "        I = self.current\n",
    "        VR = I * self._R1\n",
    "        VC = I * (-1j) * self._XC\n",
    "        return VR, VC\n"
   ]
  },
  {
   "cell_type": "markdown",
   "id": "e891e48f-6699-46c4-a588-d9a362c0a7a8",
   "metadata": {},
   "source": [
    "# Subclass RLSeries:"
   ]
  },
  {
   "cell_type": "code",
   "execution_count": 74,
   "id": "33174b74-70ca-4090-8df8-c1f0f1e5836a",
   "metadata": {},
   "outputs": [],
   "source": [
    "class RLSeries(R):\n",
    "    def __init__(self, E, R1, XL):\n",
    "        super().__init__(E, R1)\n",
    "        self._XL = XL\n",
    "\n",
    "    @property\n",
    "    def impedance(self):\n",
    "        if self._Z is None:\n",
    "            self._Z = self._R1 + 1j * self._XL\n",
    "        return self._Z\n",
    "\n",
    "    @property\n",
    "    def voltage_drops(self):\n",
    "        I = self.current\n",
    "        VR = I * self._R1\n",
    "        VL = I * 1j * self._XL\n",
    "        return VR, VL\n"
   ]
  },
  {
   "cell_type": "markdown",
   "id": "9866e9a2-e95e-4106-a119-5e0a08c20582",
   "metadata": {},
   "source": [
    "# Subclass RLCSeries: "
   ]
  },
  {
   "cell_type": "code",
   "execution_count": 77,
   "id": "9b7306e5-58db-4cfc-bc58-5bf891c2c597",
   "metadata": {},
   "outputs": [],
   "source": [
    "class RLCSeries(R):\n",
    "    def __init__(self, E, R1, XL, XC):\n",
    "        super().__init__(E, R1)\n",
    "        self._XL = XL\n",
    "        self._XC = XC\n",
    "\n",
    "    @property\n",
    "    def impedance(self):\n",
    "        if self._Z is None:\n",
    "            self._Z = self._R1 + 1j * (self._XL - self._XC)\n",
    "        return self._Z\n",
    "\n",
    "    @property\n",
    "    def voltage_drops(self):\n",
    "        I = self.current\n",
    "        VR = I * self._R1\n",
    "        VL = I * 1j * self._XL\n",
    "        VC = I * (-1j) * self._XC\n",
    "        return VR, VL, VC\n"
   ]
  },
  {
   "cell_type": "markdown",
   "id": "2ff2c8f6-8fcd-4c0e-ba0d-8a9c4a89a592",
   "metadata": {},
   "source": [
    "# Subclass RCParallel:"
   ]
  },
  {
   "cell_type": "code",
   "execution_count": 80,
   "id": "539f35eb-abaf-4577-8ff0-1e1d59bed3ef",
   "metadata": {},
   "outputs": [],
   "source": [
    "class RCParallel(Circuit):\n",
    "    def __init__(self, E, R1, XC):\n",
    "        super().__init__(E)\n",
    "        self._R1 = R1\n",
    "        self._XC = XC\n",
    "\n",
    "    @property\n",
    "    def impedance(self):\n",
    "        if self._Z is None:\n",
    "            Y_R = 1 / self._R1\n",
    "            Y_C = 1j / self._XC\n",
    "            Yt = Y_R + Y_C\n",
    "            self._Z = 1 / Yt\n",
    "        return self._Z"
   ]
  },
  {
   "cell_type": "markdown",
   "id": "4e6e8b1d-5fec-492a-8cbe-d1ab27b2f145",
   "metadata": {},
   "source": [
    "# Subclass RLParallel: "
   ]
  },
  {
   "cell_type": "code",
   "execution_count": 83,
   "id": "277c7cae-c08c-4126-922e-5b6a2eb2c91c",
   "metadata": {},
   "outputs": [],
   "source": [
    "class RLParallel(Circuit):\n",
    "    def __init__(self, E, R1, XL):\n",
    "        super().__init__(E)\n",
    "        self._R1 = R1\n",
    "        self._XL = XL\n",
    "\n",
    "    @property\n",
    "    def impedance(self):\n",
    "        if self._Z is None:\n",
    "            Y_R = 1 / self._R1\n",
    "            Y_L = -1j / self._XL\n",
    "            Yt = Y_R + Y_L\n",
    "            self._Z = 1 / Yt\n",
    "        return self._Z"
   ]
  },
  {
   "cell_type": "markdown",
   "id": "2f3b19c2-515b-4fcd-8141-4aaf33e1b3f2",
   "metadata": {},
   "source": [
    "# Subclass RLCParallel:"
   ]
  },
  {
   "cell_type": "code",
   "execution_count": 86,
   "id": "3c6e3f8f-a8da-43e1-af4e-23bac1d38bc9",
   "metadata": {},
   "outputs": [],
   "source": [
    "class RLCParallel(Circuit):\n",
    "    def __init__(self, E, R1, XL, XC):\n",
    "        super().__init__(E)\n",
    "        self._R1 = R1\n",
    "        self._XL = XL\n",
    "        self._XC = XC\n",
    "\n",
    "    @property\n",
    "    def impedance(self):\n",
    "        if self._Z is None:\n",
    "            Y_R = 1 / self._R1\n",
    "            Y_L = -1j / self._XL\n",
    "            Y_C = 1j / self._XC\n",
    "            Yt = Y_R + Y_L + Y_C\n",
    "            self._Z = 1 / Yt\n",
    "        return self._Z"
   ]
  },
  {
   "cell_type": "markdown",
   "id": "a54fe272-a237-4b8a-a339-0d11567fe4b7",
   "metadata": {},
   "source": [
    "# # Creating objects for each class with example parameters"
   ]
  },
  {
   "cell_type": "code",
   "execution_count": 89,
   "id": "f95ef0d6-e1db-4470-954d-e8633a5998be",
   "metadata": {},
   "outputs": [],
   "source": [
    "# Example voltage\n",
    "E = (20, 0)\n",
    "r_circuit = R(E, 10)  \n",
    "rc_series_circuit = RCSeries(E, 10, 26.53)  \n",
    "rl_series_circuit = RLSeries(E, 10, 37.70)  \n",
    "rlc_series_circuit = RLCSeries(E, 10, 37.70, 26.53)  \n",
    "rc_parallel_circuit = RCParallel(E, 10, 26.53)  \n",
    "rl_parallel_circuit = RLParallel(E, 10, 37.70)  \n",
    "rlc_parallel_circuit = RLCParallel(E, 10, 37.70, 26.53)  "
   ]
  },
  {
   "cell_type": "code",
   "execution_count": 91,
   "id": "36f1357a-7ab3-46ae-a33c-13074b8e240b",
   "metadata": {},
   "outputs": [
    {
     "name": "stdout",
     "output_type": "stream",
     "text": [
      "R Circuit:\n",
      "Impedance (Z): 10.00∠0.00°\n",
      "Current (I): 2.00∠0.00°\n",
      "Power factor: 1.0 lagging\n",
      "\n"
     ]
    }
   ],
   "source": [
    "print(\"R Circuit:\")\n",
    "print(\"Impedance (Z):\", r_circuit.format_phasor(r_circuit.impedance))\n",
    "print(\"Current (I):\", r_circuit.format_phasor(r_circuit.current))\n",
    "print(\"Power factor:\", round(r_circuit.power_factor, 2), \"lagging\")\n",
    "print()"
   ]
  },
  {
   "cell_type": "code",
   "execution_count": 93,
   "id": "ae3f5830-0c6d-40a6-ad09-ae249126c67c",
   "metadata": {},
   "outputs": [
    {
     "name": "stdout",
     "output_type": "stream",
     "text": [
      "RC Series Circuit:\n",
      "Impedance (Z): 28.35∠-69.35°\n",
      "Current (I): 0.71∠69.35°\n",
      "VR: 7.05∠69.35°\n",
      "VC: 18.71∠-20.65°\n",
      "Power factor: 0.35 lagging\n",
      "\n"
     ]
    }
   ],
   "source": [
    "print(\"RC Series Circuit:\")\n",
    "print(\"Impedance (Z):\", rc_series_circuit.format_phasor(rc_series_circuit.impedance))\n",
    "print(\"Current (I):\", rc_series_circuit.format_phasor(rc_series_circuit.current))\n",
    "VR, VC = rc_series_circuit.voltage_drops\n",
    "print(\"VR:\", rc_series_circuit.format_phasor(VR))\n",
    "print(\"VC:\", rc_series_circuit.format_phasor(VC))\n",
    "print(\"Power factor:\", round(rc_series_circuit.power_factor, 2), \"lagging\")\n",
    "print()"
   ]
  },
  {
   "cell_type": "code",
   "execution_count": 95,
   "id": "613d8bab-f70c-49c5-8a95-ea749137d625",
   "metadata": {},
   "outputs": [
    {
     "name": "stdout",
     "output_type": "stream",
     "text": [
      "RL Series Circuit:\n",
      "Impedance (Z): 39.00∠75.14°\n",
      "Current (I): 0.51∠-75.14°\n",
      "VR: 5.13∠-75.14°\n",
      "VL: 19.33∠14.86°\n",
      "Power factor: 0.26 lagging\n",
      "\n"
     ]
    }
   ],
   "source": [
    "print(\"RL Series Circuit:\")\n",
    "print(\"Impedance (Z):\", rl_series_circuit.format_phasor(rl_series_circuit.impedance))\n",
    "print(\"Current (I):\", rl_series_circuit.format_phasor(rl_series_circuit.current))\n",
    "VR, VL = rl_series_circuit.voltage_drops\n",
    "print(\"VR:\", rl_series_circuit.format_phasor(VR))\n",
    "print(\"VL:\", rl_series_circuit.format_phasor(VL))\n",
    "print(\"Power factor:\", round(rl_series_circuit.power_factor, 2), \"lagging\")\n",
    "print()"
   ]
  },
  {
   "cell_type": "code",
   "execution_count": 97,
   "id": "566caa9f-006f-4cbe-8abe-78a9ede544e3",
   "metadata": {},
   "outputs": [
    {
     "name": "stdout",
     "output_type": "stream",
     "text": [
      "RLC Series Circuit:\n",
      "Impedance (Z): 14.99∠48.16°\n",
      "Current (I): 1.33∠-48.16°\n",
      "VR: 13.34∠-48.16°\n",
      "VL: 50.29∠41.84°\n",
      "VC: 35.39∠-138.16°\n",
      "Power factor: 0.67 lagging\n",
      "\n"
     ]
    }
   ],
   "source": [
    "print(\"RLC Series Circuit:\")\n",
    "print(\"Impedance (Z):\", rlc_series_circuit.format_phasor(rlc_series_circuit.impedance))\n",
    "print(\"Current (I):\", rlc_series_circuit.format_phasor(rlc_series_circuit.current))\n",
    "VR, VL, VC = rlc_series_circuit.voltage_drops\n",
    "print(\"VR:\", rlc_series_circuit.format_phasor(VR))\n",
    "print(\"VL:\", rlc_series_circuit.format_phasor(VL))\n",
    "print(\"VC:\", rlc_series_circuit.format_phasor(VC))\n",
    "print(\"Power factor:\", round(rlc_series_circuit.power_factor, 2), \"lagging\")\n",
    "print()"
   ]
  },
  {
   "cell_type": "code",
   "execution_count": 99,
   "id": "8b3f36c2-9336-4c91-a61a-fee18c3a80fd",
   "metadata": {},
   "outputs": [
    {
     "name": "stdout",
     "output_type": "stream",
     "text": [
      "RC Parallel Circuit:\n",
      "Impedance (Z): 9.36∠-20.65°\n",
      "Current (I): 2.14∠20.65°\n",
      "Power factor: 0.94 lagging\n",
      "\n"
     ]
    }
   ],
   "source": [
    "print(\"RC Parallel Circuit:\")\n",
    "print(\"Impedance (Z):\", rc_parallel_circuit.format_phasor(rc_parallel_circuit.impedance))\n",
    "print(\"Current (I):\", rc_parallel_circuit.format_phasor(rc_parallel_circuit.current))\n",
    "print(\"Power factor:\", round(rc_parallel_circuit.power_factor, 2), \"lagging\")\n",
    "print()"
   ]
  },
  {
   "cell_type": "code",
   "execution_count": 101,
   "id": "59b8ca84-966a-49ea-a6d0-7a52b158ad08",
   "metadata": {},
   "outputs": [
    {
     "name": "stdout",
     "output_type": "stream",
     "text": [
      "RL Parallel Circuit:\n",
      "Impedance (Z): 9.67∠14.86°\n",
      "Current (I): 2.07∠-14.86°\n",
      "Power factor: 0.97 lagging\n",
      "\n"
     ]
    }
   ],
   "source": [
    "print(\"RL Parallel Circuit:\")\n",
    "print(\"Impedance (Z):\", rl_parallel_circuit.format_phasor(rl_parallel_circuit.impedance))\n",
    "print(\"Current (I):\", rl_parallel_circuit.format_phasor(rl_parallel_circuit.current))\n",
    "print(\"Power factor:\", round(rl_parallel_circuit.power_factor, 2), \"lagging\")\n",
    "print()"
   ]
  },
  {
   "cell_type": "code",
   "execution_count": 103,
   "id": "96d2bae8-a1da-4766-8009-2d15b2c4f4b6",
   "metadata": {},
   "outputs": [
    {
     "name": "stdout",
     "output_type": "stream",
     "text": [
      "RLC Parallel Circuit:\n",
      "Impedance (Z): 9.94∠-6.37°\n",
      "Current (I): 2.01∠6.37°\n",
      "Power factor: 0.99 lagging\n"
     ]
    }
   ],
   "source": [
    "print(\"RLC Parallel Circuit:\")\n",
    "print(\"Impedance (Z):\", rlc_parallel_circuit.format_phasor(rlc_parallel_circuit.impedance))\n",
    "print(\"Current (I):\", rlc_parallel_circuit.format_phasor(rlc_parallel_circuit.current))\n",
    "print(\"Power factor:\", round(rlc_parallel_circuit.power_factor, 2), \"lagging\")\n"
   ]
  },
  {
   "cell_type": "markdown",
   "id": "bfd3616e-4dbc-43f3-98c7-19e2f91de030",
   "metadata": {},
   "source": [
    "# PREPARED BY SHEHWAR MUHAMMAD"
   ]
  },
  {
   "cell_type": "code",
   "execution_count": null,
   "id": "d9edf64d-30ac-4505-9531-be95c25595c5",
   "metadata": {},
   "outputs": [],
   "source": []
  },
  {
   "cell_type": "code",
   "execution_count": null,
   "id": "7ca964b3-957b-4960-80aa-be8817eb3027",
   "metadata": {},
   "outputs": [],
   "source": []
  }
 ],
 "metadata": {
  "kernelspec": {
   "display_name": "Python 3 (ipykernel)",
   "language": "python",
   "name": "python3"
  },
  "language_info": {
   "codemirror_mode": {
    "name": "ipython",
    "version": 3
   },
   "file_extension": ".py",
   "mimetype": "text/x-python",
   "name": "python",
   "nbconvert_exporter": "python",
   "pygments_lexer": "ipython3",
   "version": "3.12.4"
  }
 },
 "nbformat": 4,
 "nbformat_minor": 5
}
