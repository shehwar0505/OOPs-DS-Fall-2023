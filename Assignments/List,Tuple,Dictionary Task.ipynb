{
 "cells": [
  {
   "cell_type": "markdown",
   "id": "2676f722-2ce2-4447-9ea6-1ae8e9cc6758",
   "metadata": {},
   "source": [
    "# Task 1:"
   ]
  },
  {
   "cell_type": "code",
   "execution_count": 1,
   "id": "00bac914-ab68-4fc9-8413-4a7e0e7f7fe8",
   "metadata": {},
   "outputs": [
    {
     "name": "stdout",
     "output_type": "stream",
     "text": [
      "['blue', 'orange', 'pink', 'purple', 'red', 'yellow']\n"
     ]
    }
   ],
   "source": [
    "# Step 1: Create the initial list of colors\n",
    "colors = ['red', 'blue', 'green', 'yellow', 'purple']\n",
    "\n",
    "# Step 2: Add two more colors\n",
    "colors.extend(['orange', 'pink'])\n",
    "\n",
    "# Step 3: Remove the color 'green'\n",
    "colors.remove('green')\n",
    "\n",
    "# Step 4: Sort the list alphabetically\n",
    "colors.sort()\n",
    "\n",
    "# Print the final list\n",
    "print(colors)\n"
   ]
  },
  {
   "cell_type": "markdown",
   "id": "20d036d0-eece-4618-a68d-46de3b5c09e9",
   "metadata": {},
   "source": [
    "# Task 2:"
   ]
  },
  {
   "cell_type": "code",
   "execution_count": 3,
   "id": "3e4e665c-c1c1-4209-82b7-773cfe75d415",
   "metadata": {},
   "outputs": [
    {
     "name": "stdout",
     "output_type": "stream",
     "text": [
      "Reversed list: [10, 9, 8, 7, 6, 5, 4, 3, 2, 1]\n",
      "Sum of all numbers: 55\n"
     ]
    }
   ],
   "source": [
    "# Step 1: Create a list of numbers from 1 to 10\n",
    "numbers = list(range(1, 11))\n",
    "\n",
    "# Step 2: Reverse the list\n",
    "numbers.reverse()\n",
    "\n",
    "# Step 3: Find the sum of all the numbers in the list\n",
    "total_sum = sum(numbers)\n",
    "\n",
    "# Print the results\n",
    "print(\"Reversed list:\", numbers)\n",
    "print(\"Sum of all numbers:\", total_sum)\n"
   ]
  },
  {
   "cell_type": "markdown",
   "id": "2b071482-d377-4a20-b786-fdf577726b5c",
   "metadata": {},
   "source": [
    "# Task 3:"
   ]
  },
  {
   "cell_type": "code",
   "execution_count": 5,
   "id": "1f012462-2991-4f81-9ccc-f6a4407413d7",
   "metadata": {},
   "outputs": [
    {
     "name": "stdout",
     "output_type": "stream",
     "text": [
      "list1: ['apple', 'banana', 'cherry']\n",
      "list2: ['apple', 'banana', 'cherry']\n"
     ]
    }
   ],
   "source": [
    "# Step 1: Create list1 with three items\n",
    "list1 = ['apple', 'banana', 'cherry']\n",
    "\n",
    "# Step 2: Create list2 by copying all elements from list1\n",
    "list2 = list1[:]  # Using slicing to create a new list\n",
    "\n",
    "# Print the lists\n",
    "print(\"list1:\", list1)\n",
    "print(\"list2:\", list2)\n"
   ]
  },
  {
   "cell_type": "markdown",
   "id": "b46b8f51-db8f-424f-8cb5-449fda1c03d0",
   "metadata": {},
   "source": [
    "# Task 4:"
   ]
  },
  {
   "cell_type": "code",
   "execution_count": 7,
   "id": "5e8f8bcf-a92e-4bff-bf93-153a6e8551fb",
   "metadata": {},
   "outputs": [
    {
     "name": "stdout",
     "output_type": "stream",
     "text": [
      "First three elements: [5, 10, 15]\n",
      "Updated list: [5, 10, 15, 100, 200]\n"
     ]
    }
   ],
   "source": [
    "# Step 1: Create the list of numbers\n",
    "numbers = [5, 10, 15, 20, 25]\n",
    "\n",
    "# Step 2: Use slicing to get the first 3 elements\n",
    "first_three = numbers[:3]\n",
    "\n",
    "# Step 3: Replace the last two numbers with 100 and 200\n",
    "numbers[-2:] = [100, 200]  # Replace last two elements\n",
    "\n",
    "# Print the results\n",
    "print(\"First three elements:\", first_three)\n",
    "print(\"Updated list:\", numbers)\n"
   ]
  },
  {
   "cell_type": "markdown",
   "id": "bc7b7013-49f3-4073-a9c5-8ba1000af0d7",
   "metadata": {},
   "source": [
    "# Task 5:"
   ]
  },
  {
   "cell_type": "code",
   "execution_count": 9,
   "id": "b2e0da1a-c39a-46cb-9d8f-e675e7d8e448",
   "metadata": {},
   "outputs": [
    {
     "name": "stdout",
     "output_type": "stream",
     "text": [
      "Second element: cat\n",
      "Modified tuple: ('dog', 'cat', 'rabbit', 'hamster', 'bird')\n"
     ]
    }
   ],
   "source": [
    "# Step 1: Create the tuple\n",
    "my_tuple = ('dog', 'cat', 'rabbit', 'hamster')\n",
    "\n",
    "# Step 2: Access the second element in the tuple\n",
    "second_element = my_tuple[1]\n",
    "print(\"Second element:\", second_element)\n",
    "\n",
    "# Step 3: Convert the tuple into a list\n",
    "my_list = list(my_tuple)\n",
    "\n",
    "# Step 4: Modify the list by adding 'bird'\n",
    "my_list.append('bird')\n",
    "\n",
    "# Step 5: Convert the list back into a tuple\n",
    "modified_tuple = tuple(my_list)\n",
    "\n",
    "# Print the results\n",
    "print(\"Modified tuple:\", modified_tuple)\n"
   ]
  },
  {
   "cell_type": "markdown",
   "id": "22a239a5-9b4e-40ee-a867-67c4fa05ee6c",
   "metadata": {},
   "source": [
    "# Task 6:"
   ]
  },
  {
   "cell_type": "code",
   "execution_count": 11,
   "id": "cf51215d-4f27-4c3d-b7eb-b149ebc6323f",
   "metadata": {},
   "outputs": [
    {
     "name": "stdout",
     "output_type": "stream",
     "text": [
      "Concatenated tuple (t3): (1, 2, 3, 4, 5, 6)\n",
      "Length of t3: 6\n"
     ]
    }
   ],
   "source": [
    "# Step 1: Create the tuples\n",
    "t1 = (1, 2, 3)\n",
    "t2 = (4, 5, 6)\n",
    "\n",
    "# Step 2: Concatenate t1 and t2 to form a new tuple t3\n",
    "t3 = t1 + t2\n",
    "\n",
    "# Step 3: Find the length of t3\n",
    "length_t3 = len(t3)\n",
    "\n",
    "# Print the results\n",
    "print(\"Concatenated tuple (t3):\", t3)\n",
    "print(\"Length of t3:\", length_t3)\n"
   ]
  },
  {
   "cell_type": "markdown",
   "id": "dbc6b75a-8dc0-44f2-a2fb-5f195fc5947c",
   "metadata": {},
   "source": [
    "# Task 7:"
   ]
  },
  {
   "cell_type": "code",
   "execution_count": 13,
   "id": "4258390b-9127-4658-a9c8-da5029de4a9b",
   "metadata": {},
   "outputs": [
    {
     "name": "stdout",
     "output_type": "stream",
     "text": [
      "Count of number 5: 3\n",
      "Index of number 20: 3\n"
     ]
    }
   ],
   "source": [
    "# Step 1: Create the tuple\n",
    "numbers = (5, 10, 5, 20, 5)\n",
    "\n",
    "# Step 2: Count how many times the number 5 appears in the tuple\n",
    "count_five = numbers.count(5)\n",
    "\n",
    "# Step 3: Find the index of the number 20\n",
    "index_twenty = numbers.index(20)\n",
    "\n",
    "# Print the results\n",
    "print(\"Count of number 5:\", count_five)\n",
    "print(\"Index of number 20:\", index_twenty)\n"
   ]
  },
  {
   "cell_type": "markdown",
   "id": "3df17b89-340f-4f05-91e5-e9817f5d515a",
   "metadata": {},
   "source": [
    "# Task 8:"
   ]
  },
  {
   "cell_type": "code",
   "execution_count": 25,
   "id": "bd81adf2-7dfc-4411-8519-baef8b903d5a",
   "metadata": {},
   "outputs": [
    {
     "name": "stdout",
     "output_type": "stream",
     "text": [
      "{'name': 'Shehwar', 'age': 20, 'job': 'Engineer'}\n"
     ]
    }
   ],
   "source": [
    "# Step 1: Create the dictionary\n",
    "person = {\"name\": \"Shehwar\", \"age\": 19, \"city\": \"Peshawar\"}\n",
    "\n",
    "# Step 2: Add a new key \"job\" with the value \"Engineer\"\n",
    "person[\"job\"] = \"Engineer\"\n",
    "\n",
    "# Step 3: Update the \"age\" key to 20\n",
    "person[\"age\"] = 20\n",
    "\n",
    "# Step 4: Remove the \"city\" key\n",
    "del person[\"city\"]\n",
    "\n",
    "# Print the updated dictionary\n",
    "print(person)\n"
   ]
  },
  {
   "cell_type": "markdown",
   "id": "8da1ec74-1ebb-4828-81bd-ebcd4dc7d125",
   "metadata": {},
   "source": [
    "# Task 9:"
   ]
  },
  {
   "cell_type": "code",
   "execution_count": 31,
   "id": "576dca36-15ab-4ed7-a3c2-f7d78562fbfd",
   "metadata": {},
   "outputs": [
    {
     "name": "stdout",
     "output_type": "stream",
     "text": [
      "Price of mango: 120\n",
      "Grapes are not in the dictionary.\n",
      "updated fruit prices: {'apple': 100, 'banana': 40, 'mango': 120, 'orange': 60}\n"
     ]
    }
   ],
   "source": [
    "# Step 1: Create the dictionary\n",
    "fruit_prices = {\"apple\": 100, \"banana\": 40, \"mango\": 120}\n",
    "\n",
    "# Step 2: Print the price of \"mango\"\n",
    "print(\"Price of mango:\", fruit_prices[\"mango\"])\n",
    "\n",
    "# Step 3: Add \"orange\" to the dictionary with a price of 60\n",
    "fruit_prices[\"orange\"] = 60\n",
    "\n",
    "# Step 4: Check if \"grapes\" is in the dictionary\n",
    "if \"grapes\" in fruit_prices:\n",
    "    print(\"Grapes are in the dictionary.\")\n",
    "else:\n",
    "    print(\"Grapes are not in the dictionary.\")\n",
    "    print(\"updated fruit prices:\",fruit_prices)\n"
   ]
  },
  {
   "cell_type": "markdown",
   "id": "0b6496fb-5d50-4d31-86a5-eeac9cfee4a3",
   "metadata": {},
   "source": [
    "# Task 10:"
   ]
  },
  {
   "cell_type": "code",
   "execution_count": 39,
   "id": "ff4e803a-5d92-4257-8475-61168c0c8db9",
   "metadata": {},
   "outputs": [
    {
     "name": "stdout",
     "output_type": "stream",
     "text": [
      "Total number of products: 3\n",
      "updated products: {'Laptop': 75000, 'Phone': 40000, 'Headphones': 3000}\n"
     ]
    }
   ],
   "source": [
    "# Step 1: Create the dictionary\n",
    "products = {'Laptop': 75000, 'Phone': 45000, 'Tablet': 25000}\n",
    "\n",
    "# Step 2: Add a new product 'Headphones' with a price of 3000\n",
    "products['Headphones'] = 3000\n",
    "\n",
    "# Step 3: Update the price of 'Phone' to 40000\n",
    "products['Phone'] = 40000\n",
    "\n",
    "# Step 4: Remove 'Tablet' from the dictionary\n",
    "del products['Tablet']\n",
    "\n",
    "# Step 5: Print the total number of products in the dictionary\n",
    "total_products = len(products)\n",
    "print(\"Total number of products:\", total_products)\n",
    "print(\"updated products:\",products)\n"
   ]
  }
 ],
 "metadata": {
  "kernelspec": {
   "display_name": "Python 3 (ipykernel)",
   "language": "python",
   "name": "python3"
  },
  "language_info": {
   "codemirror_mode": {
    "name": "ipython",
    "version": 3
   },
   "file_extension": ".py",
   "mimetype": "text/x-python",
   "name": "python",
   "nbconvert_exporter": "python",
   "pygments_lexer": "ipython3",
   "version": "3.12.4"
  }
 },
 "nbformat": 4,
 "nbformat_minor": 5
}
