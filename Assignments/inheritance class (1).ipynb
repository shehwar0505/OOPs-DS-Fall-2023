{
 "cells": [
  {
   "cell_type": "markdown",
   "id": "fae089a4-df63-4793-9498-a1ffe42b6088",
   "metadata": {},
   "source": [
    "# Introduction to Inheritance in Python"
   ]
  },
  {
   "cell_type": "markdown",
   "id": "58d13555-6259-4c6b-bc9d-7d14d5687a9a",
   "metadata": {},
   "source": [
    "# Parent Class:"
   ]
  },
  {
   "cell_type": "markdown",
   "id": "f61224f7-9abb-4fce-a5e4-8c0a9b6cc470",
   "metadata": {},
   "source": [
    "# Square:"
   ]
  },
  {
   "cell_type": "code",
   "execution_count": 245,
   "id": "b1857568-d9cb-4b6b-85bc-a11f9fcc5d66",
   "metadata": {},
   "outputs": [],
   "source": [
    "class Square:\n",
    "    def __init__(self, side_length):\n",
    "        self.side_length = side_length\n",
    "    \n",
    "    def area(self):\n",
    "        return self.side_length ** 2\n",
    "    \n",
    "    def perimeter(self):\n",
    "        return 4 * self.side_length\n",
    "    \n",
    "    def __str__(self):\n",
    "        return f\"Square with side length {self.side_length}\"\n",
    "\n",
    "    def __repr__(self):\n",
    "        return f\"Square({self.side_length})\""
   ]
  },
  {
   "cell_type": "markdown",
   "id": "f4f66999-b4a0-49e1-9138-eb3694f1a3b5",
   "metadata": {},
   "source": [
    "# Child Class:"
   ]
  },
  {
   "cell_type": "markdown",
   "id": "a054d26a-79bb-4d65-bd78-1c0d786e012a",
   "metadata": {},
   "source": [
    "# Cube"
   ]
  },
  {
   "cell_type": "code",
   "execution_count": 249,
   "id": "4bc1e2b5-81dc-42a8-a5a5-23a9482646d8",
   "metadata": {},
   "outputs": [],
   "source": [
    "class Cube(Square):\n",
    "    def __init__(self, side_length):\n",
    "        super().__init__(side_length)\n",
    "    \n",
    "    def volume(self):\n",
    "        return self.side_length ** 3\n",
    "    \n",
    "    def surface_area(self):\n",
    "        return 6 * self.side_length ** 2\n",
    "    \n",
    "    def __str__(self):\n",
    "        return f\"Cube with side length {self.side_length}\"\n",
    "\n",
    "    def __repr__(self):\n",
    "        return f\"Cube({self.side_length})\""
   ]
  },
  {
   "cell_type": "markdown",
   "id": "187cba95-0dfc-46d7-ba6c-2750cbef328f",
   "metadata": {},
   "source": [
    "# Instance of Square And Instance of Cube"
   ]
  },
  {
   "cell_type": "code",
   "execution_count": 252,
   "id": "71c69be9-2bd0-4f23-9b64-3dad78da1747",
   "metadata": {},
   "outputs": [
    {
     "name": "stdout",
     "output_type": "stream",
     "text": [
      "Square Area: 4\n",
      "Square Perimeter: 8\n"
     ]
    }
   ],
   "source": [
    "square = Square(2)\n",
    "print(f\"Square Area: {square.area()}\")  \n",
    "print(f\"Square Perimeter: {square.perimeter()}\")  "
   ]
  },
  {
   "cell_type": "code",
   "execution_count": 254,
   "id": "94b17eea-5911-4c9e-9798-cb84937bdcb8",
   "metadata": {},
   "outputs": [
    {
     "name": "stdout",
     "output_type": "stream",
     "text": [
      "Cube Volume: 8\n",
      "Cube Surface Area: 24\n"
     ]
    }
   ],
   "source": [
    "cube = Cube(2)\n",
    "print(f\"Cube Volume: {cube.volume()}\")  \n",
    "print(f\"Cube Surface Area: {cube.surface_area()}\")"
   ]
  },
  {
   "cell_type": "markdown",
   "id": "07e9292d-25e4-4691-b5d2-4885361600a6",
   "metadata": {},
   "source": [
    "# Parent Class:"
   ]
  },
  {
   "cell_type": "markdown",
   "id": "f9ea73db-1018-42bd-8196-07c16ff7d212",
   "metadata": {},
   "source": [
    "# Point 2D"
   ]
  },
  {
   "cell_type": "code",
   "execution_count": 258,
   "id": "691f2954-03ad-4b92-b6ba-36dc333b5799",
   "metadata": {},
   "outputs": [],
   "source": [
    "import math\n",
    "\n",
    "class Point2D:\n",
    "    def __init__(self, x, y):\n",
    "        self.x = x\n",
    "        self.y = y\n",
    "    \n",
    "    def distance_from_origin(self):\n",
    "        return math.sqrt(self.x ** 2 + self.y ** 2)\n",
    "    \n",
    "    def __str__(self):\n",
    "        return f\"Point2D({self.x}, {self.y})\"\n",
    "    \n",
    "    def __repr__(self):\n",
    "        return f\"Point2D({self.x}, {self.y})\""
   ]
  },
  {
   "cell_type": "markdown",
   "id": "0f887eee-cb7d-4658-a897-9ca60747c130",
   "metadata": {},
   "source": [
    "# Child Class:"
   ]
  },
  {
   "cell_type": "markdown",
   "id": "582cabcc-e2d7-496f-840a-b5f45761f4e9",
   "metadata": {},
   "source": [
    "# Point 3D"
   ]
  },
  {
   "cell_type": "code",
   "execution_count": 262,
   "id": "878ef98c-4b47-43aa-8965-aa27b2e018d2",
   "metadata": {},
   "outputs": [],
   "source": [
    "class Point3D(Point2D):\n",
    "    def __init__(self, x, y, z):\n",
    "        super().__init__(x, y)\n",
    "        self.z = z\n",
    "    \n",
    "    def distance_from_origin(self):\n",
    "        return math.sqrt(self.x ** 2 + self.y ** 2 + self.z ** 2)\n",
    "    \n",
    "    def __str__(self):\n",
    "        return f\"Point3D({self.x}, {self.y}, {self.z})\"\n",
    "    \n",
    "    def __repr__(self):\n",
    "        return f\"Point3D({self.x}, {self.y}, {self.z})\"\n"
   ]
  },
  {
   "cell_type": "markdown",
   "id": "f90adebf-75a2-4ae1-8aff-9fe8d935f538",
   "metadata": {},
   "source": [
    "# Instance of Point2D And Point3D"
   ]
  },
  {
   "cell_type": "code",
   "execution_count": 265,
   "id": "0a596785-7557-4ab8-9c35-a595434be3ab",
   "metadata": {},
   "outputs": [
    {
     "name": "stdout",
     "output_type": "stream",
     "text": [
      "2D Point: Point2D(3, 4)\n",
      "Distance from origin (2D): 5.0\n"
     ]
    }
   ],
   "source": [
    "point_2d = Point2D(3, 4)\n",
    "print(f\"2D Point: {str(point_2d)}\")  \n",
    "print(f\"Distance from origin (2D): {point_2d.distance_from_origin()}\")  "
   ]
  },
  {
   "cell_type": "code",
   "execution_count": 267,
   "id": "250bc177-76a2-4c92-9f8d-19ceb6cf2a6a",
   "metadata": {},
   "outputs": [
    {
     "name": "stdout",
     "output_type": "stream",
     "text": [
      "3D Point: Point3D(3, 4, 5)\n",
      "Distance from origin (3D): 7.0710678118654755\n"
     ]
    }
   ],
   "source": [
    "point_3d = Point3D(3, 4, 5)\n",
    "print(f\"3D Point: {str(point_3d)}\")  \n",
    "print(f\"Distance from origin (3D): {point_3d.distance_from_origin()}\")  "
   ]
  },
  {
   "cell_type": "markdown",
   "id": "13429d9f-803b-464e-8d2a-2ade520eb30b",
   "metadata": {},
   "source": [
    "# Parent Class:"
   ]
  },
  {
   "cell_type": "markdown",
   "id": "5f3fa560-40a1-4419-abbd-b53c82d032fe",
   "metadata": {},
   "source": [
    "# RL"
   ]
  },
  {
   "cell_type": "code",
   "execution_count": 271,
   "id": "1b71b661-d370-4af5-94d8-7a2740683711",
   "metadata": {},
   "outputs": [],
   "source": [
    "import math\n",
    "\n",
    "class RL:\n",
    "    def __init__(self, R, L):\n",
    "        self.R = R\n",
    "        self.L = L\n",
    "    \n",
    "    def impedance(self, frequency):\n",
    "        return math.sqrt(self.R ** 2 + (2 * math.pi * frequency * self.L) ** 2)\n",
    "    \n",
    "    def resonant_frequency(self):\n",
    "        return self.R / (2 * math.pi * self.L)\n",
    "    \n",
    "    def __str__(self):\n",
    "        return f\"RL Circuit with R={self.R} Ohms and L={self.L} Henry\"\n",
    "    \n",
    "    def __repr__(self):\n",
    "        return f\"RL(R={self.R}, L={self.L})\""
   ]
  },
  {
   "cell_type": "markdown",
   "id": "a0257af1-320e-45ef-9d13-5522e4df123e",
   "metadata": {},
   "source": [
    "# Child Class:"
   ]
  },
  {
   "cell_type": "markdown",
   "id": "50a4eefd-e418-4a5f-9d6d-ef1c5116003a",
   "metadata": {},
   "source": [
    "# RLC"
   ]
  },
  {
   "cell_type": "code",
   "execution_count": 275,
   "id": "950b43cf-5420-45d5-8e9b-3cf8871a3b2e",
   "metadata": {},
   "outputs": [],
   "source": [
    "class RLC(RL):\n",
    "    def __init__(self, R, L, C):\n",
    "        super().__init__(R, L)\n",
    "        self.C = C\n",
    "    \n",
    "    def impedance(self, frequency):\n",
    "        return math.sqrt(self.R ** 2 + (2 * math.pi * frequency * self.L) ** 2 + (1 / (2 * math.pi * frequency * self.C)) ** 2)\n",
    "    \n",
    "    def resonant_frequency(self):\n",
    "        return 1 / (2 * math.pi * math.sqrt(self.L * self.C))\n",
    "    \n",
    "    def __str__(self):\n",
    "        return f\"RLC Circuit with R={self.R} Ohms, L={self.L} Henry, and C={self.C} Farads\"\n",
    "    \n",
    "    def __repr__(self):\n",
    "        return f\"RLC(R={self.R}, L={self.L}, C={self.C})\""
   ]
  },
  {
   "cell_type": "markdown",
   "id": "f6e506df-b6a9-494c-bb22-8bf6cf89bc9a",
   "metadata": {},
   "source": [
    "# Instance of RL And RLC circuit"
   ]
  },
  {
   "cell_type": "code",
   "execution_count": 278,
   "id": "bf9d9c1f-b417-43f3-b0d9-2184c8e75dbc",
   "metadata": {},
   "outputs": [
    {
     "name": "stdout",
     "output_type": "stream",
     "text": [
      "RL Circuit Impedance at 50 Hz: 18.620958891185868 Ohms\n",
      "RL Circuit Resonant Frequency: 31.830988618379067 Hz\n"
     ]
    }
   ],
   "source": [
    "rl_circuit = RL(10, 0.05)  \n",
    "frequency = 50 \n",
    "print(f\"RL Circuit Impedance at {frequency} Hz: {rl_circuit.impedance(frequency)} Ohms\")\n",
    "print(f\"RL Circuit Resonant Frequency: {rl_circuit.resonant_frequency()} Hz\")"
   ]
  },
  {
   "cell_type": "code",
   "execution_count": 280,
   "id": "e85ba034-9d83-4654-99c5-f9a7ac6ceae5",
   "metadata": {},
   "outputs": [
    {
     "name": "stdout",
     "output_type": "stream",
     "text": [
      "RLC Circuit Impedance at 50 Hz: 36.87752630601206 Ohms\n",
      "RLC Circuit Resonant Frequency: 71.1762543417177 Hz\n"
     ]
    }
   ],
   "source": [
    "rlc_circuit = RLC(10, 0.05, 0.0001)  \n",
    "print(f\"RLC Circuit Impedance at {frequency} Hz: {rlc_circuit.impedance(frequency)} Ohms\")\n",
    "print(f\"RLC Circuit Resonant Frequency: {rlc_circuit.resonant_frequency()} Hz\")"
   ]
  },
  {
   "cell_type": "markdown",
   "id": "e4d974b2-8206-4feb-8752-6346e0045765",
   "metadata": {},
   "source": [
    "# Parent Class:"
   ]
  },
  {
   "cell_type": "markdown",
   "id": "8491a3e9-b128-47d5-b7f3-76dc7f8905cc",
   "metadata": {},
   "source": [
    "# Vehicle"
   ]
  },
  {
   "cell_type": "code",
   "execution_count": 284,
   "id": "b725fc8c-3400-4c50-bcfd-911eeff18a3a",
   "metadata": {},
   "outputs": [],
   "source": [
    "class Vehicle:\n",
    "    def __init__(self, brand, model, year):\n",
    "        self.brand = brand\n",
    "        self.model = model\n",
    "        self.year = year\n",
    "    \n",
    "    def get_info(self):\n",
    "        return f\"Vehicle Info: {self.year} {self.brand} {self.model}\"\n",
    "    \n",
    "    def start(self):\n",
    "        return \"The vehicle is starting.\"\n",
    "    \n",
    "    def stop(self):\n",
    "        return \"The vehicle is stopping.\""
   ]
  },
  {
   "cell_type": "markdown",
   "id": "38780f2f-4260-423b-ad5b-7894aa12b78b",
   "metadata": {},
   "source": [
    "# Child Class:"
   ]
  },
  {
   "cell_type": "markdown",
   "id": "71d89d88-9954-4399-a7ee-f1d0556b7a80",
   "metadata": {},
   "source": [
    "# Car"
   ]
  },
  {
   "cell_type": "code",
   "execution_count": 288,
   "id": "9d7672eb-468b-43f2-99dc-7e6312a37741",
   "metadata": {},
   "outputs": [],
   "source": [
    "class Car(Vehicle):\n",
    "    def __init__(self, brand, model, year, num_doors):\n",
    "        super().__init__(brand, model, year)\n",
    "        self.num_doors = num_doors\n",
    "    \n",
    "    def get_info(self):\n",
    "        return f\"Car Info: {self.year} {self.brand} {self.model} with {self.num_doors} doors.\""
   ]
  },
  {
   "cell_type": "markdown",
   "id": "34e49355-702a-449b-ad7a-9573cc52d782",
   "metadata": {},
   "source": [
    "# Bike"
   ]
  },
  {
   "cell_type": "code",
   "execution_count": 291,
   "id": "8e75da1c-5bb6-4294-a845-2be426c34d79",
   "metadata": {},
   "outputs": [],
   "source": [
    "class Bike(Vehicle):\n",
    "    def __init__(self, brand, model, year, has_helmet):\n",
    "        super().__init__(brand, model, year)\n",
    "        self.has_helmet = has_helmet\n",
    "    \n",
    "    def get_info(self):\n",
    "        helmet_info = \"has a helmet\" if self.has_helmet else \"does not have a helmet\"\n",
    "        return f\"Bike Info: {self.year} {self.brand} {self.model} and {helmet_info}.\"\n"
   ]
  },
  {
   "cell_type": "markdown",
   "id": "3dc0ae68-190e-461f-824e-4c1018a62534",
   "metadata": {},
   "source": [
    "# instances of each class"
   ]
  },
  {
   "cell_type": "code",
   "execution_count": 294,
   "id": "7e08aa54-7507-47f3-8a86-f70a6894a9b0",
   "metadata": {},
   "outputs": [
    {
     "name": "stdout",
     "output_type": "stream",
     "text": [
      "Car Info: 2022 Toyota Camry with 4 doors.\n",
      "The vehicle is starting.\n",
      "Bike Info: 2021 Yamaha YZF-R3 and has a helmet.\n",
      "The vehicle is stopping.\n"
     ]
    }
   ],
   "source": [
    "my_car = Car(\"Toyota\", \"Camry\", 2022, 4)\n",
    "my_bike = Bike(\"Yamaha\", \"YZF-R3\", 2021, True)\n",
    "\n",
    "print(my_car.get_info())  \n",
    "print(my_car.start())     \n",
    "\n",
    "print(my_bike.get_info())\n",
    "print(my_bike.stop())     "
   ]
  },
  {
   "cell_type": "markdown",
   "id": "5f27d48d-1a5b-4194-b9b9-4959230255b4",
   "metadata": {},
   "source": [
    "# Parent class"
   ]
  },
  {
   "cell_type": "markdown",
   "id": "832c6ffb-ca21-4565-8599-d210f376baaf",
   "metadata": {},
   "source": [
    "# Animal"
   ]
  },
  {
   "cell_type": "code",
   "execution_count": 298,
   "id": "3db0f01a-1b0f-4ffc-ad11-4d928aaf23a2",
   "metadata": {},
   "outputs": [],
   "source": [
    "class Animal:\n",
    "    def __init__(self, species, sound):\n",
    "        self.species = species\n",
    "        self.sound = sound\n",
    "    \n",
    "    def __str__(self):\n",
    "        return f\"{self.species} that makes a '{self.sound}' sound\"\n",
    "    \n",
    "    def __repr__(self):\n",
    "        return f\"Animal(species='{self.species}', sound='{self.sound}')\"\n",
    "    \n",
    "    def make_sound(self):\n",
    "        return f\"The {self.species} makes a '{self.sound}' sound.\""
   ]
  },
  {
   "cell_type": "markdown",
   "id": "e66a200a-8888-44c5-8ea3-ddbbad2d0180",
   "metadata": {},
   "source": [
    "# Child class that inherits from the Animal class"
   ]
  },
  {
   "cell_type": "markdown",
   "id": "90476954-b731-482c-b2a3-c54782ae6323",
   "metadata": {},
   "source": [
    "# Dog"
   ]
  },
  {
   "cell_type": "code",
   "execution_count": 302,
   "id": "7fccd91c-7b04-484f-990d-1cf92a358aa7",
   "metadata": {},
   "outputs": [],
   "source": [
    "class Dog(Animal):\n",
    "    def __init__(self, breed, sound):\n",
    "        super().__init__(\"Dog\", sound)\n",
    "        self.breed = breed\n",
    "    \n",
    "    def __str__(self):\n",
    "        return f\"{self.breed} (Dog) that makes a '{self.sound}' sound\"\n",
    "    \n",
    "    def __repr__(self):\n",
    "        return f\"Dog(breed='{self.breed}', sound='{self.sound}')\"\n",
    "    \n",
    "    def describe(self):\n",
    "        return f\"This dog is a {self.breed}.\""
   ]
  },
  {
   "cell_type": "markdown",
   "id": "eed6b95b-a8b8-454f-a584-106e8760adac",
   "metadata": {},
   "source": [
    "# instances of each class"
   ]
  },
  {
   "cell_type": "code",
   "execution_count": 305,
   "id": "55de0c83-1049-4710-a38d-fc9276ffff20",
   "metadata": {},
   "outputs": [
    {
     "name": "stdout",
     "output_type": "stream",
     "text": [
      "The Dog makes a 'bark' sound.\n",
      "This dog is a Golden Retriever.\n",
      "Golden Retriever (Dog) that makes a 'bark' sound\n",
      "Dog(breed='Golden Retriever', sound='bark')\n"
     ]
    }
   ],
   "source": [
    "my_dog = Dog(\"Golden Retriever\", \"bark\")\n",
    "\n",
    "print(my_dog.make_sound())\n",
    "print(my_dog.describe())     \n",
    "\n",
    "print(str(my_dog))\n",
    "print(repr(my_dog))          \n"
   ]
  },
  {
   "cell_type": "markdown",
   "id": "9ac14d15-57fb-4979-a7bc-b5a7acb92777",
   "metadata": {},
   "source": [
    "# Prepared By SHEHWAR MUHAMMAD"
   ]
  }
 ],
 "metadata": {
  "kernelspec": {
   "display_name": "Python 3 (ipykernel)",
   "language": "python",
   "name": "python3"
  },
  "language_info": {
   "codemirror_mode": {
    "name": "ipython",
    "version": 3
   },
   "file_extension": ".py",
   "mimetype": "text/x-python",
   "name": "python",
   "nbconvert_exporter": "python",
   "pygments_lexer": "ipython3",
   "version": "3.12.4"
  }
 },
 "nbformat": 4,
 "nbformat_minor": 5
}
