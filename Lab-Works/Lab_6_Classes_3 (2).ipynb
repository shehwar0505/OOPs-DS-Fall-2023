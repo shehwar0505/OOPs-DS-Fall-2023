{
 "cells": [
  {
   "cell_type": "markdown",
   "id": "a9862b4b-6f7b-4436-9485-e6d13cad3374",
   "metadata": {},
   "source": [
    "<center><span style=\"color:blue; \n",
    "font-family:Algerian; \n",
    "font-weight:bold;\n",
    "font-size:35px;\">SHEHWAR MUHAMMAD </span></center>"
   ]
  },
  {
   "cell_type": "markdown",
   "id": "86ca65a9-64a4-4cfa-b24c-a4f88b8a6065",
   "metadata": {},
   "source": [
    "# Lab Title:  EE-271 “OOP & Data Structures Lab”  "
   ]
  },
  {
   "cell_type": "markdown",
   "id": "3fcb2b08-8ca3-48bb-9193-8744928b045a",
   "metadata": {},
   "source": [
    "# Lab 6: Classes 3 @property and @property.setter, @property, @ staticmethod and @classmethod"
   ]
  },
  {
   "cell_type": "markdown",
   "id": "0c8ce5f6-fd78-453c-ad00-f53a10a5e418",
   "metadata": {},
   "source": [
    "# Lab Work tasks: \n"
   ]
  },
  {
   "cell_type": "markdown",
   "id": "35bab25f-f143-4b17-ae41-32def0e8a686",
   "metadata": {},
   "source": [
    "# Task No 1:"
   ]
  },
  {
   "cell_type": "markdown",
   "id": "1a7fbc5a-88a5-45c8-8286-6985d527ac74",
   "metadata": {},
   "source": [
    "![](6p1.jpg)"
   ]
  },
  {
   "cell_type": "code",
   "execution_count": 302,
   "id": "4789695d-4778-4c46-bbdc-f3c6d16a1545",
   "metadata": {},
   "outputs": [],
   "source": [
    "import math\n",
    "\n",
    "class Point:\n",
    "    def __init__(self, x: float = 0.0, y: float = 0.0) -> None:\n",
    "        self._x = x\n",
    "        self._y = y\n",
    "\n",
    "    @property\n",
    "    def x(self) -> float:\n",
    "        return self._x\n",
    "\n",
    "    @x.setter\n",
    "    def x(self, value: float) -> None:\n",
    "        self._x = value\n",
    "\n",
    "    @property\n",
    "    def y(self) -> float:\n",
    "        return self._y\n",
    "\n",
    "    @y.setter\n",
    "    def y(self, value: float) -> None:\n",
    "        self._y = value\n",
    "\n",
    "    def distance_to(self, other: 'Point') -> float:\n",
    "        return math.sqrt((self.x - other.x) ** 2 + (self.y - other.y) ** 2)\n",
    "\n",
    "    def distance_from_origin(self) -> float:\n",
    "        return math.sqrt(self.x ** 2 + self.y ** 2)\n",
    "\n",
    "    def locate(self) -> str:\n",
    "        return f\"Point is located at ({self.x}, {self.y})\"\n",
    "\n",
    "    def __repr__(self) -> str:\n",
    "        return f\"Point({self.x}, {self.y})\"\n",
    "\n",
    "    def __str__(self) -> str:\n",
    "        return f\"Point at ({self.x}, {self.y})\"\n",
    "\n",
    "    @staticmethod\n",
    "    def origin() -> 'Point':\n",
    "        return Point(0, 0)\n",
    "\n",
    "    @classmethod\n",
    "    def from_tuple(cls, coord: tuple) -> 'Point':\n",
    "        return cls(*coord)"
   ]
  },
  {
   "cell_type": "code",
   "execution_count": 304,
   "id": "382daa49-0db4-4cc7-9f39-e3a672848c27",
   "metadata": {},
   "outputs": [],
   "source": [
    "# Create instances of the Point class\n",
    "inst_1 = Point(3, 4)\n",
    "inst_2 = Point(6, 8)"
   ]
  },
  {
   "cell_type": "code",
   "execution_count": 306,
   "id": "12bf57af-2fba-48e9-b00f-af42126da335",
   "metadata": {},
   "outputs": [
    {
     "name": "stdout",
     "output_type": "stream",
     "text": [
      "Point at (3, 4)\n",
      "Point at (6, 8)\n"
     ]
    }
   ],
   "source": [
    "# Print instances\n",
    "print(inst_1)\n",
    "print(inst_2)\n"
   ]
  },
  {
   "cell_type": "code",
   "execution_count": 308,
   "id": "a7e7caa2-f4e5-418b-b858-80ae433ab231",
   "metadata": {},
   "outputs": [
    {
     "name": "stdout",
     "output_type": "stream",
     "text": [
      "Point is located at (3, 4)\n",
      "Point is located at (6, 8)\n"
     ]
    }
   ],
   "source": [
    "# Print location of both points\n",
    "print(inst_1.locate())\n",
    "print(inst_2.locate())"
   ]
  },
  {
   "cell_type": "code",
   "execution_count": 310,
   "id": "a7a5aac8-df23-420e-b88a-8cbf45d9605c",
   "metadata": {},
   "outputs": [
    {
     "name": "stdout",
     "output_type": "stream",
     "text": [
      "Distance between points: 5.0\n"
     ]
    }
   ],
   "source": [
    "# Calculate distance between two points\n",
    "distance = inst_1.distance_to(inst_2)\n",
    "print(f\"Distance between points: {distance}\")"
   ]
  },
  {
   "cell_type": "code",
   "execution_count": 312,
   "id": "aa68012b-696b-4153-81e4-a094e31f4eac",
   "metadata": {},
   "outputs": [
    {
     "name": "stdout",
     "output_type": "stream",
     "text": [
      "{'__module__': '__main__', '__init__': <function Point.__init__ at 0x000001E7E94099E0>, 'x': <property object at 0x000001E7E939DB20>, 'y': <property object at 0x000001E7E939D120>, 'distance_to': <function Point.distance_to at 0x000001E7E940A020>, 'distance_from_origin': <function Point.distance_from_origin at 0x000001E7E940A0C0>, 'locate': <function Point.locate at 0x000001E7E940A160>, '__repr__': <function Point.__repr__ at 0x000001E7E940A200>, '__str__': <function Point.__str__ at 0x000001E7E940A2A0>, 'origin': <staticmethod(<function Point.origin at 0x000001E7E940A340>)>, 'from_tuple': <classmethod(<function Point.from_tuple at 0x000001E7E940A3E0>)>, '__dict__': <attribute '__dict__' of 'Point' objects>, '__weakref__': <attribute '__weakref__' of 'Point' objects>, '__doc__': None}\n"
     ]
    }
   ],
   "source": [
    "# Accessing __dict__ by class name\n",
    "print(Point.__dict__)"
   ]
  },
  {
   "cell_type": "code",
   "execution_count": 314,
   "id": "a0efbf58-7168-406b-95b0-20ee0f957d5f",
   "metadata": {},
   "outputs": [
    {
     "name": "stdout",
     "output_type": "stream",
     "text": [
      "{'__module__': '__main__', '__init__': <function Point.__init__ at 0x000001E7E94099E0>, 'x': <property object at 0x000001E7E939DB20>, 'y': <property object at 0x000001E7E939D120>, 'distance_to': <function Point.distance_to at 0x000001E7E940A020>, 'distance_from_origin': <function Point.distance_from_origin at 0x000001E7E940A0C0>, 'locate': <function Point.locate at 0x000001E7E940A160>, '__repr__': <function Point.__repr__ at 0x000001E7E940A200>, '__str__': <function Point.__str__ at 0x000001E7E940A2A0>, 'origin': <staticmethod(<function Point.origin at 0x000001E7E940A340>)>, 'from_tuple': <classmethod(<function Point.from_tuple at 0x000001E7E940A3E0>)>, '__dict__': <attribute '__dict__' of 'Point' objects>, '__weakref__': <attribute '__weakref__' of 'Point' objects>, '__doc__': None}\n"
     ]
    }
   ],
   "source": [
    "# Using vars() built-in function\n",
    "print(vars(Point))"
   ]
  },
  {
   "cell_type": "code",
   "execution_count": 316,
   "id": "54298fa6-25e0-4e50-8542-eba713f212a2",
   "metadata": {},
   "outputs": [
    {
     "name": "stdout",
     "output_type": "stream",
     "text": [
      "{'_x': 3, '_y': 4}\n"
     ]
    }
   ],
   "source": [
    "# Calling __dict__ on the object\n",
    "print(vars(inst_1))"
   ]
  },
  {
   "cell_type": "code",
   "execution_count": 318,
   "id": "4d5e766e-be86-4829-8da7-ae02287ae100",
   "metadata": {},
   "outputs": [
    {
     "name": "stdout",
     "output_type": "stream",
     "text": [
      "Help on class Point in module __main__:\n",
      "\n",
      "class Point(builtins.object)\n",
      " |  Point(x: float = 0.0, y: float = 0.0) -> None\n",
      " |\n",
      " |  Methods defined here:\n",
      " |\n",
      " |  __init__(self, x: float = 0.0, y: float = 0.0) -> None\n",
      " |      Initialize self.  See help(type(self)) for accurate signature.\n",
      " |\n",
      " |  __repr__(self) -> str\n",
      " |      Return repr(self).\n",
      " |\n",
      " |  __str__(self) -> str\n",
      " |      Return str(self).\n",
      " |\n",
      " |  distance_from_origin(self) -> float\n",
      " |\n",
      " |  distance_to(self, other: 'Point') -> float\n",
      " |\n",
      " |  locate(self) -> str\n",
      " |\n",
      " |  ----------------------------------------------------------------------\n",
      " |  Class methods defined here:\n",
      " |\n",
      " |  from_tuple(coord: tuple) -> 'Point'\n",
      " |\n",
      " |  ----------------------------------------------------------------------\n",
      " |  Static methods defined here:\n",
      " |\n",
      " |  origin() -> 'Point'\n",
      " |\n",
      " |  ----------------------------------------------------------------------\n",
      " |  Data descriptors defined here:\n",
      " |\n",
      " |  __dict__\n",
      " |      dictionary for instance variables\n",
      " |\n",
      " |  __weakref__\n",
      " |      list of weak references to the object\n",
      " |\n",
      " |  x\n",
      " |\n",
      " |  y\n",
      "\n"
     ]
    }
   ],
   "source": [
    "# Help on the class\n",
    "help(Point)"
   ]
  },
  {
   "cell_type": "code",
   "execution_count": 320,
   "id": "f0e52bfd-65cb-4af4-bc45-888cbf9f2ce1",
   "metadata": {},
   "outputs": [
    {
     "name": "stdout",
     "output_type": "stream",
     "text": [
      "None\n",
      "__init__ None\n",
      "{'x': <class 'float'>, 'y': <class 'float'>, 'return': None}\n",
      "distance_to None\n",
      "{'other': 'Point', 'return': <class 'float'>}\n",
      "distance_from_origin None\n",
      "{'return': <class 'float'>}\n",
      "locate None\n",
      "{'return': <class 'str'>}\n",
      "__repr__ None\n",
      "{'return': <class 'str'>}\n",
      "__str__ None\n",
      "{'return': <class 'str'>}\n",
      "origin None\n",
      "{'return': 'Point'}\n",
      "from_tuple None\n",
      "{'coord': <class 'tuple'>, 'return': 'Point'}\n"
     ]
    }
   ],
   "source": [
    "# Print the doc-string and annotations of the class and methods\n",
    "print(Point.__doc__)\n",
    "for method in [Point.__init__, Point.distance_to, Point.distance_from_origin, Point.locate, Point.__repr__, Point.__str__, Point.origin, Point.from_tuple]:\n",
    "    print(method.__name__, method.__doc__)\n",
    "    print(method.__annotations__)"
   ]
  },
  {
   "cell_type": "code",
   "execution_count": 322,
   "id": "31511265-2488-4f54-8a51-0ed53b5f0f57",
   "metadata": {},
   "outputs": [
    {
     "name": "stdout",
     "output_type": "stream",
     "text": [
      "Point at (0.0, 0.0)\n"
     ]
    }
   ],
   "source": [
    "# Verify the modified __init__ with default parameters\n",
    "inst_default = Point()  # uses default parameters\n",
    "print(inst_default)"
   ]
  },
  {
   "cell_type": "markdown",
   "id": "0bfb13ef-7484-41fc-9859-8adcb1fd5738",
   "metadata": {},
   "source": [
    "# Task No 2:"
   ]
  },
  {
   "cell_type": "markdown",
   "id": "6abcce96-c2b9-4815-ba9e-a4454153cc39",
   "metadata": {},
   "source": [
    "![](6p3.jpg)"
   ]
  },
  {
   "cell_type": "code",
   "execution_count": 326,
   "id": "0b979cc5-34dc-4b15-8133-bc9512b6759f",
   "metadata": {},
   "outputs": [],
   "source": [
    "import math\n",
    "\n",
    "class Circle:\n",
    "    def __init__(self, radius: float = 1.0) -> None:\n",
    "        self._radius = radius\n",
    "\n",
    "    @property\n",
    "    def radius(self) -> float:\n",
    "        return self._radius\n",
    "\n",
    "    @radius.setter\n",
    "    def radius(self, value: float) -> None:\n",
    "        self._radius = value\n",
    "\n",
    "    @property\n",
    "    def diameter(self) -> float:\n",
    "        return self.radius * 2\n",
    "\n",
    "    @property\n",
    "    def area(self) -> float:\n",
    "        return math.pi * (self.radius ** 2)\n",
    "\n",
    "    @property\n",
    "    def circumference(self) -> float:\n",
    "        return 2 * math.pi * self.radius\n",
    "\n",
    "    def volume_of_cylinder(self, height: float) -> float:\n",
    "        return self.area * height\n",
    "\n",
    "    def __repr__(self) -> str:\n",
    "        return f\"Circle(radius={self.radius})\"\n",
    "\n",
    "    def __str__(self) -> str:\n",
    "        return f\"Circle with radius {self.radius}\"\n",
    "\n",
    "    @staticmethod\n",
    "    def unit_circle() -> 'Circle':\n",
    "        return Circle(1)\n",
    "\n",
    "    @classmethod\n",
    "    def from_diameter(cls, diameter: float) -> 'Circle':\n",
    "        return cls(diameter / 2)"
   ]
  },
  {
   "cell_type": "code",
   "execution_count": 328,
   "id": "ec8db1ee-93ff-4867-be38-cf1a8b514a92",
   "metadata": {},
   "outputs": [],
   "source": [
    "# Create instances of the Circle class\n",
    "inst_1 = Circle(3)  # radius of 3\n",
    "inst_2 = Circle(5)  # radius of 5\n"
   ]
  },
  {
   "cell_type": "code",
   "execution_count": 330,
   "id": "785a8101-6102-471a-88cb-ea7ca43898d8",
   "metadata": {},
   "outputs": [
    {
     "name": "stdout",
     "output_type": "stream",
     "text": [
      "Circle with radius 3\n",
      "Circle with radius 5\n"
     ]
    }
   ],
   "source": [
    "# Print instances\n",
    "print(inst_1)\n",
    "print(inst_2)\n"
   ]
  },
  {
   "cell_type": "code",
   "execution_count": 332,
   "id": "39bf3730-7b2b-47a1-a3ab-b0c42c04e559",
   "metadata": {},
   "outputs": [
    {
     "name": "stdout",
     "output_type": "stream",
     "text": [
      "Radius of inst_1: 3\n",
      "Diameter of inst_1: 6\n",
      "Area of inst_1: 28.274333882308138\n",
      "Circumference of inst_1: 18.84955592153876\n"
     ]
    }
   ],
   "source": [
    "# Demonstrate property methods\n",
    "print(f\"Radius of inst_1: {inst_1.radius}\")\n",
    "print(f\"Diameter of inst_1: {inst_1.diameter}\")\n",
    "print(f\"Area of inst_1: {inst_1.area}\")\n",
    "print(f\"Circumference of inst_1: {inst_1.circumference}\")\n"
   ]
  },
  {
   "cell_type": "code",
   "execution_count": 334,
   "id": "36c6e781-03ef-4f13-8a3e-7472ab48b12c",
   "metadata": {},
   "outputs": [
    {
     "name": "stdout",
     "output_type": "stream",
     "text": [
      "Circle with radius 1\n",
      "Circle with radius 5.0\n"
     ]
    }
   ],
   "source": [
    "# Demonstrate static and class methods\n",
    "unit_circle = Circle.unit_circle()\n",
    "print(unit_circle)\n",
    "\n",
    "circle_from_diameter = Circle.from_diameter(10)\n",
    "print(circle_from_diameter)"
   ]
  },
  {
   "cell_type": "code",
   "execution_count": 336,
   "id": "684f0eb5-eb6c-4004-8656-7c84b00ffecb",
   "metadata": {},
   "outputs": [
    {
     "name": "stdout",
     "output_type": "stream",
     "text": [
      "Volume of cylinder with radius 3 and height 4: 113.09733552923255\n"
     ]
    }
   ],
   "source": [
    "# Calculate volume of a cylinder using inst_1\n",
    "height = 4\n",
    "volume = inst_1.volume_of_cylinder(height)\n",
    "print(f\"Volume of cylinder with radius {inst_1.radius} and height {height}: {volume}\")\n"
   ]
  },
  {
   "cell_type": "code",
   "execution_count": 338,
   "id": "5f114da7-482d-499b-b601-21b3470dd8cf",
   "metadata": {},
   "outputs": [
    {
     "name": "stdout",
     "output_type": "stream",
     "text": [
      "\n",
      "Class __dict__:\n",
      "{'__module__': '__main__', '__init__': <function Circle.__init__ at 0x000001E7E9409800>, 'radius': <property object at 0x000001E7E767D030>, 'diameter': <property object at 0x000001E7E767C680>, 'area': <property object at 0x000001E7E767C6D0>, 'circumference': <property object at 0x000001E7E767D580>, 'volume_of_cylinder': <function Circle.volume_of_cylinder at 0x000001E7E940AA20>, '__repr__': <function Circle.__repr__ at 0x000001E7E940AAC0>, '__str__': <function Circle.__str__ at 0x000001E7E940AB60>, 'unit_circle': <staticmethod(<function Circle.unit_circle at 0x000001E7E940AC00>)>, 'from_diameter': <classmethod(<function Circle.from_diameter at 0x000001E7E940ACA0>)>, '__dict__': <attribute '__dict__' of 'Circle' objects>, '__weakref__': <attribute '__weakref__' of 'Circle' objects>, '__doc__': None}\n"
     ]
    }
   ],
   "source": [
    "# Accessing __dict__ by class name\n",
    "print(\"\\nClass __dict__:\")\n",
    "print(Circle.__dict__)"
   ]
  },
  {
   "cell_type": "code",
   "execution_count": 340,
   "id": "155e7500-8df0-4dee-821c-aabd7d3b0ffc",
   "metadata": {},
   "outputs": [
    {
     "name": "stdout",
     "output_type": "stream",
     "text": [
      "\n",
      "Vars for Circle class:\n",
      "{'__module__': '__main__', '__init__': <function Circle.__init__ at 0x000001E7E9409800>, 'radius': <property object at 0x000001E7E767D030>, 'diameter': <property object at 0x000001E7E767C680>, 'area': <property object at 0x000001E7E767C6D0>, 'circumference': <property object at 0x000001E7E767D580>, 'volume_of_cylinder': <function Circle.volume_of_cylinder at 0x000001E7E940AA20>, '__repr__': <function Circle.__repr__ at 0x000001E7E940AAC0>, '__str__': <function Circle.__str__ at 0x000001E7E940AB60>, 'unit_circle': <staticmethod(<function Circle.unit_circle at 0x000001E7E940AC00>)>, 'from_diameter': <classmethod(<function Circle.from_diameter at 0x000001E7E940ACA0>)>, '__dict__': <attribute '__dict__' of 'Circle' objects>, '__weakref__': <attribute '__weakref__' of 'Circle' objects>, '__doc__': None}\n"
     ]
    }
   ],
   "source": [
    "# Using vars() built-in function\n",
    "print(\"\\nVars for Circle class:\")\n",
    "print(vars(Circle))"
   ]
  },
  {
   "cell_type": "code",
   "execution_count": 342,
   "id": "ce767dc8-d6c4-48ea-a656-61a0121e0d9c",
   "metadata": {},
   "outputs": [
    {
     "name": "stdout",
     "output_type": "stream",
     "text": [
      "\n",
      "Instance __dict__ for inst_1:\n",
      "{'_radius': 3}\n"
     ]
    }
   ],
   "source": [
    "# Calling __dict__ on the object\n",
    "print(\"\\nInstance __dict__ for inst_1:\")\n",
    "print(vars(inst_1))"
   ]
  },
  {
   "cell_type": "code",
   "execution_count": 344,
   "id": "e1c5a6ac-f1e9-41a9-af4a-7b4556bc8c11",
   "metadata": {},
   "outputs": [
    {
     "name": "stdout",
     "output_type": "stream",
     "text": [
      "\n",
      "Help on Circle class:\n",
      "Help on class Circle in module __main__:\n",
      "\n",
      "class Circle(builtins.object)\n",
      " |  Circle(radius: float = 1.0) -> None\n",
      " |\n",
      " |  Methods defined here:\n",
      " |\n",
      " |  __init__(self, radius: float = 1.0) -> None\n",
      " |      Initialize self.  See help(type(self)) for accurate signature.\n",
      " |\n",
      " |  __repr__(self) -> str\n",
      " |      Return repr(self).\n",
      " |\n",
      " |  __str__(self) -> str\n",
      " |      Return str(self).\n",
      " |\n",
      " |  volume_of_cylinder(self, height: float) -> float\n",
      " |\n",
      " |  ----------------------------------------------------------------------\n",
      " |  Class methods defined here:\n",
      " |\n",
      " |  from_diameter(diameter: float) -> 'Circle'\n",
      " |\n",
      " |  ----------------------------------------------------------------------\n",
      " |  Static methods defined here:\n",
      " |\n",
      " |  unit_circle() -> 'Circle'\n",
      " |\n",
      " |  ----------------------------------------------------------------------\n",
      " |  Readonly properties defined here:\n",
      " |\n",
      " |  area\n",
      " |\n",
      " |  circumference\n",
      " |\n",
      " |  diameter\n",
      " |\n",
      " |  ----------------------------------------------------------------------\n",
      " |  Data descriptors defined here:\n",
      " |\n",
      " |  __dict__\n",
      " |      dictionary for instance variables\n",
      " |\n",
      " |  __weakref__\n",
      " |      list of weak references to the object\n",
      " |\n",
      " |  radius\n",
      "\n"
     ]
    }
   ],
   "source": [
    "# Help on the class\n",
    "print(\"\\nHelp on Circle class:\")\n",
    "help(Circle)"
   ]
  },
  {
   "cell_type": "code",
   "execution_count": 346,
   "id": "6e612694-bed7-45ae-9ea6-71c5646d9157",
   "metadata": {},
   "outputs": [
    {
     "name": "stdout",
     "output_type": "stream",
     "text": [
      "\n",
      "Class Docstring:\n",
      "None\n",
      "\n",
      "Methods and Their Docstrings:\n",
      "\n",
      "__init__:\n",
      "Docstring: None\n",
      "Annotations: {'radius': <class 'float'>, 'return': None}\n",
      "\n",
      "volume_of_cylinder:\n",
      "Docstring: None\n",
      "Annotations: {'height': <class 'float'>, 'return': <class 'float'>}\n",
      "\n",
      "diameter:\n",
      "Docstring: None\n",
      "Annotations: {'return': <class 'float'>}\n",
      "\n",
      "area:\n",
      "Docstring: None\n",
      "Annotations: {'return': <class 'float'>}\n",
      "\n",
      "circumference:\n",
      "Docstring: None\n",
      "Annotations: {'return': <class 'float'>}\n",
      "\n",
      "__repr__:\n",
      "Docstring: None\n",
      "Annotations: {'return': <class 'str'>}\n",
      "\n",
      "__str__:\n",
      "Docstring: None\n",
      "Annotations: {'return': <class 'str'>}\n",
      "\n",
      "unit_circle:\n",
      "Docstring: None\n",
      "Annotations: {'return': 'Circle'}\n",
      "\n",
      "from_diameter:\n",
      "Docstring: None\n",
      "Annotations: {'diameter': <class 'float'>, 'return': 'Circle'}\n"
     ]
    }
   ],
   "source": [
    "# Print doc-strings and annotations of the class and methods\n",
    "print(\"\\nClass Docstring:\")\n",
    "print(Circle.__doc__)\n",
    "\n",
    "print(\"\\nMethods and Their Docstrings:\")\n",
    "for method in [\n",
    "    Circle.__init__,\n",
    "    Circle.volume_of_cylinder,\n",
    "    Circle.diameter.fget,\n",
    "    Circle.area.fget,\n",
    "    Circle.circumference.fget,\n",
    "    Circle.__repr__,\n",
    "    Circle.__str__,\n",
    "    Circle.unit_circle,\n",
    "    Circle.from_diameter,\n",
    "]:\n",
    "    print(f\"\\n{method.__name__}:\")\n",
    "    print(f\"Docstring: {method.__doc__}\")\n",
    "    print(f\"Annotations: {method.__annotations__}\")"
   ]
  },
  {
   "cell_type": "code",
   "execution_count": 348,
   "id": "d96975e0-2dfc-42c0-9a9d-8aed67602cf4",
   "metadata": {},
   "outputs": [
    {
     "name": "stdout",
     "output_type": "stream",
     "text": [
      "\n",
      "Default Circle instance:\n",
      "Circle with radius 1.0\n"
     ]
    }
   ],
   "source": [
    "# Verify modified __init__ with default parameters\n",
    "inst_default = Circle()  # uses default parameters\n",
    "print(\"\\nDefault Circle instance:\")\n",
    "print(inst_default)\n"
   ]
  },
  {
   "cell_type": "markdown",
   "id": "d7754470-572c-4864-96d9-b7ac8100ac66",
   "metadata": {},
   "source": [
    "# Task No 3:"
   ]
  },
  {
   "cell_type": "markdown",
   "id": "609cbfcb-12e5-4896-a290-2c3a6391141a",
   "metadata": {},
   "source": [
    "![](6p4.jpg)"
   ]
  },
  {
   "cell_type": "code",
   "execution_count": 352,
   "id": "8451f677-77af-40d4-acd3-c02d33c95d93",
   "metadata": {},
   "outputs": [],
   "source": [
    "import math\n",
    "\n",
    "class RLC:\n",
    "    def __init__(self, resistance: float = 1.0, inductance: float = 1.0, capacitance: float = 1.0) -> None:\n",
    "        self.resistance = resistance\n",
    "        self.inductance = inductance\n",
    "        self.capacitance = capacitance\n",
    "\n",
    "    @property\n",
    "    def resistance(self) -> float:\n",
    "        return self._resistance\n",
    "\n",
    "    @resistance.setter\n",
    "    def resistance(self, value: float) -> None:\n",
    "        self._resistance = value\n",
    "\n",
    "    @property\n",
    "    def inductance(self) -> float:\n",
    "        return self._inductance\n",
    "\n",
    "    @inductance.setter\n",
    "    def inductance(self, value: float) -> None:\n",
    "        self._inductance = value\n",
    "\n",
    "    @property\n",
    "    def capacitance(self) -> float:\n",
    "        return self._capacitance\n",
    "\n",
    "    @capacitance.setter\n",
    "    def capacitance(self, value: float) -> None:\n",
    "        self._capacitance = value\n",
    "\n",
    "    @property\n",
    "    def impedance(self) -> float:\n",
    "        omega = 2 * math.pi * 60  # Assuming a frequency of 60 Hz\n",
    "        reactance_L = omega * self.inductance\n",
    "        reactance_C = 1 / (omega * self.capacitance)\n",
    "        return math.sqrt(self.resistance**2 + (reactance_L - reactance_C)**2)\n",
    "\n",
    "    @property\n",
    "    def phase(self) -> float:\n",
    "        omega = 2 * math.pi * 60  # Assuming a frequency of 60 Hz\n",
    "        reactance_L = omega * self.inductance\n",
    "        reactance_C = 1 / (omega * self.capacitance)\n",
    "        return math.atan((reactance_L - reactance_C) / self.resistance)\n",
    "\n",
    "    @property\n",
    "    def power_factor(self) -> float:\n",
    "        return math.cos(self.phase)\n",
    "\n",
    "    def current(self, voltage: float) -> float:\n",
    "        return voltage / self.impedance\n",
    "\n",
    "    def __repr__(self) -> str:\n",
    "        return (f\"RLC(resistance={self.resistance}, \"\n",
    "                f\"inductance={self.inductance}, capacitance={self.capacitance})\")\n",
    "\n",
    "    def __str__(self) -> str:\n",
    "        return (f\"RLC Circuit: Resistance = {self.resistance} Ω, \"\n",
    "                f\"Inductance = {self.inductance} H, \"\n",
    "                f\"Capacitance = {self.capacitance} F\")\n",
    "\n",
    "    @staticmethod\n",
    "    def default_circuit() -> 'RLC':\n",
    "        return RLC(1.0, 1.0, 1.0)\n",
    "\n",
    "    @classmethod\n",
    "    def from_components(cls, resistance: float, inductance: float, capacitance: float) -> 'RLC':\n",
    "        return cls(resistance, inductance, capacitance)"
   ]
  },
  {
   "cell_type": "code",
   "execution_count": 354,
   "id": "4d8c363f-48e0-4e2e-b1e4-2616aa781faa",
   "metadata": {},
   "outputs": [],
   "source": [
    "# Create instances of the RLC class\n",
    "inst_1 = RLC(10, 0.1, 0.01)  # Resistance = 10 Ω, Inductance = 0.1 H, Capacitance = 0.01 F\n",
    "inst_2 = RLC(20, 0.2, 0.02)  # Resistance = 20 Ω, Inductance = 0.2 H, Capacitance = 0.02 F\n"
   ]
  },
  {
   "cell_type": "code",
   "execution_count": 356,
   "id": "e974bc4c-f5fd-4d9f-b148-e19ae1097cc4",
   "metadata": {},
   "outputs": [
    {
     "name": "stdout",
     "output_type": "stream",
     "text": [
      "RLC Circuit: Resistance = 10 Ω, Inductance = 0.1 H, Capacitance = 0.01 F\n",
      "RLC Circuit: Resistance = 20 Ω, Inductance = 0.2 H, Capacitance = 0.02 F\n"
     ]
    }
   ],
   "source": [
    "# Print instances\n",
    "print(inst_1)\n",
    "print(inst_2)"
   ]
  },
  {
   "cell_type": "code",
   "execution_count": 358,
   "id": "a0acf5a1-350b-4bd2-8d73-94d563c4d217",
   "metadata": {},
   "outputs": [
    {
     "name": "stdout",
     "output_type": "stream",
     "text": [
      "Impedance of inst_1: 38.75 Ω\n",
      "Phase of inst_1: 1.31 rad\n",
      "Power Factor of inst_1: 0.26\n"
     ]
    }
   ],
   "source": [
    "# Demonstrate property methods\n",
    "print(f\"Impedance of inst_1: {inst_1.impedance:.2f} Ω\")\n",
    "print(f\"Phase of inst_1: {inst_1.phase:.2f} rad\")\n",
    "print(f\"Power Factor of inst_1: {inst_1.power_factor:.2f}\")\n"
   ]
  },
  {
   "cell_type": "code",
   "execution_count": 360,
   "id": "ea7e3231-f1ab-45f2-9260-e50c31696b03",
   "metadata": {},
   "outputs": [
    {
     "name": "stdout",
     "output_type": "stream",
     "text": [
      "Current in inst_1 with 120 V: 3.10 A\n"
     ]
    }
   ],
   "source": [
    "# Calculate current in the circuit\n",
    "voltage = 120  # Voltage in volts\n",
    "current = inst_1.current(voltage)\n",
    "print(f\"Current in inst_1 with {voltage} V: {current:.2f} A\")"
   ]
  },
  {
   "cell_type": "code",
   "execution_count": 362,
   "id": "03a13ca8-fac7-460f-832c-1cd87684129b",
   "metadata": {},
   "outputs": [
    {
     "name": "stdout",
     "output_type": "stream",
     "text": [
      "RLC Circuit: Resistance = 1.0 Ω, Inductance = 1.0 H, Capacitance = 1.0 F\n",
      "RLC Circuit: Resistance = 30 Ω, Inductance = 0.3 H, Capacitance = 0.03 F\n"
     ]
    }
   ],
   "source": [
    "# Demonstrate static and class methods\n",
    "default_circuit = RLC.default_circuit()\n",
    "print(default_circuit)\n",
    "\n",
    "rlc_from_components = RLC.from_components(30, 0.3, 0.03)\n",
    "print(rlc_from_components)\n"
   ]
  },
  {
   "cell_type": "code",
   "execution_count": 364,
   "id": "ef5b38fc-ff01-4619-a7f6-b7fdcc0dedcb",
   "metadata": {},
   "outputs": [
    {
     "name": "stdout",
     "output_type": "stream",
     "text": [
      "\n",
      "Class __dict__:\n",
      "{'__module__': '__main__', '__init__': <function RLC.__init__ at 0x000001E7E9409DA0>, 'resistance': <property object at 0x000001E7E93D95D0>, 'inductance': <property object at 0x000001E7E93D9620>, 'capacitance': <property object at 0x000001E7E93D9490>, 'impedance': <property object at 0x000001E7E93D9580>, 'phase': <property object at 0x000001E7E93D9300>, 'power_factor': <property object at 0x000001E7E93D9530>, 'current': <function RLC.current at 0x000001E7E940B2E0>, '__repr__': <function RLC.__repr__ at 0x000001E7E940B380>, '__str__': <function RLC.__str__ at 0x000001E7E940B420>, 'default_circuit': <staticmethod(<function RLC.default_circuit at 0x000001E7E940B4C0>)>, 'from_components': <classmethod(<function RLC.from_components at 0x000001E7E940B560>)>, '__dict__': <attribute '__dict__' of 'RLC' objects>, '__weakref__': <attribute '__weakref__' of 'RLC' objects>, '__doc__': None}\n"
     ]
    }
   ],
   "source": [
    "# Accessing __dict__ by class name\n",
    "print(\"\\nClass __dict__:\")\n",
    "print(RLC.__dict__)"
   ]
  },
  {
   "cell_type": "code",
   "execution_count": 366,
   "id": "bae3b7f3-7a1d-4aae-94ee-b6c53e7ff95c",
   "metadata": {},
   "outputs": [
    {
     "name": "stdout",
     "output_type": "stream",
     "text": [
      "\n",
      "Vars for RLC class:\n",
      "{'__module__': '__main__', '__init__': <function RLC.__init__ at 0x000001E7E9409DA0>, 'resistance': <property object at 0x000001E7E93D95D0>, 'inductance': <property object at 0x000001E7E93D9620>, 'capacitance': <property object at 0x000001E7E93D9490>, 'impedance': <property object at 0x000001E7E93D9580>, 'phase': <property object at 0x000001E7E93D9300>, 'power_factor': <property object at 0x000001E7E93D9530>, 'current': <function RLC.current at 0x000001E7E940B2E0>, '__repr__': <function RLC.__repr__ at 0x000001E7E940B380>, '__str__': <function RLC.__str__ at 0x000001E7E940B420>, 'default_circuit': <staticmethod(<function RLC.default_circuit at 0x000001E7E940B4C0>)>, 'from_components': <classmethod(<function RLC.from_components at 0x000001E7E940B560>)>, '__dict__': <attribute '__dict__' of 'RLC' objects>, '__weakref__': <attribute '__weakref__' of 'RLC' objects>, '__doc__': None}\n"
     ]
    }
   ],
   "source": [
    "# Using vars() built-in function\n",
    "print(\"\\nVars for RLC class:\")\n",
    "print(vars(RLC))"
   ]
  },
  {
   "cell_type": "code",
   "execution_count": 368,
   "id": "dd5c5215-757b-4cc2-8f75-56c3f9dfe5ec",
   "metadata": {},
   "outputs": [
    {
     "name": "stdout",
     "output_type": "stream",
     "text": [
      "\n",
      "Instance __dict__ for inst_1:\n",
      "{'_resistance': 10, '_inductance': 0.1, '_capacitance': 0.01}\n"
     ]
    }
   ],
   "source": [
    "# Calling __dict__ on the object\n",
    "print(\"\\nInstance __dict__ for inst_1:\")\n",
    "print(vars(inst_1))"
   ]
  },
  {
   "cell_type": "code",
   "execution_count": 370,
   "id": "ab55283b-152b-4321-9a91-5a017d6b0b97",
   "metadata": {},
   "outputs": [
    {
     "name": "stdout",
     "output_type": "stream",
     "text": [
      "\n",
      "Help on RLC class:\n",
      "Help on class RLC in module __main__:\n",
      "\n",
      "class RLC(builtins.object)\n",
      " |  RLC(resistance: float = 1.0, inductance: float = 1.0, capacitance: float = 1.0) -> None\n",
      " |\n",
      " |  Methods defined here:\n",
      " |\n",
      " |  __init__(self, resistance: float = 1.0, inductance: float = 1.0, capacitance: float = 1.0) -> None\n",
      " |      Initialize self.  See help(type(self)) for accurate signature.\n",
      " |\n",
      " |  __repr__(self) -> str\n",
      " |      Return repr(self).\n",
      " |\n",
      " |  __str__(self) -> str\n",
      " |      Return str(self).\n",
      " |\n",
      " |  current(self, voltage: float) -> float\n",
      " |\n",
      " |  ----------------------------------------------------------------------\n",
      " |  Class methods defined here:\n",
      " |\n",
      " |  from_components(resistance: float, inductance: float, capacitance: float) -> 'RLC'\n",
      " |\n",
      " |  ----------------------------------------------------------------------\n",
      " |  Static methods defined here:\n",
      " |\n",
      " |  default_circuit() -> 'RLC'\n",
      " |\n",
      " |  ----------------------------------------------------------------------\n",
      " |  Readonly properties defined here:\n",
      " |\n",
      " |  impedance\n",
      " |\n",
      " |  phase\n",
      " |\n",
      " |  power_factor\n",
      " |\n",
      " |  ----------------------------------------------------------------------\n",
      " |  Data descriptors defined here:\n",
      " |\n",
      " |  __dict__\n",
      " |      dictionary for instance variables\n",
      " |\n",
      " |  __weakref__\n",
      " |      list of weak references to the object\n",
      " |\n",
      " |  capacitance\n",
      " |\n",
      " |  inductance\n",
      " |\n",
      " |  resistance\n",
      "\n"
     ]
    }
   ],
   "source": [
    "# Help on the class\n",
    "print(\"\\nHelp on RLC class:\")\n",
    "help(RLC)"
   ]
  },
  {
   "cell_type": "code",
   "execution_count": 372,
   "id": "9894c589-8b2f-4688-87b4-0fb5f0ab5ef5",
   "metadata": {},
   "outputs": [
    {
     "name": "stdout",
     "output_type": "stream",
     "text": [
      "\n",
      "Class Docstring:\n",
      "None\n",
      "\n",
      "Methods and Their Docstrings:\n",
      "\n",
      "__init__:\n",
      "Docstring: None\n",
      "Annotations: {'resistance': <class 'float'>, 'inductance': <class 'float'>, 'capacitance': <class 'float'>, 'return': None}\n",
      "\n",
      "current:\n",
      "Docstring: None\n",
      "Annotations: {'voltage': <class 'float'>, 'return': <class 'float'>}\n",
      "\n",
      "impedance:\n",
      "Docstring: None\n",
      "Annotations: {'return': <class 'float'>}\n",
      "\n",
      "phase:\n",
      "Docstring: None\n",
      "Annotations: {'return': <class 'float'>}\n",
      "\n",
      "power_factor:\n",
      "Docstring: None\n",
      "Annotations: {'return': <class 'float'>}\n",
      "\n",
      "__repr__:\n",
      "Docstring: None\n",
      "Annotations: {'return': <class 'str'>}\n",
      "\n",
      "__str__:\n",
      "Docstring: None\n",
      "Annotations: {'return': <class 'str'>}\n",
      "\n",
      "default_circuit:\n",
      "Docstring: None\n",
      "Annotations: {'return': 'RLC'}\n",
      "\n",
      "from_components:\n",
      "Docstring: None\n",
      "Annotations: {'resistance': <class 'float'>, 'inductance': <class 'float'>, 'capacitance': <class 'float'>, 'return': 'RLC'}\n"
     ]
    }
   ],
   "source": [
    "# Print doc-strings and annotations of the class and methods\n",
    "print(\"\\nClass Docstring:\")\n",
    "print(RLC.__doc__)\n",
    "\n",
    "print(\"\\nMethods and Their Docstrings:\")\n",
    "for method in [\n",
    "    RLC.__init__,\n",
    "    RLC.current,\n",
    "    RLC.impedance.fget,\n",
    "    RLC.phase.fget,\n",
    "    RLC.power_factor.fget,\n",
    "    RLC.__repr__,\n",
    "    RLC.__str__,\n",
    "    RLC.default_circuit,\n",
    "    RLC.from_components,\n",
    "]:\n",
    "    print(f\"\\n{method.__name__}:\")\n",
    "    print(f\"Docstring: {method.__doc__}\")\n",
    "    print(f\"Annotations: {method.__annotations__}\")"
   ]
  },
  {
   "cell_type": "code",
   "execution_count": 374,
   "id": "d2464eb4-c4e3-428e-894f-9ade6a7e87ee",
   "metadata": {},
   "outputs": [
    {
     "name": "stdout",
     "output_type": "stream",
     "text": [
      "\n",
      "Default RLC instance:\n",
      "RLC Circuit: Resistance = 1.0 Ω, Inductance = 1.0 H, Capacitance = 1.0 F\n"
     ]
    }
   ],
   "source": [
    "# Verify modified __init__ with default parameters\n",
    "inst_default = RLC()  # uses default parameters\n",
    "print(\"\\nDefault RLC instance:\")\n",
    "print(inst_default)"
   ]
  },
  {
   "cell_type": "markdown",
   "id": "76b8c95a-f266-468e-862b-6a47dcae276f",
   "metadata": {},
   "source": [
    "# Task No 4:"
   ]
  },
  {
   "cell_type": "markdown",
   "id": "1e4ef31a-f822-458d-ba9a-3c143630822c",
   "metadata": {},
   "source": [
    "![](6p5.jpg)"
   ]
  },
  {
   "cell_type": "markdown",
   "id": "f2bceb5e-3f54-4a5b-b84c-a12e89c3abce",
   "metadata": {},
   "source": [
    "# (1). Square:"
   ]
  },
  {
   "cell_type": "code",
   "execution_count": 379,
   "id": "2a12f51d-fe19-42b7-8910-dcca48234190",
   "metadata": {},
   "outputs": [],
   "source": [
    "class Square:\n",
    "    def __init__(self, side_length: float = 1.0) -> None:\n",
    "        self.side_length = side_length\n",
    "\n",
    "    @property\n",
    "    def side_length(self) -> float:\n",
    "        return self._side_length\n",
    "\n",
    "    @side_length.setter\n",
    "    def side_length(self, value: float) -> None:\n",
    "        self._side_length = value\n",
    "\n",
    "    @property\n",
    "    def area(self) -> float:\n",
    "        return self.side_length ** 2\n",
    "\n",
    "    @property\n",
    "    def perimeter(self) -> float:\n",
    "        return 4 * self.side_length\n",
    "\n",
    "    def __repr__(self) -> str:\n",
    "        return f\"Square(side_length={self.side_length})\"\n",
    "\n",
    "    def __str__(self) -> str:\n",
    "        return f\"Square with side length {self.side_length}\"\n",
    "\n",
    "    @staticmethod\n",
    "    def unit_square() -> 'Square':\n",
    "        return Square(1.0)\n",
    "\n",
    "    @classmethod\n",
    "    def from_area(cls, area: float) -> 'Square':\n",
    "        return cls(side_length=area ** 0.5)"
   ]
  },
  {
   "cell_type": "code",
   "execution_count": 381,
   "id": "aac5c312-cd1c-47ba-b8bb-2cbb66fb63a4",
   "metadata": {},
   "outputs": [
    {
     "name": "stdout",
     "output_type": "stream",
     "text": [
      "Square with side length 4\n"
     ]
    }
   ],
   "source": [
    "square = Square(4)\n",
    "print(square)"
   ]
  },
  {
   "cell_type": "code",
   "execution_count": 383,
   "id": "a353e003-d09b-4a95-9301-d0662cf2a338",
   "metadata": {},
   "outputs": [
    {
     "name": "stdout",
     "output_type": "stream",
     "text": [
      "Area: 16, Perimeter: 16\n"
     ]
    }
   ],
   "source": [
    "print(f\"Area: {square.area}, Perimeter: {square.perimeter}\")"
   ]
  },
  {
   "cell_type": "markdown",
   "id": "6aff1e73-a456-4530-9450-6ff110b2b5e9",
   "metadata": {},
   "source": [
    "# (2). Rectangle:"
   ]
  },
  {
   "cell_type": "code",
   "execution_count": 386,
   "id": "bf04ffeb-c349-4af5-834f-5c202bbc9921",
   "metadata": {},
   "outputs": [],
   "source": [
    "class Rectangle:\n",
    "    def __init__(self, width: float = 1.0, height: float = 1.0) -> None:\n",
    "        self.width = width\n",
    "        self.height = height\n",
    "\n",
    "    @property\n",
    "    def width(self) -> float:\n",
    "        return self._width\n",
    "\n",
    "    @width.setter\n",
    "    def width(self, value: float) -> None:\n",
    "        self._width = value\n",
    "\n",
    "    @property\n",
    "    def height(self) -> float:\n",
    "        return self._height\n",
    "\n",
    "    @height.setter\n",
    "    def height(self, value: float) -> None:\n",
    "        self._height = value\n",
    "\n",
    "    @property\n",
    "    def area(self) -> float:\n",
    "        return self.width * self.height\n",
    "\n",
    "    @property\n",
    "    def perimeter(self) -> float:\n",
    "        return 2 * (self.width + self.height)\n",
    "\n",
    "    def __repr__(self) -> str:\n",
    "        return f\"Rectangle(width={self.width}, height={self.height})\"\n",
    "\n",
    "    def __str__(self) -> str:\n",
    "        return f\"Rectangle with width {self.width} and height {self.height}\""
   ]
  },
  {
   "cell_type": "code",
   "execution_count": 388,
   "id": "5f34358c-0aa1-40f8-92f7-5ad0be72cec7",
   "metadata": {},
   "outputs": [
    {
     "name": "stdout",
     "output_type": "stream",
     "text": [
      "Rectangle with width 4 and height 5\n"
     ]
    }
   ],
   "source": [
    "rectangle = Rectangle(4, 5)\n",
    "print(rectangle)"
   ]
  },
  {
   "cell_type": "code",
   "execution_count": 390,
   "id": "e869572e-4a04-45a0-848d-afd9a67a4b15",
   "metadata": {},
   "outputs": [
    {
     "name": "stdout",
     "output_type": "stream",
     "text": [
      "Area: 20, Perimeter: 18\n"
     ]
    }
   ],
   "source": [
    "print(f\"Area: {rectangle.area}, Perimeter: {rectangle.perimeter}\")\n"
   ]
  },
  {
   "cell_type": "markdown",
   "id": "86ef9d8d-fe33-4d2f-a9d4-1412fcef552a",
   "metadata": {},
   "source": [
    "# (3). Triangle:"
   ]
  },
  {
   "cell_type": "code",
   "execution_count": 393,
   "id": "db56238e-76ad-46eb-aa12-079edbd9ab71",
   "metadata": {},
   "outputs": [],
   "source": [
    "class Triangle:\n",
    "    def __init__(self, side_a: float = 1.0, side_b: float = 1.0, side_c: float = 1.0) -> None:\n",
    "        self.side_a = side_a\n",
    "        self.side_b = side_b\n",
    "        self.side_c = side_c\n",
    "\n",
    "    @property\n",
    "    def side_a(self) -> float:\n",
    "        return self._side_a\n",
    "\n",
    "    @side_a.setter\n",
    "    def side_a(self, value: float) -> None:\n",
    "        self._side_a = value\n",
    "\n",
    "    @property\n",
    "    def side_b(self) -> float:\n",
    "        return self._side_b\n",
    "\n",
    "    @side_b.setter\n",
    "    def side_b(self, value: float) -> None:\n",
    "        self._side_b = value\n",
    "\n",
    "    @property\n",
    "    def side_c(self) -> float:\n",
    "        return self._side_c\n",
    "\n",
    "    @side_c.setter\n",
    "    def side_c(self, value: float) -> None:\n",
    "        self._side_c = value\n",
    "\n",
    "    @property\n",
    "    def area(self) -> float:\n",
    "        s = (self.side_a + self.side_b + self.side_c) / 2\n",
    "        return (s * (s - self.side_a) * (s - self.side_b) * (s - self.side_c)) ** 0.5\n",
    "\n",
    "    @property\n",
    "    def perimeter(self) -> float:\n",
    "        return self.side_a + self.side_b + self.side_c\n",
    "\n",
    "    def __repr__(self) -> str:\n",
    "        return (f\"Triangle(side_a={self.side_a}, \"\n",
    "                f\"side_b={self.side_b}, side_c={self.side_c})\")\n",
    "\n",
    "    def __str__(self) -> str:\n",
    "        return (f\"Triangle with sides {self.side_a}, {self.side_b}, {self.side_c}\")"
   ]
  },
  {
   "cell_type": "code",
   "execution_count": 395,
   "id": "9d53b32f-f0be-4817-ba7e-b8e3efe092e2",
   "metadata": {},
   "outputs": [
    {
     "name": "stdout",
     "output_type": "stream",
     "text": [
      "Triangle with sides 3, 4, 5\n"
     ]
    }
   ],
   "source": [
    "triangle = Triangle(3, 4, 5)\n",
    "print(triangle)"
   ]
  },
  {
   "cell_type": "code",
   "execution_count": 397,
   "id": "f27715eb-0e9c-4027-a107-4f14ec1bda5d",
   "metadata": {},
   "outputs": [
    {
     "name": "stdout",
     "output_type": "stream",
     "text": [
      "Area: 6.0, Perimeter: 12\n"
     ]
    }
   ],
   "source": [
    "print(f\"Area: {triangle.area}, Perimeter: {triangle.perimeter}\")\n"
   ]
  },
  {
   "cell_type": "markdown",
   "id": "dd641fcb-ff13-491d-9409-f618a777a859",
   "metadata": {},
   "source": [
    "# (4). Trapezoid:"
   ]
  },
  {
   "cell_type": "code",
   "execution_count": 400,
   "id": "172ee8ed-bf07-4219-8283-e3376a47eac5",
   "metadata": {},
   "outputs": [],
   "source": [
    "class Trapezoid:\n",
    "    def __init__(self, base_a: float = 1.0, base_b: float = 1.0, height: float = 1.0) -> None:\n",
    "        self.base_a = base_a\n",
    "        self.base_b = base_b\n",
    "        self.height = height\n",
    "\n",
    "    @property\n",
    "    def base_a(self) -> float:\n",
    "        return self._base_a\n",
    "\n",
    "    @base_a.setter\n",
    "    def base_a(self, value: float) -> None:\n",
    "        self._base_a = value\n",
    "\n",
    "    @property\n",
    "    def base_b(self) -> float:\n",
    "        return self._base_b\n",
    "\n",
    "    @base_b.setter\n",
    "    def base_b(self, value: float) -> None:\n",
    "        self._base_b = value\n",
    "\n",
    "    @property\n",
    "    def height(self) -> float:\n",
    "        return self._height\n",
    "\n",
    "    @height.setter\n",
    "    def height(self, value: float) -> None:\n",
    "        self._height = value\n",
    "\n",
    "    @property\n",
    "    def area(self) -> float:\n",
    "        return ((self.base_a + self.base_b) * self.height) / 2\n",
    "\n",
    "    @property\n",
    "    def perimeter(self) -> float:\n",
    "        raise NotImplementedError(\"Perimeter calculation requires side lengths.\")\n",
    "\n",
    "    def __repr__(self) -> str:\n",
    "        return (f\"Trapezoid(base_a={self.base_a}, \"\n",
    "                f\"base_b={self.base_b}, height={self.height})\")\n",
    "\n",
    "    def __str__(self) -> str:\n",
    "        return (f\"Trapezoid with bases {self.base_a} and {self.base_b}, height {self.height}\")"
   ]
  },
  {
   "cell_type": "code",
   "execution_count": 402,
   "id": "ae8a5265-36aa-47d8-a8d5-cce7b0777bbd",
   "metadata": {},
   "outputs": [
    {
     "name": "stdout",
     "output_type": "stream",
     "text": [
      "Trapezoid with bases 5 and 3, height 4\n"
     ]
    }
   ],
   "source": [
    "trapezoid = Trapezoid(5, 3, 4)\n",
    "print(trapezoid)"
   ]
  },
  {
   "cell_type": "code",
   "execution_count": 404,
   "id": "6d9fb542-0d02-4b7c-817c-79c99b4d706f",
   "metadata": {},
   "outputs": [
    {
     "name": "stdout",
     "output_type": "stream",
     "text": [
      "Area: 16.0\n"
     ]
    }
   ],
   "source": [
    "print(f\"Area: {trapezoid.area}\")"
   ]
  },
  {
   "cell_type": "markdown",
   "id": "5d084ae6-f43a-4c24-ac9b-ad1a24d8d737",
   "metadata": {},
   "source": [
    "# (5). Parallelogram:"
   ]
  },
  {
   "cell_type": "code",
   "execution_count": 407,
   "id": "78b0283a-d281-4217-bd4b-de4ec62db0ff",
   "metadata": {},
   "outputs": [],
   "source": [
    "class Parallelogram:\n",
    "    def __init__(self, base: float = 1.0, height: float = 1.0) -> None:\n",
    "        self.base = base\n",
    "        self.height = height\n",
    "\n",
    "    @property\n",
    "    def base(self) -> float:\n",
    "        return self._base\n",
    "\n",
    "    @base.setter\n",
    "    def base(self, value: float) -> None:\n",
    "        self._base = value\n",
    "\n",
    "    @property\n",
    "    def height(self) -> float:\n",
    "        return self._height\n",
    "\n",
    "    @height.setter\n",
    "    def height(self, value: float) -> None:\n",
    "        self._height = value\n",
    "\n",
    "    @property\n",
    "    def area(self) -> float:\n",
    "        return self.base * self.height\n",
    "\n",
    "    @property\n",
    "    def perimeter(self) -> float:\n",
    "        raise NotImplementedError(\"Perimeter calculation requires side lengths.\")\n",
    "\n",
    "    def __repr__(self) -> str:\n",
    "        return f\"Parallelogram(base={self.base}, height={self.height})\"\n",
    "\n",
    "    def __str__(self) -> str:\n",
    "        return f\"Parallelogram with base {self.base} and height {self.height}\""
   ]
  },
  {
   "cell_type": "code",
   "execution_count": 409,
   "id": "859a5cc4-6f22-426f-82af-efd5eeec3a0a",
   "metadata": {},
   "outputs": [
    {
     "name": "stdout",
     "output_type": "stream",
     "text": [
      "Parallelogram with base 6 and height 4\n"
     ]
    }
   ],
   "source": [
    "parallelogram = Parallelogram(6, 4)\n",
    "print(parallelogram)"
   ]
  },
  {
   "cell_type": "code",
   "execution_count": 411,
   "id": "68594c31-2947-4d85-8586-1beff97710c0",
   "metadata": {},
   "outputs": [
    {
     "name": "stdout",
     "output_type": "stream",
     "text": [
      "Area: 24\n"
     ]
    }
   ],
   "source": [
    "print(f\"Area: {parallelogram.area}\")"
   ]
  },
  {
   "cell_type": "markdown",
   "id": "c2d7a587-a244-44e2-a82c-4c5806c9b1e5",
   "metadata": {},
   "source": [
    "# (6). Rhombus:"
   ]
  },
  {
   "cell_type": "code",
   "execution_count": 414,
   "id": "2b74531b-f006-4ee4-b247-61518b424c7f",
   "metadata": {},
   "outputs": [],
   "source": [
    "class Rhombus:\n",
    "    def __init__(self, side_length: float = 1.0, height: float = 1.0) -> None:\n",
    "        self.side_length = side_length\n",
    "        self.height = height\n",
    "\n",
    "    @property\n",
    "    def side_length(self) -> float:\n",
    "        return self._side_length\n",
    "\n",
    "    @side_length.setter\n",
    "    def side_length(self, value: float) -> None:\n",
    "        self._side_length = value\n",
    "\n",
    "    @property\n",
    "    def height(self) -> float:\n",
    "        return self._height\n",
    "\n",
    "    @height.setter\n",
    "    def height(self, value: float) -> None:\n",
    "        self._height = value\n",
    "\n",
    "    @property\n",
    "    def area(self) -> float:\n",
    "        return self.side_length * self.height\n",
    "\n",
    "    @property\n",
    "    def perimeter(self) -> float:\n",
    "        return 4 * self.side_length\n",
    "\n",
    "    def __repr__(self) -> str:\n",
    "        return f\"Rhombus(side_length={self.side_length}, height={self.height})\"\n",
    "\n",
    "    def __str__(self) -> str:\n",
    "        return f\"Rhombus with side length {self.side_length} and height {self.height}\""
   ]
  },
  {
   "cell_type": "code",
   "execution_count": 416,
   "id": "f4b0e8f3-afeb-48a6-984b-dd6243a7315a",
   "metadata": {},
   "outputs": [
    {
     "name": "stdout",
     "output_type": "stream",
     "text": [
      "Rhombus with side length 5 and height 3\n"
     ]
    }
   ],
   "source": [
    "rhombus = Rhombus(5, 3)\n",
    "print(rhombus)"
   ]
  },
  {
   "cell_type": "code",
   "execution_count": 418,
   "id": "37290d98-7e00-4e91-8062-4f50530aa212",
   "metadata": {},
   "outputs": [
    {
     "name": "stdout",
     "output_type": "stream",
     "text": [
      "Area: 15, Perimeter: 20\n"
     ]
    }
   ],
   "source": [
    "print(f\"Area: {rhombus.area}, Perimeter: {rhombus.perimeter}\")\n"
   ]
  },
  {
   "cell_type": "markdown",
   "id": "f1d26173-ca9b-4edf-9b19-c9352ec85251",
   "metadata": {},
   "source": [
    "# Task No 5:"
   ]
  },
  {
   "cell_type": "markdown",
   "id": "3776436d-b1c8-43a8-8b57-9bfa5600b3f2",
   "metadata": {},
   "source": [
    "![](6p6.jpg)"
   ]
  },
  {
   "cell_type": "markdown",
   "id": "2d910357-78b9-40c8-b79d-18b35dea4c92",
   "metadata": {},
   "source": [
    "# (1). Circuit:"
   ]
  },
  {
   "cell_type": "code",
   "execution_count": 423,
   "id": "ed7db109-d278-4d96-9dec-4c4ec137ae95",
   "metadata": {},
   "outputs": [],
   "source": [
    "class Circuit:\n",
    "    def __init__(self, resistance: float = 1.0) -> None:\n",
    "        self.resistance = resistance\n",
    "\n",
    "    @property\n",
    "    def resistance(self) -> float:\n",
    "        return self._resistance\n",
    "\n",
    "    @resistance.setter\n",
    "    def resistance(self, value: float) -> None:\n",
    "        self._resistance = value\n",
    "\n",
    "    def current(self, voltage: float) -> float:\n",
    "        return voltage / self.resistance\n",
    "\n",
    "    def __repr__(self) -> str:\n",
    "        return f\"Circuit(resistance={self.resistance})\""
   ]
  },
  {
   "cell_type": "code",
   "execution_count": 425,
   "id": "85109724-287b-4be0-a783-94a96bed1570",
   "metadata": {},
   "outputs": [
    {
     "name": "stdout",
     "output_type": "stream",
     "text": [
      "Circuit(resistance=10)\n"
     ]
    }
   ],
   "source": [
    "circuit = Circuit(10)\n",
    "print(circuit)"
   ]
  },
  {
   "cell_type": "code",
   "execution_count": 427,
   "id": "db5ca374-c735-426d-a70e-c46e389dda73",
   "metadata": {},
   "outputs": [
    {
     "name": "stdout",
     "output_type": "stream",
     "text": [
      "Current at 20V: 2.0 A\n"
     ]
    }
   ],
   "source": [
    "print(f\"Current at 20V: {circuit.current(20)} A\")"
   ]
  },
  {
   "cell_type": "markdown",
   "id": "6fff9265-0684-4ff3-8d07-381d4216c76a",
   "metadata": {},
   "source": [
    "# (2). RLCircuit:"
   ]
  },
  {
   "cell_type": "code",
   "execution_count": 430,
   "id": "365136ec-1a7e-44b6-9771-e3fe051c46be",
   "metadata": {},
   "outputs": [],
   "source": [
    "class RLCircuit:\n",
    "    def __init__(self, resistance: float = 1.0, inductance: float = 1.0) -> None:\n",
    "        self.resistance = resistance\n",
    "        self.inductance = inductance\n",
    "\n",
    "    @property\n",
    "    def resistance(self) -> float:\n",
    "        return self._resistance\n",
    "\n",
    "    @resistance.setter\n",
    "    def resistance(self, value: float) -> None:\n",
    "        self._resistance = value\n",
    "\n",
    "    @property\n",
    "    def inductance(self) -> float:\n",
    "        return self._inductance\n",
    "\n",
    "    @inductance.setter\n",
    "    def inductance(self, value: float) -> None:\n",
    "        self._inductance = value\n",
    "\n",
    "    def impedance(self, frequency: float) -> float:\n",
    "        reactance = 2 * 3.14159 * frequency * self.inductance\n",
    "        return (self.resistance**2 + reactance**2) ** 0.5\n",
    "\n",
    "    def current(self, voltage: float, frequency: float) -> float:\n",
    "        return voltage / self.impedance(frequency)\n",
    "\n",
    "    def __repr__(self) -> str:\n",
    "        return f\"RLCircuit(resistance={self.resistance}, inductance={self.inductance})\""
   ]
  },
  {
   "cell_type": "code",
   "execution_count": 432,
   "id": "bfc416c5-98a7-45c5-9387-0c910bbc0d51",
   "metadata": {},
   "outputs": [
    {
     "name": "stdout",
     "output_type": "stream",
     "text": [
      "RLCircuit(resistance=10, inductance=0.5)\n"
     ]
    }
   ],
   "source": [
    "rl_circuit = RLCircuit(10, 0.5)\n",
    "print(rl_circuit)"
   ]
  },
  {
   "cell_type": "code",
   "execution_count": 434,
   "id": "c5e72e8a-7e6a-422d-8b34-519d9b782830",
   "metadata": {},
   "outputs": [
    {
     "name": "stdout",
     "output_type": "stream",
     "text": [
      "Current at 20V, 50Hz: 0.12706683071746344 A\n"
     ]
    }
   ],
   "source": [
    "print(f\"Current at 20V, 50Hz: {rl_circuit.current(20, 50)} A\")"
   ]
  },
  {
   "cell_type": "markdown",
   "id": "c1144193-2cdc-4e45-b7cb-f68605830dca",
   "metadata": {},
   "source": [
    "# (3). RCCircuit:"
   ]
  },
  {
   "cell_type": "code",
   "execution_count": 437,
   "id": "48b4616a-103d-461f-8eb4-9b02e636569d",
   "metadata": {},
   "outputs": [],
   "source": [
    "class RCCircuit:\n",
    "    def __init__(self, resistance: float = 1.0, capacitance: float = 1.0) -> None:\n",
    "        self.resistance = resistance\n",
    "        self.capacitance = capacitance\n",
    "\n",
    "    @property\n",
    "    def resistance(self) -> float:\n",
    "        return self._resistance\n",
    "\n",
    "    @resistance.setter\n",
    "    def resistance(self, value: float) -> None:\n",
    "        self._resistance = value\n",
    "\n",
    "    @property\n",
    "    def capacitance(self) -> float:\n",
    "        return self._capacitance\n",
    "\n",
    "    @capacitance.setter\n",
    "    def capacitance(self, value: float) -> None:\n",
    "        self._capacitance = value\n",
    "\n",
    "    def impedance(self, frequency: float) -> float:\n",
    "        reactance = 1 / (2 * 3.14159 * frequency * self.capacitance)\n",
    "        return (self.resistance**2 + reactance**2) ** 0.5\n",
    "\n",
    "    def current(self, voltage: float, frequency: float) -> float:\n",
    "        return voltage / self.impedance(frequency)\n",
    "\n",
    "    def __repr__(self) -> str:\n",
    "        return f\"RCCircuit(resistance={self.resistance}, capacitance={self.capacitance})\""
   ]
  },
  {
   "cell_type": "code",
   "execution_count": 439,
   "id": "9268c7cd-83c7-4be2-b732-7f237e96192d",
   "metadata": {},
   "outputs": [
    {
     "name": "stdout",
     "output_type": "stream",
     "text": [
      "RCCircuit(resistance=10, capacitance=0.01)\n"
     ]
    }
   ],
   "source": [
    "rc_circuit = RCCircuit(10, 0.01)\n",
    "print(rc_circuit)"
   ]
  },
  {
   "cell_type": "code",
   "execution_count": 441,
   "id": "89a01d6b-4a15-466c-8e60-bc3b7b507f9f",
   "metadata": {},
   "outputs": [
    {
     "name": "stdout",
     "output_type": "stream",
     "text": [
      "Current at 20V, 50Hz: 1.9989875557536696 A\n"
     ]
    }
   ],
   "source": [
    "print(f\"Current at 20V, 50Hz: {rc_circuit.current(20, 50)} A\")\n"
   ]
  },
  {
   "cell_type": "markdown",
   "id": "269d6cb4-2869-423c-bb39-ee9ce3f3a00d",
   "metadata": {},
   "source": [
    "# (4). RLCParallelCircuit:"
   ]
  },
  {
   "cell_type": "code",
   "execution_count": 444,
   "id": "f5c29ee7-b3c6-4f86-bcd4-43142b1a8de9",
   "metadata": {},
   "outputs": [],
   "source": [
    "class RLCParallelCircuit:\n",
    "    def __init__(self, resistance: float = 1.0, inductance: float = 1.0, capacitance: float = 1.0) -> None:\n",
    "        self.resistance = resistance\n",
    "        self.inductance = inductance\n",
    "        self.capacitance = capacitance\n",
    "\n",
    "    @property\n",
    "    def resistance(self) -> float:\n",
    "        return self._resistance\n",
    "\n",
    "    @resistance.setter\n",
    "    def resistance(self, value: float) -> None:\n",
    "        self._resistance = value\n",
    "\n",
    "    @property\n",
    "    def inductance(self) -> float:\n",
    "        return self._inductance\n",
    "\n",
    "    @inductance.setter\n",
    "    def inductance(self, value: float) -> None:\n",
    "        self._inductance = value\n",
    "\n",
    "    @property\n",
    "    def capacitance(self) -> float:\n",
    "        return self._capacitance\n",
    "\n",
    "    @capacitance.setter\n",
    "    def capacitance(self, value: float) -> None:\n",
    "        self._capacitance = value\n",
    "\n",
    "    def impedance(self, frequency: float) -> float:\n",
    "        reactance_L = 2 * 3.14159 * frequency * self.inductance\n",
    "        reactance_C = 1 / (2 * 3.14159 * frequency * self.capacitance)\n",
    "        Z_R = self.resistance\n",
    "        return 1 / ((1 / Z_R) + (1 / reactance_L) + (1 / reactance_C))\n",
    "\n",
    "    def current(self, voltage: float, frequency: float) -> float:\n",
    "        return voltage / self.impedance(frequency)\n",
    "\n",
    "    def __repr__(self) -> str:\n",
    "        return (f\"RLCParallelCircuit(resistance={self.resistance}, \"\n",
    "                f\"inductance={self.inductance}, capacitance={self.capacitance})\")"
   ]
  },
  {
   "cell_type": "code",
   "execution_count": 446,
   "id": "5b89c4f7-7a87-43d3-932a-662dcd0476c2",
   "metadata": {},
   "outputs": [
    {
     "name": "stdout",
     "output_type": "stream",
     "text": [
      "RLCParallelCircuit(resistance=10, inductance=0.5, capacitance=0.01)\n"
     ]
    }
   ],
   "source": [
    "rlc_parallel_circuit = RLCParallelCircuit(10, 0.5, 0.01)\n",
    "print(rlc_parallel_circuit)"
   ]
  },
  {
   "cell_type": "code",
   "execution_count": 448,
   "id": "dc4c734e-e438-408f-890b-738ca141b81f",
   "metadata": {},
   "outputs": [
    {
     "name": "stdout",
     "output_type": "stream",
     "text": [
      "Current at 20V, 50Hz: 64.95912406201955 A\n"
     ]
    }
   ],
   "source": [
    "print(f\"Current at 20V, 50Hz: {rlc_parallel_circuit.current(20, 50)} A\")\n"
   ]
  },
  {
   "cell_type": "markdown",
   "id": "9e570ab3-d85b-4523-8d19-c21a720fb864",
   "metadata": {},
   "source": [
    "# (5). RLCSeriesCircuit:"
   ]
  },
  {
   "cell_type": "code",
   "execution_count": 451,
   "id": "beb485ca-a2c9-4edd-833f-173444f1cedf",
   "metadata": {},
   "outputs": [],
   "source": [
    "class RLCSeriesCircuit:\n",
    "    def __init__(self, resistance: float = 1.0, inductance: float = 1.0, capacitance: float = 1.0) -> None:\n",
    "        self.resistance = resistance\n",
    "        self.inductance = inductance\n",
    "        self.capacitance = capacitance\n",
    "\n",
    "    @property\n",
    "    def resonance_frequency(self) -> float:\n",
    "        return 1 / (2 * 3.14159 * ((self.inductance * self.capacitance) ** 0.5))\n",
    "\n",
    "    def impedance(self, frequency: float) -> float:\n",
    "        reactance_L = 2 * 3.14159 * frequency * self.inductance\n",
    "        reactance_C = 1 / (2 * 3.14159 * frequency * self.capacitance)\n",
    "        return (self.resistance**2 + (reactance_L - reactance_C)**2) ** 0.5\n",
    "\n",
    "    def current(self, voltage: float, frequency: float) -> float:\n",
    "        return voltage / self.impedance(frequency)\n",
    "\n",
    "    def __repr__(self) -> str:\n",
    "        return (f\"RLCSeriesCircuit(resistance={self.resistance}, \"\n",
    "                f\"inductance={self.inductance}, capacitance={self.capacitance})\")"
   ]
  },
  {
   "cell_type": "code",
   "execution_count": 453,
   "id": "f1665df8-c22b-4327-8c1b-0482594f4d6a",
   "metadata": {},
   "outputs": [
    {
     "name": "stdout",
     "output_type": "stream",
     "text": [
      "RLCSeriesCircuit(resistance=10, inductance=0.5, capacitance=0.01)\n"
     ]
    }
   ],
   "source": [
    "rlc_series_circuit = RLCSeriesCircuit(10, 0.5, 0.01)\n",
    "print(rlc_series_circuit)"
   ]
  },
  {
   "cell_type": "code",
   "execution_count": 455,
   "id": "6e3d6722-e1f3-41a6-b05a-0bd248a9045d",
   "metadata": {},
   "outputs": [
    {
     "name": "stdout",
     "output_type": "stream",
     "text": [
      "Resonance Frequency: 2.2507926915560197 Hz\n"
     ]
    }
   ],
   "source": [
    "print(f\"Resonance Frequency: {rlc_series_circuit.resonance_frequency} Hz\")"
   ]
  },
  {
   "cell_type": "markdown",
   "id": "20c1a2d9-ad12-442f-b9ae-9d20841317cd",
   "metadata": {},
   "source": [
    "# (6). RLCParallelResonanceCircuit:"
   ]
  },
  {
   "cell_type": "code",
   "execution_count": 458,
   "id": "466f2a0c-9d63-4f36-9872-65cea57514f8",
   "metadata": {},
   "outputs": [],
   "source": [
    "class RLCParallelResonanceCircuit(RLCParallelCircuit):\n",
    "    @property\n",
    "    def resonance_frequency(self) -> float:\n",
    "        return 1 / (2 * 3.14159 * ((self.inductance * self.capacitance) ** 0.5))"
   ]
  },
  {
   "cell_type": "code",
   "execution_count": 460,
   "id": "62f5fe88-0da5-4df1-8ad7-9fe0d73a4a50",
   "metadata": {},
   "outputs": [
    {
     "name": "stdout",
     "output_type": "stream",
     "text": [
      "RLCParallelCircuit(resistance=10, inductance=0.5, capacitance=0.01)\n"
     ]
    }
   ],
   "source": [
    "rlc_parallel_resonance_circuit = RLCParallelResonanceCircuit(10, 0.5, 0.01)\n",
    "print(rlc_parallel_resonance_circuit)"
   ]
  },
  {
   "cell_type": "code",
   "execution_count": 462,
   "id": "cdde6183-62fb-4fee-9000-4deef59814df",
   "metadata": {},
   "outputs": [
    {
     "name": "stdout",
     "output_type": "stream",
     "text": [
      "Resonance Frequency: 2.2507926915560197 Hz\n"
     ]
    }
   ],
   "source": [
    "print(f\"Resonance Frequency: {rlc_parallel_resonance_circuit.resonance_frequency} Hz\")\n"
   ]
  },
  {
   "cell_type": "markdown",
   "id": "238f2783-0536-4d7f-ad4e-9bd16df5d44e",
   "metadata": {},
   "source": [
    "# LAB: 6 COMPLETED By NAME: SHEHWAR MUHAMMAD REG NO: 23JZELE0505 SECTI0N: A"
   ]
  }
 ],
 "metadata": {
  "kernelspec": {
   "display_name": "Python 3 (ipykernel)",
   "language": "python",
   "name": "python3"
  },
  "language_info": {
   "codemirror_mode": {
    "name": "ipython",
    "version": 3
   },
   "file_extension": ".py",
   "mimetype": "text/x-python",
   "name": "python",
   "nbconvert_exporter": "python",
   "pygments_lexer": "ipython3",
   "version": "3.12.4"
  }
 },
 "nbformat": 4,
 "nbformat_minor": 5
}
