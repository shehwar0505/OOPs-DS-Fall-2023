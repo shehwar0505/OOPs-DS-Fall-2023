{
 "cells": [
  {
   "cell_type": "markdown",
   "id": "3bec622a-e0d1-47ee-9b58-d9ddddfb3af8",
   "metadata": {},
   "source": [
    "# Lab 5: Classes2 _repr_and str"
   ]
  },
  {
   "cell_type": "markdown",
   "id": "491b6282-41ab-4201-8db3-6bb97713a405",
   "metadata": {},
   "source": [
    "# Lab Title: EE-271 “OOP & Data Structures Lab”"
   ]
  },
  {
   "cell_type": "markdown",
   "id": "065bfd3e-2e08-4d0f-a57b-af60d14bf251",
   "metadata": {},
   "source": [
    "# Lab Work tasks\n"
   ]
  },
  {
   "cell_type": "code",
   "execution_count": 150,
   "id": "9f01ed86-b81a-44a2-92fb-93c3b1da2abf",
   "metadata": {},
   "outputs": [],
   "source": [
    "import math\n",
    "\n",
    "class Point:\n",
    "    \n",
    "    def __init__(self, x: float = 0.0, y: float = 0.0):\n",
    "        self.x = x\n",
    "        self.y = y\n",
    "\n",
    "    def distance_to(self, other: 'Point') -> float:\n",
    "        return math.sqrt((self.x - other.x) ** 2 + (self.y - other.y) ** 2)\n",
    "\n",
    "    def distance_from_origin(self) -> float:\n",
    "        return math.sqrt(self.x ** 2 + self.y ** 2)\n",
    "\n",
    "    def locate(self) -> str:\n",
    "        return f\"Point coordinates: ({self.x}, {self.y})\"\n",
    "\n",
    "    def __repr__(self) -> str:\n",
    "        return f\"Point({self.x}, {self.y})\"\n",
    "\n",
    "    def __str__(self) -> str:\n",
    "        return f\"Point at ({self.x}, {self.y})\"\n"
   ]
  },
  {
   "cell_type": "code",
   "execution_count": 152,
   "id": "fd330223-ad12-4f16-9070-6ac124097286",
   "metadata": {},
   "outputs": [],
   "source": [
    "# Creating instances of the Point class\n",
    "inst_1 = Point(3, 4)\n",
    "inst_2 = Point(6, 8)\n"
   ]
  },
  {
   "cell_type": "code",
   "execution_count": 154,
   "id": "d5db9652-1f44-40cb-8e07-7a001051733c",
   "metadata": {},
   "outputs": [
    {
     "name": "stdout",
     "output_type": "stream",
     "text": [
      "Point at (3, 4)\n",
      "Point at (6, 8)\n"
     ]
    }
   ],
   "source": [
    "# Printing the instances\n",
    "print(inst_1)\n",
    "print(inst_2)"
   ]
  },
  {
   "cell_type": "code",
   "execution_count": 156,
   "id": "5d7760fa-e02c-4ac5-a1b1-1c8210f5dec5",
   "metadata": {},
   "outputs": [
    {
     "name": "stdout",
     "output_type": "stream",
     "text": [
      "Point coordinates: (3, 4)\n",
      "Point coordinates: (6, 8)\n"
     ]
    }
   ],
   "source": [
    "# Printing the location of both points\n",
    "print(inst_1.locate())\n",
    "print(inst_2.locate())\n"
   ]
  },
  {
   "cell_type": "code",
   "execution_count": 158,
   "id": "45f5b6bf-5bb7-44ae-b5e7-fcc943de44dc",
   "metadata": {},
   "outputs": [
    {
     "name": "stdout",
     "output_type": "stream",
     "text": [
      "Distance between inst_1 and inst_2: 5.0\n"
     ]
    }
   ],
   "source": [
    "# Calculating the distance between the two points\n",
    "distance = inst_1.distance_to(inst_2)\n",
    "print(f\"Distance between inst_1 and inst_2: {distance}\")\n"
   ]
  },
  {
   "cell_type": "code",
   "execution_count": 160,
   "id": "87e0f930-3f51-4fa8-b83f-f910ac3485a8",
   "metadata": {},
   "outputs": [
    {
     "name": "stdout",
     "output_type": "stream",
     "text": [
      "{'__module__': '__main__', '__init__': <function Point.__init__ at 0x000001E36EAF5940>, 'distance_to': <function Point.distance_to at 0x000001E36EAF7420>, 'distance_from_origin': <function Point.distance_from_origin at 0x000001E36EAF51C0>, 'locate': <function Point.locate at 0x000001E36EAF5F80>, '__repr__': <function Point.__repr__ at 0x000001E36EAF4400>, '__str__': <function Point.__str__ at 0x000001E36EAF68E0>, '__dict__': <attribute '__dict__' of 'Point' objects>, '__weakref__': <attribute '__weakref__' of 'Point' objects>, '__doc__': None}\n"
     ]
    }
   ],
   "source": [
    "# Accessing the __dict__ attribute by class name\n",
    "print(Point.__dict__)"
   ]
  },
  {
   "cell_type": "code",
   "execution_count": 162,
   "id": "e3a8e969-a448-48c2-8593-2742cc6cb341",
   "metadata": {},
   "outputs": [
    {
     "name": "stdout",
     "output_type": "stream",
     "text": [
      "{'__module__': '__main__', '__init__': <function Point.__init__ at 0x000001E36EAF5940>, 'distance_to': <function Point.distance_to at 0x000001E36EAF7420>, 'distance_from_origin': <function Point.distance_from_origin at 0x000001E36EAF51C0>, 'locate': <function Point.locate at 0x000001E36EAF5F80>, '__repr__': <function Point.__repr__ at 0x000001E36EAF4400>, '__str__': <function Point.__str__ at 0x000001E36EAF68E0>, '__dict__': <attribute '__dict__' of 'Point' objects>, '__weakref__': <attribute '__weakref__' of 'Point' objects>, '__doc__': None}\n"
     ]
    }
   ],
   "source": [
    "# Using vars() built-in function\n",
    "print(vars(Point))"
   ]
  },
  {
   "cell_type": "code",
   "execution_count": 164,
   "id": "9ed5d1c0-7a79-4058-ab47-a6716dedc4aa",
   "metadata": {},
   "outputs": [
    {
     "name": "stdout",
     "output_type": "stream",
     "text": [
      "{'x': 3, 'y': 4}\n"
     ]
    }
   ],
   "source": [
    "# Accessing the __dict__ on the object of the class\n",
    "print(inst_1.__dict__)"
   ]
  },
  {
   "cell_type": "code",
   "execution_count": 166,
   "id": "cda7cdf6-47e8-4147-bdda-604d4820c337",
   "metadata": {},
   "outputs": [
    {
     "name": "stdout",
     "output_type": "stream",
     "text": [
      "Help on class Point in module __main__:\n",
      "\n",
      "class Point(builtins.object)\n",
      " |  Point(x: float = 0.0, y: float = 0.0)\n",
      " |\n",
      " |  Methods defined here:\n",
      " |\n",
      " |  __init__(self, x: float = 0.0, y: float = 0.0)\n",
      " |      Initialize self.  See help(type(self)) for accurate signature.\n",
      " |\n",
      " |  __repr__(self) -> str\n",
      " |      Return repr(self).\n",
      " |\n",
      " |  __str__(self) -> str\n",
      " |      Return str(self).\n",
      " |\n",
      " |  distance_from_origin(self) -> float\n",
      " |\n",
      " |  distance_to(self, other: 'Point') -> float\n",
      " |\n",
      " |  locate(self) -> str\n",
      " |\n",
      " |  ----------------------------------------------------------------------\n",
      " |  Data descriptors defined here:\n",
      " |\n",
      " |  __dict__\n",
      " |      dictionary for instance variables\n",
      " |\n",
      " |  __weakref__\n",
      " |      list of weak references to the object\n",
      "\n"
     ]
    }
   ],
   "source": [
    "# Using help() on the class\n",
    "help(Point)"
   ]
  },
  {
   "cell_type": "code",
   "execution_count": 168,
   "id": "9e7e80d8-06b1-4377-a4e3-6ea31e68462a",
   "metadata": {},
   "outputs": [
    {
     "name": "stdout",
     "output_type": "stream",
     "text": [
      "None\n",
      "None\n",
      "{'x': <class 'float'>, 'y': <class 'float'>}\n",
      "None\n",
      "{'other': 'Point', 'return': <class 'float'>}\n",
      "None\n",
      "{'return': <class 'float'>}\n",
      "None\n",
      "{'return': <class 'str'>}\n",
      "None\n",
      "{'return': <class 'str'>}\n",
      "None\n",
      "{'return': <class 'str'>}\n"
     ]
    }
   ],
   "source": [
    "# Print the doc-string and annotations of the class and each instance method\n",
    "print(Point.__doc__)\n",
    "for method in [Point.__init__, Point.distance_to, Point.distance_from_origin, Point.locate, Point.__repr__, Point.__str__]:\n",
    "    print(method.__doc__)\n",
    "    print(method.__annotations__)"
   ]
  },
  {
   "cell_type": "code",
   "execution_count": 170,
   "id": "8cca0e0d-d3cc-475d-964f-74738dcdccff",
   "metadata": {},
   "outputs": [
    {
     "name": "stdout",
     "output_type": "stream",
     "text": [
      "Point coordinates: (0.0, 0.0)\n"
     ]
    }
   ],
   "source": [
    "# Verify the modified __init__ with default parameters.\n",
    "inst_3 = Point()  # Should create a point at (0.0, 0.0)\n",
    "print(inst_3.locate())  # Expected: Point coordinates: (0.0, 0.0)\n",
    "\n"
   ]
  },
  {
   "cell_type": "code",
   "execution_count": 276,
   "id": "ae3c0bce-07b0-4afb-b49e-e41dae47d200",
   "metadata": {},
   "outputs": [],
   "source": [
    "import math\n",
    "\n",
    "class Circle:\n",
    "   \n",
    "    def __init__(self, radius: float = 1.0) -> None:\n",
    "        self._radius = radius\n",
    "\n",
    "    @property\n",
    "    def radius(self) -> float:\n",
    "\n",
    "        return self._radius\n",
    "\n",
    "    @radius.setter\n",
    "    def radius(self, value: float) -> None:\n",
    "        \n",
    "        if value < 0:\n",
    "            raise ValueError(\"Radius cannot be negative.\")\n",
    "        self._radius = value\n",
    "\n",
    "    @property\n",
    "    def diameter(self) -> float:\n",
    "\n",
    "        return self._radius * 2\n",
    "\n",
    "    @property\n",
    "    def area(self) -> float:\n",
    "        \n",
    "        return math.pi * (self._radius ** 2)\n",
    "\n",
    "    @property\n",
    "    def circumference(self) -> float:\n",
    "        \n",
    "        return 2 * math.pi * self._radius\n",
    "\n",
    "    def cylinder_volume(self, height: float) -> float:\n",
    "        \n",
    "        return self.area * height\n",
    "\n",
    "    def __repr__(self) -> str:\n",
    "\n",
    "        return f\"Circle(radius={self._radius})\"\n",
    "\n",
    "    def __str__(self) -> str:\n",
    "\n",
    "        return f\"Circle with radius: {self._radius}, area: {self.area}, circumference: {self.circumference}\"\n"
   ]
  },
  {
   "cell_type": "code",
   "execution_count": 278,
   "id": "0a105f75-09b5-4de8-96a7-5e1edad7ae2d",
   "metadata": {},
   "outputs": [],
   "source": [
    "# Creating instances of Circle\n",
    "inst_1 = Circle(5)\n",
    "inst_2 = Circle(10)\n"
   ]
  },
  {
   "cell_type": "code",
   "execution_count": 280,
   "id": "9a955a74-a6ee-4c32-9321-875605985cc8",
   "metadata": {},
   "outputs": [
    {
     "name": "stdout",
     "output_type": "stream",
     "text": [
      "Circle with radius: 5, area: 78.53981633974483, circumference: 31.41592653589793\n",
      "Circle with radius: 10, area: 314.1592653589793, circumference: 62.83185307179586\n"
     ]
    }
   ],
   "source": [
    "# Printing instances\n",
    "print(inst_1)\n",
    "print(inst_2)"
   ]
  },
  {
   "cell_type": "code",
   "execution_count": 282,
   "id": "9d0333e5-0264-4076-aa2e-1cc949fc8752",
   "metadata": {},
   "outputs": [
    {
     "name": "stdout",
     "output_type": "stream",
     "text": [
      "{'__module__': '__main__', '__init__': <function Circle.__init__ at 0x000001F7B9711300>, 'radius': <property object at 0x000001F7B96D5850>, 'diameter': <property object at 0x000001F7B96D4090>, 'area': <property object at 0x000001F7B96D46D0>, 'circumference': <property object at 0x000001F7B96D5210>, 'cylinder_volume': <function Circle.cylinder_volume at 0x000001F7B97111C0>, '__repr__': <function Circle.__repr__ at 0x000001F7B97116C0>, '__str__': <function Circle.__str__ at 0x000001F7B9711760>, '__dict__': <attribute '__dict__' of 'Circle' objects>, '__weakref__': <attribute '__weakref__' of 'Circle' objects>, '__doc__': None}\n",
      "{'__module__': '__main__', '__init__': <function Circle.__init__ at 0x000001F7B9711300>, 'radius': <property object at 0x000001F7B96D5850>, 'diameter': <property object at 0x000001F7B96D4090>, 'area': <property object at 0x000001F7B96D46D0>, 'circumference': <property object at 0x000001F7B96D5210>, 'cylinder_volume': <function Circle.cylinder_volume at 0x000001F7B97111C0>, '__repr__': <function Circle.__repr__ at 0x000001F7B97116C0>, '__str__': <function Circle.__str__ at 0x000001F7B9711760>, '__dict__': <attribute '__dict__' of 'Circle' objects>, '__weakref__': <attribute '__weakref__' of 'Circle' objects>, '__doc__': None}\n"
     ]
    }
   ],
   "source": [
    "# Accessing class __dict__ and vars()\n",
    "print(Circle.__dict__)\n",
    "print(vars(Circle))\n"
   ]
  },
  {
   "cell_type": "code",
   "execution_count": 284,
   "id": "6c80da0a-7a41-4bb7-b495-f767e103b619",
   "metadata": {},
   "outputs": [
    {
     "name": "stdout",
     "output_type": "stream",
     "text": [
      "{'_radius': 5}\n"
     ]
    }
   ],
   "source": [
    "# Accessing instance __dict__\n",
    "print(inst_1.__dict__)\n"
   ]
  },
  {
   "cell_type": "code",
   "execution_count": 286,
   "id": "74e3033e-ee0e-47cb-a277-4b17562fdbc5",
   "metadata": {},
   "outputs": [
    {
     "name": "stdout",
     "output_type": "stream",
     "text": [
      "Help on class Circle in module __main__:\n",
      "\n",
      "class Circle(builtins.object)\n",
      " |  Circle(radius: float = 1.0) -> None\n",
      " |\n",
      " |  Methods defined here:\n",
      " |\n",
      " |  __init__(self, radius: float = 1.0) -> None\n",
      " |      Initialize self.  See help(type(self)) for accurate signature.\n",
      " |\n",
      " |  __repr__(self) -> str\n",
      " |      Return repr(self).\n",
      " |\n",
      " |  __str__(self) -> str\n",
      " |      Return str(self).\n",
      " |\n",
      " |  cylinder_volume(self, height: float) -> float\n",
      " |\n",
      " |  ----------------------------------------------------------------------\n",
      " |  Readonly properties defined here:\n",
      " |\n",
      " |  area\n",
      " |\n",
      " |  circumference\n",
      " |\n",
      " |  diameter\n",
      " |\n",
      " |  ----------------------------------------------------------------------\n",
      " |  Data descriptors defined here:\n",
      " |\n",
      " |  __dict__\n",
      " |      dictionary for instance variables\n",
      " |\n",
      " |  __weakref__\n",
      " |      list of weak references to the object\n",
      " |\n",
      " |  radius\n",
      "\n"
     ]
    }
   ],
   "source": [
    "# Using help\n",
    "help(Circle)"
   ]
  },
  {
   "cell_type": "code",
   "execution_count": 288,
   "id": "774cd553-e2e5-4e58-8e99-acc865a13665",
   "metadata": {},
   "outputs": [
    {
     "name": "stdout",
     "output_type": "stream",
     "text": [
      "None\n",
      "__init__: None\n",
      "Annotations: {'radius': <class 'float'>, 'return': None}\n",
      "\n",
      "radius: None\n",
      "Annotations: {'return': <class 'float'>}\n",
      "\n",
      "radius: None\n",
      "Annotations: {'value': <class 'float'>, 'return': None}\n",
      "\n",
      "diameter: None\n",
      "Annotations: {'return': <class 'float'>}\n",
      "\n",
      "area: None\n",
      "Annotations: {'return': <class 'float'>}\n",
      "\n",
      "circumference: None\n",
      "Annotations: {'return': <class 'float'>}\n",
      "\n",
      "cylinder_volume: None\n",
      "Annotations: {'height': <class 'float'>, 'return': <class 'float'>}\n",
      "\n"
     ]
    }
   ],
   "source": [
    "# Printing docstrings and annotations\n",
    "print(Circle.__doc__)\n",
    "for method in [Circle.__init__, Circle.radius.fget, Circle.radius.fset, Circle.diameter.fget,\n",
    "               Circle.area.fget, Circle.circumference.fget, Circle.cylinder_volume]:\n",
    "    print(f\"{method.__name__}: {method.__doc__}\\nAnnotations: {method.__annotations__}\\n\")"
   ]
  },
  {
   "cell_type": "code",
   "execution_count": 290,
   "id": "47416dd3-6d84-46b7-bc5c-40760232b223",
   "metadata": {},
   "outputs": [
    {
     "name": "stdout",
     "output_type": "stream",
     "text": [
      "Circle with radius: 1.0, area: 3.141592653589793, circumference: 6.283185307179586\n"
     ]
    }
   ],
   "source": [
    "# Modifying __init__ to have default parameters and verifying with instances\n",
    "inst_3 = Circle()  # Default radius\n",
    "print(inst_3)\n"
   ]
  },
  {
   "cell_type": "code",
   "execution_count": 292,
   "id": "1299193e-9443-40e6-a00d-86ae90a94c16",
   "metadata": {},
   "outputs": [],
   "source": [
    "import math\n",
    "\n",
    "class RLC:\n",
    "    \n",
    "    def __init__(self, resistance: float = 1.0, inductance: float = 1.0, capacitance: float = 1.0) -> None:\n",
    "        \n",
    "        self.resistance = resistance\n",
    "        self.inductance = inductance\n",
    "        self.capacitance = capacitance\n",
    "\n",
    "    @property\n",
    "    def resistance(self) -> float:\n",
    "       \n",
    "        return self._resistance\n",
    "\n",
    "    @resistance.setter\n",
    "    def resistance(self, value: float) -> None:\n",
    "        \n",
    "        if value < 0:\n",
    "            raise ValueError(\"Resistance cannot be negative.\")\n",
    "        self._resistance = value\n",
    "\n",
    "    @property\n",
    "    def inductance(self) -> float:\n",
    "        return self._inductance\n",
    "\n",
    "    @inductance.setter\n",
    "    def inductance(self, value: float) -> None:\n",
    "        \n",
    "        if value < 0:\n",
    "            raise ValueError(\"Inductance cannot be negative.\")\n",
    "        self._inductance = value\n",
    "\n",
    "    @property\n",
    "    def capacitance(self) -> float:\n",
    "        \n",
    "        return self._capacitance\n",
    "\n",
    "    @capacitance.setter\n",
    "    def capacitance(self, value: float) -> None:\n",
    "\n",
    "        if value < 0:\n",
    "            raise ValueError(\"Capacitance cannot be negative.\")\n",
    "        self._capacitance = value\n",
    "\n",
    "    @property\n",
    "    def impedance(self) -> float:\n",
    "        reactance_inductive = 2 * math.pi * 60 * self.inductance  # Assume frequency is 60 Hz\n",
    "        reactance_capacitive = 1 / (2 * math.pi * 60 * self.capacitance)\n",
    "        return math.sqrt(self.resistance ** 2 + (reactance_inductive - reactance_capacitive) ** 2)\n",
    "\n",
    "    @property\n",
    "    def phase(self) -> float:\n",
    "        reactance_inductive = 2 * math.pi * 60 * self.inductance\n",
    "        reactance_capacitive = 1 / (2 * math.pi * 60 * self.capacitance)\n",
    "        return math.degrees(math.atan((reactance_inductive - reactance_capacitive) / self.resistance))\n",
    "\n",
    "    @property\n",
    "    def power_factor(self) -> float:\n",
    "        return math.cos(math.radians(self.phase))\n",
    "\n",
    "    def current(self, voltage: float) -> float:\n",
    "        return voltage / self.impedance\n",
    "\n",
    "    def __repr__(self) -> str:\n",
    "        return (f\"RLC(resistance={self.resistance}, inductance={self.inductance}, \"\n",
    "                f\"capacitance={self.capacitance})\")\n",
    "\n",
    "    def __str__(self) -> str:\n",
    "        return (f\"RLC Circuit: Resistance = {self.resistance} Ω, Inductance = {self.inductance} H, \"\n",
    "                f\"Capacitance = {self.capacitance} F, Impedance = {self.impedance:.2f} Ω, \"\n",
    "                f\"Phase = {self.phase:.2f}°, Power Factor = {self.power_factor:.2f}\")\n"
   ]
  },
  {
   "cell_type": "code",
   "execution_count": 294,
   "id": "ad73cb9f-8d6b-44fa-812e-74ea071db477",
   "metadata": {},
   "outputs": [],
   "source": [
    "# Creating instances of RLC\n",
    "inst_1 = RLC(10, 0.5, 0.01)\n",
    "inst_2 = RLC(20, 1.0, 0.005)"
   ]
  },
  {
   "cell_type": "code",
   "execution_count": 296,
   "id": "58ac8879-1bbe-432a-854b-0e9e5db975e1",
   "metadata": {},
   "outputs": [
    {
     "name": "stdout",
     "output_type": "stream",
     "text": [
      "RLC Circuit: Resistance = 10 Ω, Inductance = 0.5 H, Capacitance = 0.01 F, Impedance = 188.50 Ω, Phase = 86.96°, Power Factor = 0.05\n",
      "RLC Circuit: Resistance = 20 Ω, Inductance = 1.0 H, Capacitance = 0.005 F, Impedance = 376.99 Ω, Phase = 86.96°, Power Factor = 0.05\n"
     ]
    }
   ],
   "source": [
    "# Printing instances\n",
    "print(inst_1)\n",
    "print(inst_2)"
   ]
  },
  {
   "cell_type": "code",
   "execution_count": 298,
   "id": "509841ea-c10c-4920-b243-016a7c5c767d",
   "metadata": {},
   "outputs": [
    {
     "name": "stdout",
     "output_type": "stream",
     "text": [
      "{'__module__': '__main__', '__init__': <function RLC.__init__ at 0x000001F7B9711440>, 'resistance': <property object at 0x000001F7B96D6DE0>, 'inductance': <property object at 0x000001F7B96D5B20>, 'capacitance': <property object at 0x000001F7B96D5E90>, 'impedance': <property object at 0x000001F7B96D7650>, 'phase': <property object at 0x000001F7B96D5DF0>, 'power_factor': <property object at 0x000001F7B96D6C00>, 'current': <function RLC.current at 0x000001F7B9712020>, '__repr__': <function RLC.__repr__ at 0x000001F7B97120C0>, '__str__': <function RLC.__str__ at 0x000001F7B9712160>, '__dict__': <attribute '__dict__' of 'RLC' objects>, '__weakref__': <attribute '__weakref__' of 'RLC' objects>, '__doc__': None}\n",
      "{'__module__': '__main__', '__init__': <function RLC.__init__ at 0x000001F7B9711440>, 'resistance': <property object at 0x000001F7B96D6DE0>, 'inductance': <property object at 0x000001F7B96D5B20>, 'capacitance': <property object at 0x000001F7B96D5E90>, 'impedance': <property object at 0x000001F7B96D7650>, 'phase': <property object at 0x000001F7B96D5DF0>, 'power_factor': <property object at 0x000001F7B96D6C00>, 'current': <function RLC.current at 0x000001F7B9712020>, '__repr__': <function RLC.__repr__ at 0x000001F7B97120C0>, '__str__': <function RLC.__str__ at 0x000001F7B9712160>, '__dict__': <attribute '__dict__' of 'RLC' objects>, '__weakref__': <attribute '__weakref__' of 'RLC' objects>, '__doc__': None}\n"
     ]
    }
   ],
   "source": [
    "# Accessing class __dict__ and vars()\n",
    "print(RLC.__dict__)\n",
    "print(vars(RLC))"
   ]
  },
  {
   "cell_type": "code",
   "execution_count": 300,
   "id": "469bd4e0-a7a5-470b-9d13-5f38ce3a3384",
   "metadata": {},
   "outputs": [
    {
     "name": "stdout",
     "output_type": "stream",
     "text": [
      "{'_resistance': 10, '_inductance': 0.5, '_capacitance': 0.01}\n"
     ]
    }
   ],
   "source": [
    "# Accessing instance __dict__\n",
    "print(inst_1.__dict__)"
   ]
  },
  {
   "cell_type": "code",
   "execution_count": 302,
   "id": "4681f8c2-80f8-4ecc-87b5-4e9555a6f593",
   "metadata": {},
   "outputs": [
    {
     "name": "stdout",
     "output_type": "stream",
     "text": [
      "Help on class RLC in module __main__:\n",
      "\n",
      "class RLC(builtins.object)\n",
      " |  RLC(resistance: float = 1.0, inductance: float = 1.0, capacitance: float = 1.0) -> None\n",
      " |\n",
      " |  Methods defined here:\n",
      " |\n",
      " |  __init__(self, resistance: float = 1.0, inductance: float = 1.0, capacitance: float = 1.0) -> None\n",
      " |      Initialize self.  See help(type(self)) for accurate signature.\n",
      " |\n",
      " |  __repr__(self) -> str\n",
      " |      Return repr(self).\n",
      " |\n",
      " |  __str__(self) -> str\n",
      " |      Return str(self).\n",
      " |\n",
      " |  current(self, voltage: float) -> float\n",
      " |\n",
      " |  ----------------------------------------------------------------------\n",
      " |  Readonly properties defined here:\n",
      " |\n",
      " |  impedance\n",
      " |\n",
      " |  phase\n",
      " |\n",
      " |  power_factor\n",
      " |\n",
      " |  ----------------------------------------------------------------------\n",
      " |  Data descriptors defined here:\n",
      " |\n",
      " |  __dict__\n",
      " |      dictionary for instance variables\n",
      " |\n",
      " |  __weakref__\n",
      " |      list of weak references to the object\n",
      " |\n",
      " |  capacitance\n",
      " |\n",
      " |  inductance\n",
      " |\n",
      " |  resistance\n",
      "\n"
     ]
    }
   ],
   "source": [
    "# Using help\n",
    "help(RLC)\n"
   ]
  },
  {
   "cell_type": "code",
   "execution_count": 304,
   "id": "bc502bab-02e9-47a0-acfa-e4b0427b8929",
   "metadata": {},
   "outputs": [
    {
     "name": "stdout",
     "output_type": "stream",
     "text": [
      "None\n",
      "__init__: None\n",
      "Annotations: {'resistance': <class 'float'>, 'inductance': <class 'float'>, 'capacitance': <class 'float'>, 'return': None}\n",
      "\n",
      "resistance: None\n",
      "Annotations: {'return': <class 'float'>}\n",
      "\n",
      "resistance: None\n",
      "Annotations: {'value': <class 'float'>, 'return': None}\n",
      "\n",
      "inductance: None\n",
      "Annotations: {'return': <class 'float'>}\n",
      "\n",
      "inductance: None\n",
      "Annotations: {'value': <class 'float'>, 'return': None}\n",
      "\n",
      "capacitance: None\n",
      "Annotations: {'return': <class 'float'>}\n",
      "\n",
      "capacitance: None\n",
      "Annotations: {'value': <class 'float'>, 'return': None}\n",
      "\n",
      "impedance: None\n",
      "Annotations: {'return': <class 'float'>}\n",
      "\n",
      "phase: None\n",
      "Annotations: {'return': <class 'float'>}\n",
      "\n",
      "power_factor: None\n",
      "Annotations: {'return': <class 'float'>}\n",
      "\n",
      "current: None\n",
      "Annotations: {'voltage': <class 'float'>, 'return': <class 'float'>}\n",
      "\n"
     ]
    }
   ],
   "source": [
    "# Printing docstrings and annotations\n",
    "print(RLC.__doc__)\n",
    "for method in [RLC.__init__, RLC.resistance.fget, RLC.resistance.fset, RLC.inductance.fget, \n",
    "               RLC.inductance.fset, RLC.capacitance.fget, RLC.capacitance.fset, \n",
    "               RLC.impedance.fget, RLC.phase.fget, RLC.power_factor.fget, \n",
    "               RLC.current]:\n",
    "    print(f\"{method.__name__}: {method.__doc__}\\nAnnotations: {method.__annotations__}\\n\")\n"
   ]
  },
  {
   "cell_type": "code",
   "execution_count": 306,
   "id": "f0c994af-d6b9-47b9-9f6a-0e5f2eed9189",
   "metadata": {},
   "outputs": [
    {
     "name": "stdout",
     "output_type": "stream",
     "text": [
      "RLC Circuit: Resistance = 1.0 Ω, Inductance = 1.0 H, Capacitance = 1.0 F, Impedance = 376.99 Ω, Phase = 89.85°, Power Factor = 0.00\n"
     ]
    }
   ],
   "source": [
    "# Modifying __init__ to have default parameters and verifying with instances\n",
    "inst_3 = RLC()  # Default parameters\n",
    "print(inst_3)\n"
   ]
  },
  {
   "cell_type": "code",
   "execution_count": 308,
   "id": "79765044-f967-431e-ac99-b72d1178da2f",
   "metadata": {},
   "outputs": [],
   "source": [
    "class Square:\n",
    "    def __init__(self, side_length: float = 1.0) -> None:\n",
    "        self.side_length = side_length\n",
    "\n",
    "    @property\n",
    "    def side_length(self) -> float:\n",
    "        return self._side_length\n",
    "\n",
    "    @side_length.setter\n",
    "    def side_length(self, value: float) -> None:\n",
    "\n",
    "        if value < 0:\n",
    "            raise ValueError(\"Side length cannot be negative.\")\n",
    "        self._side_length = value\n",
    "\n",
    "    @property\n",
    "    def area(self) -> float:\n",
    "        return self.side_length ** 2\n",
    "\n",
    "    @property\n",
    "    def perimeter(self) -> float:\n",
    "\n",
    "        return 4 * self.side_length\n",
    "\n",
    "    def __repr__(self) -> str:\n",
    "\n",
    "        return f\"Square(side_length={self.side_length})\"\n",
    "\n",
    "    def __str__(self) -> str:\n",
    "        return f\"Square with side length: {self.side_length}, area: {self.area}, perimeter: {self.perimeter}\"\n"
   ]
  },
  {
   "cell_type": "code",
   "execution_count": 310,
   "id": "6d8b6f2e-987f-4f09-b18b-462c6fcb9cda",
   "metadata": {},
   "outputs": [],
   "source": [
    "square = Square(side_length=4)"
   ]
  },
  {
   "cell_type": "code",
   "execution_count": 312,
   "id": "6fc44b6c-2c18-4a49-a4a4-c6b1e2cb7c36",
   "metadata": {},
   "outputs": [
    {
     "name": "stdout",
     "output_type": "stream",
     "text": [
      "Square with side length: 4, area: 16, perimeter: 16\n"
     ]
    }
   ],
   "source": [
    "print(square)"
   ]
  },
  {
   "cell_type": "code",
   "execution_count": 314,
   "id": "c4c10499-4495-4437-9626-d5459db0805b",
   "metadata": {},
   "outputs": [],
   "source": [
    "class Rectangle:\n",
    "   \n",
    "    def __init__(self, width: float = 1.0, height: float = 1.0) -> None:\n",
    "        self.width = width\n",
    "        self.height = height\n",
    "\n",
    "    @property\n",
    "    def width(self) -> float:\n",
    "        return self._width\n",
    "\n",
    "    @width.setter\n",
    "    def width(self, value: float) -> None:\n",
    "\n",
    "        if value < 0:\n",
    "            raise ValueError(\"Width cannot be negative.\")\n",
    "        self._width = value\n",
    "\n",
    "    @property\n",
    "    def height(self) -> float:\n",
    "        return self._height\n",
    "\n",
    "    @height.setter\n",
    "    def height(self, value: float) -> None:\n",
    "\n",
    "        if value < 0:\n",
    "            raise ValueError(\"Height cannot be negative.\")\n",
    "        self._height = value\n",
    "\n",
    "    @property\n",
    "    def area(self) -> float:\n",
    "        return self.width * self.height\n",
    "\n",
    "    @property\n",
    "    def perimeter(self) -> float:\n",
    "        return 2 * (self.width + self.height)\n",
    "\n",
    "    def __repr__(self) -> str:\n",
    "        return f\"Rectangle(width={self.width}, height={self.height})\"\n",
    "\n",
    "    def __str__(self) -> str:\n",
    "        return f\"Rectangle with width: {self.width}, height: {self.height}, area: {self.area}, perimeter: {self.perimeter}\"\n"
   ]
  },
  {
   "cell_type": "code",
   "execution_count": 316,
   "id": "875524fa-94fb-4b8e-b4f9-6a53a904bdb4",
   "metadata": {},
   "outputs": [],
   "source": [
    "rectangle = Rectangle(width=4, height=2)"
   ]
  },
  {
   "cell_type": "code",
   "execution_count": 318,
   "id": "e6953206-d30f-4eb8-b2ce-43773c546956",
   "metadata": {},
   "outputs": [
    {
     "name": "stdout",
     "output_type": "stream",
     "text": [
      "Rectangle with width: 4, height: 2, area: 8, perimeter: 12\n"
     ]
    }
   ],
   "source": [
    "print(rectangle)"
   ]
  },
  {
   "cell_type": "code",
   "execution_count": 320,
   "id": "795e09d4-0f47-409e-b424-ae4176435763",
   "metadata": {},
   "outputs": [],
   "source": [
    "class Triangle:\n",
    "   \n",
    "    def __init__(self, a: float = 1.0, b: float = 1.0, c: float = 1.0) -> None:\n",
    "\n",
    "        self.a = a\n",
    "        self.b = b\n",
    "        self.c = c\n",
    "\n",
    "    @property\n",
    "    def a(self) -> float:\n",
    "        return self._a\n",
    "\n",
    "    @a.setter\n",
    "    def a(self, value: float) -> None:\n",
    "        if value <= 0:\n",
    "            raise ValueError(\"Side length must be positive.\")\n",
    "        self._a = value\n",
    "\n",
    "    @property\n",
    "    def b(self) -> float:\n",
    "        return self._b\n",
    "\n",
    "    @b.setter\n",
    "    def b(self, value: float) -> None:\n",
    "        if value <= 0:\n",
    "            raise ValueError(\"Side length must be positive.\")\n",
    "        self._b = value\n",
    "\n",
    "    @property\n",
    "    def c(self) -> float:\n",
    "        return self._c\n",
    "\n",
    "    @c.setter\n",
    "    def c(self, value: float) -> None:\n",
    "        if value <= 0:\n",
    "            raise ValueError(\"Side length must be positive.\")\n",
    "        self._c = value\n",
    "\n",
    "    @property\n",
    "    def area(self) -> float:\n",
    "        s = (self.a + self.b + self.c) / 2\n",
    "        return math.sqrt(s * (s - self.a) * (s - self.b) * (s - self.c))\n",
    "\n",
    "    @property\n",
    "    def perimeter(self) -> float:\n",
    "        return self.a + self.b + self.c\n",
    "\n",
    "    def __repr__(self) -> str:\n",
    "        return f\"Triangle(a={self.a}, b={self.b}, c={self.c})\"\n",
    "\n",
    "    def __str__(self) -> str:\n",
    "        return (f\"Triangle with sides: a={self.a}, b={self.b}, c={self.c}, \"\n",
    "                f\"area: {self.area}, perimeter: {self.perimeter}\")\n"
   ]
  },
  {
   "cell_type": "code",
   "execution_count": 322,
   "id": "f5401a0d-7094-47c9-81c0-a3077ce32d58",
   "metadata": {},
   "outputs": [],
   "source": [
    "triangle = Triangle(a=3, b=4, c=5)"
   ]
  },
  {
   "cell_type": "code",
   "execution_count": 324,
   "id": "bf061560-78e3-444e-b15c-3594b8e819be",
   "metadata": {},
   "outputs": [
    {
     "name": "stdout",
     "output_type": "stream",
     "text": [
      "Triangle with sides: a=3, b=4, c=5, area: 6.0, perimeter: 12\n"
     ]
    }
   ],
   "source": [
    "print(triangle)"
   ]
  },
  {
   "cell_type": "code",
   "execution_count": 326,
   "id": "9a120d12-f840-45b3-a9bf-29c442825f96",
   "metadata": {},
   "outputs": [],
   "source": [
    "class Trapezoid:\n",
    "    \n",
    "    def __init__(self, base1: float = 1.0, base2: float = 1.0, height: float = 1.0) -> None:\n",
    "        self.base1 = base1\n",
    "        self.base2 = base2\n",
    "        self.height = height\n",
    "\n",
    "    @property\n",
    "    def base1(self) -> float:\n",
    "        return self._base1\n",
    "\n",
    "    @base1.setter\n",
    "    def base1(self, value: float) -> None:\n",
    "\n",
    "        if value < 0:\n",
    "            raise ValueError(\"Base length cannot be negative.\")\n",
    "        self._base1 = value\n",
    "\n",
    "    @property\n",
    "    def base2(self) -> float:\n",
    "        return self._base2\n",
    "\n",
    "    @base2.setter\n",
    "    def base2(self, value: float) -> None:\n",
    "        if value < 0:\n",
    "            raise ValueError(\"Base length cannot be negative.\")\n",
    "        self._base2 = value\n",
    "\n",
    "    @property\n",
    "    def height(self) -> float:\n",
    "\n",
    "        return self._height\n",
    "\n",
    "    @height.setter\n",
    "    def height(self, value: float) -> None:\n",
    "        \n",
    "        if value < 0:\n",
    "            raise ValueError(\"Height cannot be negative.\")\n",
    "        self._height = value\n",
    "\n",
    "    @property\n",
    "    def area(self) -> float:\n",
    "        return (self.base1 + self.base2) * self.height / 2\n",
    "\n",
    "    @property\n",
    "    def perimeter(self) -> float:\n",
    "        raise NotImplementedError(\"Perimeter calculation requires lengths of non-parallel sides.\")\n",
    "\n",
    "    def __repr__(self) -> str:\n",
    "        return f\"Trapezoid(base1={self.base1}, base2={self.base2}, height={self.height})\"\n",
    "\n",
    "    def __str__(self) -> str:\n",
    "        return (f\"Trapezoid with base1: {self.base1}, base2: {self.base2}, \"\n",
    "                f\"height: {self.height}, area: {self.area}\")\n"
   ]
  },
  {
   "cell_type": "code",
   "execution_count": 328,
   "id": "6e25fbb1-da94-4dbe-9e02-0bb9feb7f523",
   "metadata": {},
   "outputs": [],
   "source": [
    "trapezoid = Trapezoid(base1=4, base2=6, height=3)"
   ]
  },
  {
   "cell_type": "code",
   "execution_count": 330,
   "id": "e92d06a6-2547-4e77-91c6-d18c589c001a",
   "metadata": {},
   "outputs": [
    {
     "name": "stdout",
     "output_type": "stream",
     "text": [
      "Trapezoid with base1: 4, base2: 6, height: 3, area: 15.0\n"
     ]
    }
   ],
   "source": [
    "print(trapezoid)"
   ]
  },
  {
   "cell_type": "code",
   "execution_count": 332,
   "id": "55974e47-590e-47fd-83f2-29d5b6622687",
   "metadata": {},
   "outputs": [],
   "source": [
    "class Parallelogram:\n",
    "\n",
    "    def __init__(self, base: float = 1.0, height: float = 1.0) -> None:\n",
    "        self.base = base\n",
    "        self.height = height\n",
    "\n",
    "    @property\n",
    "    def base(self) -> float:\n",
    "        return self._base\n",
    "\n",
    "    @base.setter\n",
    "    def base(self, value: float) -> None:\n",
    "\n",
    "        if value < 0:\n",
    "            raise ValueError(\"Base length cannot be negative.\")\n",
    "        self._base = value\n",
    "\n",
    "    @property\n",
    "    def height(self) -> float:\n",
    "        return self._height\n",
    "\n",
    "    @height.setter\n",
    "    def height(self, value: float) -> None:\n",
    "\n",
    "        if value < 0:\n",
    "            raise ValueError(\"Height cannot be negative.\")\n",
    "        self._height = value\n",
    "\n",
    "    @property\n",
    "    def area(self) -> float:\n",
    "\n",
    "        return self.base * self.height\n",
    "\n",
    "    @property\n",
    "    def perimeter(self) -> float:\n",
    "        raise NotImplementedError(\"Perimeter calculation requires lengths of the sides.\")\n",
    "\n",
    "    def __repr__(self) -> str:\n",
    "        return f\"Parallelogram(base={self.base}, height={self.height})\"\n",
    "\n",
    "    def __str__(self) -> str:\n",
    "        return (f\"Parallelogram with base: {self.base}, height: {self.height}, \"\n",
    "                f\"area: {self.area}\")\n"
   ]
  },
  {
   "cell_type": "code",
   "execution_count": 334,
   "id": "315d4b48-d0cd-49c7-a6ac-4be192fcd195",
   "metadata": {},
   "outputs": [],
   "source": [
    "parallelogram = Parallelogram(base=5, height=3)"
   ]
  },
  {
   "cell_type": "code",
   "execution_count": 336,
   "id": "50a1c154-640d-4fec-932f-0e795f0b979c",
   "metadata": {},
   "outputs": [
    {
     "name": "stdout",
     "output_type": "stream",
     "text": [
      "Parallelogram with base: 5, height: 3, area: 15\n"
     ]
    }
   ],
   "source": [
    "print(parallelogram)"
   ]
  },
  {
   "cell_type": "code",
   "execution_count": 159,
   "id": "821b2531-6c6b-4593-8f16-09c57fe5d9fb",
   "metadata": {},
   "outputs": [],
   "source": [
    "class Rhombus:\n",
    "    \n",
    "    def __init__(self, side_length: float = 1.0, height: float = 1.0) -> None:\n",
    "        self.side_length = side_length\n",
    "        self.height = height\n",
    "\n",
    "    @property\n",
    "    def side_length(self) -> float:\n",
    "        \"\"\"Get the length of the rhombus's side.\"\"\"\n",
    "        return self._side_length\n",
    "\n",
    "    @side_length.setter\n",
    "    def side_length(self, value: float) -> None:\n",
    "        if value < 0:\n",
    "            raise ValueError(\"Side length cannot be negative.\")\n",
    "        self._side_length = value\n",
    "\n",
    "    @property\n",
    "    def height(self) -> float:\n",
    "        return self._height\n",
    "\n",
    "    @height.setter\n",
    "    def height(self, value: float) -> None:\n",
    "        if value < 0:\n",
    "            raise ValueError(\"Height cannot be negative.\")\n",
    "        self._height = value\n",
    "\n",
    "    @property\n",
    "    def area(self) -> float:\n",
    "        return self.side_length * self.height\n",
    "\n",
    "    @property\n",
    "    def perimeter(self) -> float:\n",
    "        return 4 * self.side_length\n",
    "\n",
    "    def __repr__(self) -> str:\n",
    "        return f\"Rhombus(side_length={self.side_length}, height={self.height})\"\n",
    "\n",
    "    def __str__(self) -> str:\n",
    "        return (f\"Rhombus with side length: {self.side_length}, height: {self.height}, \"\n",
    "                f\"area: {self.area}, perimeter: {self.perimeter}\")\n"
   ]
  },
  {
   "cell_type": "code",
   "execution_count": 190,
   "id": "2902c68a-6fff-4270-90e4-75c346ca930e",
   "metadata": {},
   "outputs": [],
   "source": [
    "rhombus = Rhombus(side_length=3, height=2)\n"
   ]
  },
  {
   "cell_type": "code",
   "execution_count": 192,
   "id": "391533fe-d268-4f64-aa18-1f17635bd2e8",
   "metadata": {},
   "outputs": [
    {
     "name": "stdout",
     "output_type": "stream",
     "text": [
      "Rhombus with side length: 3, height: 2, area: 6, perimeter: 12\n"
     ]
    }
   ],
   "source": [
    "print(rhombus)"
   ]
  },
  {
   "cell_type": "code",
   "execution_count": 194,
   "id": "7b92f3b1-d0a2-4167-898b-04e8a3814e80",
   "metadata": {},
   "outputs": [],
   "source": [
    "class Resistor:\n",
    "    \n",
    "    def __init__(self, resistance: float = 1.0) -> None:\n",
    "        self.resistance = resistance\n",
    "\n",
    "    @property\n",
    "    def resistance(self) -> float:\n",
    "        return self._resistance\n",
    "\n",
    "    @resistance.setter\n",
    "    def resistance(self, value: float) -> None:\n",
    "        if value < 0:\n",
    "            raise ValueError(\"Resistance cannot be negative.\")\n",
    "        self._resistance = value\n",
    "\n",
    "    def __repr__(self) -> str:\n",
    "        return f\"Resistor(resistance={self.resistance})\"\n",
    "\n",
    "    def __str__(self) -> str:\n",
    "        return f\"Resistor with resistance: {self.resistance} ohms\"\n"
   ]
  },
  {
   "cell_type": "code",
   "execution_count": 206,
   "id": "cda2cfea-f0b2-4ba3-8aea-a934350f6346",
   "metadata": {},
   "outputs": [],
   "source": [
    "resistor = Resistor(10)"
   ]
  },
  {
   "cell_type": "code",
   "execution_count": 208,
   "id": "36f83a65-8c71-40cc-a1e3-a092b6cd1255",
   "metadata": {},
   "outputs": [
    {
     "name": "stdout",
     "output_type": "stream",
     "text": [
      "Resistor with resistance: 10 ohms\n"
     ]
    }
   ],
   "source": [
    "print(resistor)"
   ]
  },
  {
   "cell_type": "code",
   "execution_count": 196,
   "id": "f50c2693-a3c1-4d3a-8618-341ad090a523",
   "metadata": {},
   "outputs": [],
   "source": [
    "class RLCircuit:\n",
    "    \n",
    "    def __init__(self, resistance: float = 1.0, inductance: float = 1.0) -> None:\n",
    "        self.resistor = Resistor(resistance)\n",
    "        self.inductance = inductance\n",
    "\n",
    "    @property\n",
    "    def inductance(self) -> float:\n",
    "        return self._inductance\n",
    "\n",
    "    @inductance.setter\n",
    "    def inductance(self, value: float) -> None:\n",
    "        if value < 0:\n",
    "            raise ValueError(\"Inductance cannot be negative.\")\n",
    "        self._inductance = value\n",
    "\n",
    "    def impedance(self, frequency: float) -> float:\n",
    "        return (self.resistor.resistance**2 + (2 * math.pi * frequency * self.inductance)**2) ** 0.5\n",
    "\n",
    "    def __repr__(self) -> str:\n",
    "        return f\"RLCircuit(resistor={self.resistor}, inductance={self.inductance})\"\n",
    "\n",
    "    def __str__(self) -> str:\n",
    "        return (f\"RL Circuit with {self.resistor}, inductance: {self.inductance} H\")\n"
   ]
  },
  {
   "cell_type": "code",
   "execution_count": 210,
   "id": "03165b6c-3f18-452c-b578-887d9d78e63c",
   "metadata": {},
   "outputs": [],
   "source": [
    "rl_circuit = RLCircuit(resistance=10, inductance=0.1)"
   ]
  },
  {
   "cell_type": "code",
   "execution_count": 212,
   "id": "335a4d2d-69fd-4137-b07c-7b6be9d36563",
   "metadata": {},
   "outputs": [
    {
     "name": "stdout",
     "output_type": "stream",
     "text": [
      "RL Circuit with Resistor with resistance: 10 ohms, inductance: 0.1 H\n"
     ]
    }
   ],
   "source": [
    "print(rl_circuit)"
   ]
  },
  {
   "cell_type": "code",
   "execution_count": 198,
   "id": "1590842a-371f-482f-a542-9bd24e75611a",
   "metadata": {},
   "outputs": [],
   "source": [
    "class RCCircuit:\n",
    "    \n",
    "    def __init__(self, resistance: float = 1.0, capacitance: float = 1.0) -> None:\n",
    "        self.resistor = Resistor(resistance)\n",
    "        self.capacitance = capacitance\n",
    "\n",
    "    @property\n",
    "    def capacitance(self) -> float:\n",
    "        return self._capacitance\n",
    "\n",
    "    @capacitance.setter\n",
    "    def capacitance(self, value: float) -> None:\n",
    "        if value < 0:\n",
    "            raise ValueError(\"Capacitance cannot be negative.\")\n",
    "        self._capacitance = value\n",
    "\n",
    "    def impedance(self, frequency: float) -> float:\n",
    "        return (self.resistor.resistance**2 + (1 / (2 * math.pi * frequency * self.capacitance))**2) ** 0.5\n",
    "\n",
    "    def __repr__(self) -> str:\n",
    "        return f\"RCCircuit(resistor={self.resistor}, capacitance={self.capacitance})\"\n",
    "\n",
    "    def __str__(self) -> str:\n",
    "        return (f\"RC Circuit with {self.resistor}, capacitance: {self.capacitance} F\")\n"
   ]
  },
  {
   "cell_type": "code",
   "execution_count": 214,
   "id": "7ecf35c3-444f-4e5f-9b35-fa0a1ff12f51",
   "metadata": {},
   "outputs": [],
   "source": [
    "rc_circuit = RCCircuit(resistance=10, capacitance=0.001)"
   ]
  },
  {
   "cell_type": "code",
   "execution_count": 216,
   "id": "14413bee-9965-4041-b164-b2c26ccea263",
   "metadata": {},
   "outputs": [
    {
     "name": "stdout",
     "output_type": "stream",
     "text": [
      "RC Circuit with Resistor with resistance: 10 ohms, capacitance: 0.001 F\n"
     ]
    }
   ],
   "source": [
    "print(rc_circuit)"
   ]
  },
  {
   "cell_type": "code",
   "execution_count": 200,
   "id": "9003d214-6249-41a8-bca3-8c8886b3c064",
   "metadata": {},
   "outputs": [],
   "source": [
    "class RLCCircuitParallel:\n",
    "    \n",
    "    def __init__(self, resistance: float = 1.0, inductance: float = 1.0, capacitance: float = 1.0) -> None:\n",
    "        self.resistor = Resistor(resistance)\n",
    "        self.inductance = inductance\n",
    "        self.capacitance = capacitance\n",
    "\n",
    "    @property\n",
    "    def inductance(self) -> float:\n",
    "        return self._inductance\n",
    "\n",
    "    @inductance.setter\n",
    "    def inductance(self, value: float) -> None:\n",
    "        if value < 0:\n",
    "            raise ValueError(\"Inductance cannot be negative.\")\n",
    "        self._inductance = value\n",
    "\n",
    "    @property\n",
    "    def capacitance(self) -> float:\n",
    "        return self._capacitance\n",
    "\n",
    "    @capacitance.setter\n",
    "    def capacitance(self, value: float) -> None:\n",
    "        if value < 0:\n",
    "            raise ValueError(\"Capacitance cannot be negative.\")\n",
    "        self._capacitance = value\n",
    "\n",
    "    def total_impedance(self, frequency: float) -> float:\n",
    "        z_r = self.resistor.resistance\n",
    "        z_l = 2 * math.pi * frequency * self.inductance\n",
    "        z_c = 1 / (2 * math.pi * frequency * self.capacitance)\n",
    "\n",
    "        return 1 / (1/z_r + 1/z_l + 1/z_c)\n",
    "\n",
    "    def __repr__(self) -> str:\n",
    "        return f\"RLCCircuitParallel(resistor={self.resistor}, inductance={self.inductance}, capacitance={self.capacitance})\"\n",
    "\n",
    "    def __str__(self) -> str:\n",
    "        return (f\"RLC Parallel Circuit with {self.resistor}, inductance: {self.inductance} H, \"\n",
    "                f\"capacitance: {self.capacitance} F\")\n"
   ]
  },
  {
   "cell_type": "code",
   "execution_count": 218,
   "id": "84a2936f-203d-4a81-8c84-08a88c312eef",
   "metadata": {},
   "outputs": [],
   "source": [
    "rlc_parallel_circuit = RLCCircuitParallel(resistance=10, inductance=0.1, capacitance=0.001)"
   ]
  },
  {
   "cell_type": "code",
   "execution_count": 220,
   "id": "a46a2b74-dbc7-4051-9f2c-53801c543cdc",
   "metadata": {},
   "outputs": [
    {
     "name": "stdout",
     "output_type": "stream",
     "text": [
      "RLC Parallel Circuit with Resistor with resistance: 10 ohms, inductance: 0.1 H, capacitance: 0.001 F\n"
     ]
    }
   ],
   "source": [
    "print(rlc_parallel_circuit)"
   ]
  },
  {
   "cell_type": "code",
   "execution_count": 202,
   "id": "5c8db05e-2c85-4758-9964-d8d1b006e2ef",
   "metadata": {},
   "outputs": [],
   "source": [
    "class RLCSeriesCircuit:\n",
    "    \n",
    "    def __init__(self, resistance: float = 1.0, inductance: float = 1.0, capacitance: float = 1.0) -> None:\n",
    "        self.resistor = Resistor(resistance)\n",
    "        self.inductance = inductance\n",
    "        self.capacitance = capacitance\n",
    "\n",
    "    def resonance_frequency(self) -> float:\n",
    "        return 1 / (2 * math.pi * ((self.inductance * self.capacitance) ** 0.5))\n",
    "\n",
    "    def impedance(self, frequency: float) -> float:\n",
    "        z_l = 2 * math.pi * frequency * self.inductance\n",
    "        z_c = 1 / (2 * math.pi * frequency * self.capacitance)\n",
    "\n",
    "        return (self.resistor.resistance**2 + (z_l - z_c)**2) ** 0.5\n",
    "\n",
    "    def __repr__(self) -> str:\n",
    "        return f\"RLCSeriesCircuit(resistor={self.resistor}, inductance={self.inductance}, capacitance={self.capacitance})\"\n",
    "\n",
    "    def __str__(self) -> str:\n",
    "        return (f\"RLC Series Circuit with {self.resistor}, inductance: {self.inductance} H, \"\n",
    "                f\"capacitance: {self.capacitance} F, resonance frequency: {self.resonance_frequency()} Hz\")\n"
   ]
  },
  {
   "cell_type": "code",
   "execution_count": 222,
   "id": "6ab8cc9f-421b-40de-a0e3-c9427c6ac29a",
   "metadata": {},
   "outputs": [],
   "source": [
    "rlc_series_circuit = RLCSeriesCircuit(resistance=10, inductance=0.1, capacitance=0.001)"
   ]
  },
  {
   "cell_type": "code",
   "execution_count": 224,
   "id": "3d0f26bf-22ca-4199-ba84-db133c0e732e",
   "metadata": {},
   "outputs": [
    {
     "name": "stdout",
     "output_type": "stream",
     "text": [
      "RLC Series Circuit with Resistor with resistance: 10 ohms, inductance: 0.1 H, capacitance: 0.001 F, resonance frequency: 15.915494309189533 Hz\n"
     ]
    }
   ],
   "source": [
    "print(rlc_series_circuit)"
   ]
  },
  {
   "cell_type": "code",
   "execution_count": 204,
   "id": "065df5d3-5a44-455a-8468-210e693c65d5",
   "metadata": {},
   "outputs": [],
   "source": [
    "class RLCParallelCircuit:\n",
    "    \n",
    "    def __init__(self, resistance: float = 1.0, inductance: float = 1.0, capacitance: float = 1.0) -> None:\n",
    "        self.resistor = Resistor(resistance)\n",
    "        self.inductance = inductance\n",
    "        self.capacitance = capacitance\n",
    "\n",
    "    def resonance_frequency(self) -> float:\n",
    "        return 1 / (2 * math.pi * ((self.inductance * self.capacitance) ** 0.5))\n",
    "\n",
    "    def total_impedance(self, frequency: float) -> float:\n",
    "        z_r = self.resistor.resistance\n",
    "        z_l = 2 * math.pi * frequency * self.inductance\n",
    "        z_c = 1 / (2 * math.pi * frequency * self.capacitance)\n",
    "\n",
    "        return 1 / (1/z_r + 1/z_l + 1/z_c)\n",
    "\n",
    "    def __repr__(self) -> str:\n",
    "        return f\"RLCParallelCircuit(resistor={self.resistor}, inductance={self.inductance}, capacitance={self.capacitance})\"\n",
    "\n",
    "    def __str__(self) -> str:\n",
    "        return (f\"RLC Parallel Circuit with {self.resistor}, inductance: {self.inductance} H, \"\n",
    "                f\"capacitance: {self.capacitance} F, resonance frequency: {self.resonance_frequency()} Hz\")\n"
   ]
  },
  {
   "cell_type": "code",
   "execution_count": 226,
   "id": "7768f63b-29d8-4789-8053-9d032f6b8e6e",
   "metadata": {},
   "outputs": [],
   "source": [
    "rlc_parallel_resonance = RLCParallelCircuit(resistance=10, inductance=0.1, capacitance=0.001)\n"
   ]
  },
  {
   "cell_type": "code",
   "execution_count": 228,
   "id": "0e0970d8-d9a4-4bfa-b9cf-5f6859a3e8ee",
   "metadata": {},
   "outputs": [
    {
     "name": "stdout",
     "output_type": "stream",
     "text": [
      "RLC Parallel Circuit with Resistor with resistance: 10 ohms, inductance: 0.1 H, capacitance: 0.001 F, resonance frequency: 15.915494309189533 Hz\n"
     ]
    }
   ],
   "source": [
    "print(rlc_parallel_resonance)"
   ]
  },
  {
   "cell_type": "markdown",
   "id": "93da9d10-97e9-4858-afe0-9bc5a9f2521d",
   "metadata": {},
   "source": [
    "# LAB: 5 COMPLETED By NAME: SHEHWAR MUHAMMAD REG NO: 23JZELE0505 SECTI0N: A"
   ]
  }
 ],
 "metadata": {
  "kernelspec": {
   "display_name": "Python 3 (ipykernel)",
   "language": "python",
   "name": "python3"
  },
  "language_info": {
   "codemirror_mode": {
    "name": "ipython",
    "version": 3
   },
   "file_extension": ".py",
   "mimetype": "text/x-python",
   "name": "python",
   "nbconvert_exporter": "python",
   "pygments_lexer": "ipython3",
   "version": "3.12.4"
  }
 },
 "nbformat": 4,
 "nbformat_minor": 5
}
