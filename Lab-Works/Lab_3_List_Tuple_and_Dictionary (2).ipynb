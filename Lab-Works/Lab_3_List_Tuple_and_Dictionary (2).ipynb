{
 "cells": [
  {
   "cell_type": "markdown",
   "id": "37ec1337-3829-4385-95ba-4e4f5a0c5820",
   "metadata": {},
   "source": [
    "# Lab 3: List, Tuple, and Dictionary   "
   ]
  },
  {
   "cell_type": "markdown",
   "id": "791cfb4c-97f3-429a-979a-9f69fa9913e5",
   "metadata": {},
   "source": [
    "# Lab Title:  EE-271 “OOP & Data Structures Lab”"
   ]
  },
  {
   "cell_type": "markdown",
   "id": "2c06433c-a535-4ac4-b7a8-b4d82e022905",
   "metadata": {},
   "source": [
    "# Lab practice "
   ]
  },
  {
   "cell_type": "markdown",
   "id": "40edaa3f-567d-4427-9665-535acfccc3d2",
   "metadata": {},
   "source": [
    "# List: "
   ]
  },
  {
   "cell_type": "code",
   "execution_count": 102,
   "id": "117e0d76-6138-4138-88ac-f177f63cd25d",
   "metadata": {},
   "outputs": [
    {
     "name": "stdout",
     "output_type": "stream",
     "text": [
      "List of 5 Integers: [3, -5, 12, 0, 7]\n"
     ]
    }
   ],
   "source": [
    "integers = [3, -5, 12, 0, 7]\n",
    "print(\"List of 5 Integers:\", integers)"
   ]
  },
  {
   "cell_type": "code",
   "execution_count": 106,
   "id": "62be722c-b664-4e6f-b9fc-f29001467711",
   "metadata": {},
   "outputs": [
    {
     "name": "stdout",
     "output_type": "stream",
     "text": [
      "Student Details: ['Shehwar Muhammad', 505, 3.75, [3.6, 3.7, 4.0, 3.8]]\n"
     ]
    }
   ],
   "source": [
    "student = [\"Shehwar Muhammad\", 505, 3.75, [3.6, 3.7, 4.0, 3.8]]\n",
    "print(\"Student Details:\", student)"
   ]
  },
  {
   "cell_type": "code",
   "execution_count": 108,
   "id": "45372d74-1021-43d1-beee-0a3b420c251c",
   "metadata": {},
   "outputs": [
    {
     "name": "stdout",
     "output_type": "stream",
     "text": [
      "Student's CGPA: 3.75\n"
     ]
    }
   ],
   "source": [
    "print(\"Student's CGPA:\", student[2])"
   ]
  },
  {
   "cell_type": "code",
   "execution_count": 110,
   "id": "7c00ca6a-83f8-42ac-90d4-129cbe973183",
   "metadata": {},
   "outputs": [
    {
     "name": "stdout",
     "output_type": "stream",
     "text": [
      "List Elements:\n",
      "Shehwar Muhammad\n",
      "505\n",
      "3.75\n",
      "[3.6, 3.7, 4.0, 3.8]\n"
     ]
    }
   ],
   "source": [
    "print(\"List Elements:\")\n",
    "index = 0\n",
    "while index < len(student):\n",
    "    print(student[index])\n",
    "    index += 1"
   ]
  },
  {
   "cell_type": "code",
   "execution_count": 100,
   "id": "6d616bd7-3057-4c79-8f06-64db4332a7f2",
   "metadata": {},
   "outputs": [
    {
     "name": "stdout",
     "output_type": "stream",
     "text": [
      "Last Semester GPA: 3.8\n",
      "Last Semester GPA: 4.0\n",
      "Last Semester GPA: 3.7\n",
      "Last Semester GPA: 3.6\n"
     ]
    }
   ],
   "source": [
    "gpas = student[3]  # List of GPAs\n",
    "print(\"Last Semester GPA:\", gpas[-1])\n",
    "print(\"Last Semester GPA:\", gpas[-2])\n",
    "print(\"Last Semester GPA:\", gpas[-3])\n",
    "print(\"Last Semester GPA:\", gpas[-4])"
   ]
  },
  {
   "cell_type": "code",
   "execution_count": 98,
   "id": "ea6026a4-4ec9-4929-9592-68dbc7463795",
   "metadata": {},
   "outputs": [
    {
     "name": "stdout",
     "output_type": "stream",
     "text": [
      "First 20 Integers: [0, 1, 2, 3, 4, 5, 6, 7, 8, 9, 10, 11, 12, 13, 14, 15, 16, 17, 18, 19]\n"
     ]
    }
   ],
   "source": [
    "first_20_integers = list(range(20))\n",
    "print(\"First 20 Integers:\", first_20_integers)\n"
   ]
  },
  {
   "cell_type": "code",
   "execution_count": 150,
   "id": "fdba35a7-7829-4176-8048-4370adc6d7b7",
   "metadata": {},
   "outputs": [
    {
     "name": "stdout",
     "output_type": "stream",
     "text": [
      "Odd Integers from 20 to 40: [21, 23, 25, 27, 29, 31, 33, 35, 37, 39]\n"
     ]
    }
   ],
   "source": [
    "odd_integers_20_to_40 = list(range(21, 40, 2))\n",
    "print(\"Odd Integers from 20 to 40:\", odd_integers_20_to_40)"
   ]
  },
  {
   "cell_type": "code",
   "execution_count": 18,
   "id": "ddaf1356-bebb-48dc-a10e-f5c4e40579bb",
   "metadata": {},
   "outputs": [
    {
     "name": "stdout",
     "output_type": "stream",
     "text": [
      "Is 'Ibrahim' in the list? False\n",
      "Is 'Shehwar' not in the list? True\n"
     ]
    }
   ],
   "source": [
    "students = [\"Ibrahim\", \"Husain\", \"Irfan\", \"Ayub\", \"Usman\"]\n",
    "is_present = \"Ibrahim\" not in students\n",
    "is_not_present = \"Shehwar\" not in students\n",
    "print(\"Is 'Ibrahim' in the list?\", is_present)\n",
    "print(\"Is 'Shehwar' not in the list?\", is_not_present)"
   ]
  },
  {
   "cell_type": "code",
   "execution_count": 156,
   "id": "50450e1a-8541-452a-9dbc-a91ed3386689",
   "metadata": {},
   "outputs": [
    {
     "name": "stdout",
     "output_type": "stream",
     "text": [
      "All Students:\n",
      "Ibrahim\n",
      "Husain\n",
      "Irfan\n",
      "Ayub\n",
      "Usman\n"
     ]
    }
   ],
   "source": [
    "print(\"All Students:\")\n",
    "for student in students:\n",
    "    print(student)"
   ]
  },
  {
   "cell_type": "code",
   "execution_count": 158,
   "id": "bedb2a1e-feec-4b7a-82a6-d1f139cec386",
   "metadata": {},
   "outputs": [
    {
     "name": "stdout",
     "output_type": "stream",
     "text": [
      "Student List Slices:\n",
      "Students[1:3]: ['Husain', 'Irfan']\n",
      "Students[2:4]: ['Irfan', 'Ayub']\n"
     ]
    }
   ],
   "source": [
    "print(\"Student List Slices:\")\n",
    "print(\"Students[1:3]:\", students[1:3])\n",
    "print(\"Students[2:4]:\", students[2:4])\n"
   ]
  },
  {
   "cell_type": "code",
   "execution_count": 24,
   "id": "786c927c-bd92-4e86-b41d-01606646a8e4",
   "metadata": {},
   "outputs": [
    {
     "name": "stdout",
     "output_type": "stream",
     "text": [
      "List after mutations: [1, 1.5, 3, 4, 5]\n",
      "Popped item: 6\n"
     ]
    }
   ],
   "source": [
    "my_list = [1, 2, 3]\n",
    "my_list.append(4)          # a. Append\n",
    "my_list.extend([5, 6])     # b. Extend\n",
    "my_list.insert(1, 1.5)     # c. Insert\n",
    "my_list.remove(2)          # d. Remove\n",
    "popped_item = my_list.pop()  # e. Pop\n",
    "print(\"List after mutations:\", my_list)\n",
    "print(\"Popped item:\", popped_item)"
   ]
  },
  {
   "cell_type": "code",
   "execution_count": 248,
   "id": "21e00372-e948-4df8-84b1-311beb7511c1",
   "metadata": {},
   "outputs": [
    {
     "name": "stdout",
     "output_type": "stream",
     "text": [
      "Elements in Nested List:\n",
      "a\n",
      "bb\n",
      "ccc\n",
      "ddd\n",
      "ee\n",
      "ff\n",
      "g\n",
      "hh\n",
      "ii\n",
      "j\n"
     ]
    }
   ],
   "source": [
    "# Define the nested list\n",
    "x = [\"a\", [\"bb\", [\"ccc\", \"ddd\"], \"ee\", \"ff\"], \"g\", [\"hh\", \"ii\"], \"j\"]\n",
    "\n",
    "# Access each element using indexing\n",
    "print(\"Elements in Nested List:\")\n",
    "print(x[0])  \n",
    "print(x[1][0])  \n",
    "print(x[1][1][0])  \n",
    "print(x[1][1][1])  \n",
    "print(x[1][2])  \n",
    "print(x[1][3])  \n",
    "print(x[2])  \n",
    "print(x[3][0])  \n",
    "print(x[3][1])  \n",
    "print(x[4])  \n"
   ]
  },
  {
   "cell_type": "markdown",
   "id": "1ae27ae4-307e-4246-b9ca-bfbee2cbe20e",
   "metadata": {},
   "source": [
    "# Tuple: "
   ]
  },
  {
   "cell_type": "code",
   "execution_count": 253,
   "id": "7e9b4b60-103c-49b4-87c7-6cdce163d48e",
   "metadata": {},
   "outputs": [
    {
     "name": "stdout",
     "output_type": "stream",
     "text": [
      "Tuple containing first five letters: ('a', 'b', 'c', 'd', 'e')\n"
     ]
    }
   ],
   "source": [
    "# Define the tuple\n",
    "letters = ('a', 'b', 'c', 'd', 'e')\n",
    "print(\"Tuple containing first five letters:\", letters)\n"
   ]
  },
  {
   "cell_type": "code",
   "execution_count": 257,
   "id": "7386b446-e668-427a-b74a-f77fe0c82e02",
   "metadata": {},
   "outputs": [
    {
     "name": "stdout",
     "output_type": "stream",
     "text": [
      "Third element: c\n",
      "Last element: e\n"
     ]
    }
   ],
   "source": [
    "# Access the third and last elements\n",
    "third_element = letters[2]  \n",
    "last_element = letters[-1]   \n",
    "\n",
    "print(\"Third element:\", third_element)\n",
    "print(\"Last element:\", last_element)\n"
   ]
  },
  {
   "cell_type": "code",
   "execution_count": 317,
   "id": "343bb24a-28c4-4c3b-be23-24d9035cca95",
   "metadata": {},
   "outputs": [
    {
     "name": "stdout",
     "output_type": "stream",
     "text": [
      "Original list: [1, 2, 3]\n",
      "List after appending 4: [1, 2, 3, 4]\n",
      "Original tuple: (1, 2, 3)\n",
      "Error: 'tuple' object does not support item assignment\n"
     ]
    }
   ],
   "source": [
    "# Create a list and a tuple\n",
    "my_list = [1, 2, 3]\n",
    "my_tuple = (1, 2, 3)\n",
    "\n",
    "print(\"Original list:\", my_list)\n",
    "my_list.append(4)  \n",
    "print(\"List after appending 4:\", my_list)\n",
    "\n",
    "print(\"Original tuple:\", my_tuple)\n",
    "try:\n",
    "    my_tuple[2] = 9  \n",
    "except TypeError as e:\n",
    "    print(\"Error:\", e)\n"
   ]
  },
  {
   "cell_type": "code",
   "execution_count": 319,
   "id": "c04f63c4-75ea-4a5a-8db4-e7b174d60803",
   "metadata": {},
   "outputs": [
    {
     "name": "stdout",
     "output_type": "stream",
     "text": [
      "Error when trying to modify tuple: 'tuple' object does not support item assignment\n"
     ]
    }
   ],
   "source": [
    "# Create the tuple\n",
    "num = (1, 2, 3, 4)\n",
    "try:\n",
    "    num[2] = 9  # This will raise an error\n",
    "except TypeError as e:\n",
    "    print(\"Error when trying to modify tuple:\", e)"
   ]
  },
  {
   "cell_type": "markdown",
   "id": "210811d0-bc65-44d0-ac6d-83c44211f4d8",
   "metadata": {},
   "source": [
    "# Dictionary:"
   ]
  },
  {
   "cell_type": "markdown",
   "id": "fe3a88ca-6fe2-4c1a-9382-ddc95e4b4201",
   "metadata": {},
   "source": [
    "# 1  Dictionary Operations"
   ]
  },
  {
   "cell_type": "code",
   "execution_count": 574,
   "id": "693d5f2f-871b-4c86-9551-b2cb8af7ffdf",
   "metadata": {},
   "outputs": [],
   "source": [
    "Fd = {\n",
    "    'one': 'aik',\n",
    "    'three': 'teen',\n",
    "    'ten': 'das',\n",
    "    'fifteen': 'pandra'\n",
    "}"
   ]
  },
  {
   "cell_type": "code",
   "execution_count": 576,
   "id": "74805e69-0a92-4a52-9569-f578974c70fb",
   "metadata": {},
   "outputs": [
    {
     "name": "stdout",
     "output_type": "stream",
     "text": [
      "Fd (Dictionary): {'one': 'aik', 'three': 'teen', 'ten': 'das', 'fifteen': 'pandra'}\n"
     ]
    }
   ],
   "source": [
    "print(\"Fd (Dictionary):\", Fd)\n"
   ]
  },
  {
   "cell_type": "code",
   "execution_count": 578,
   "id": "7638b0ed-cfb7-475f-9be1-e8088d1fab3e",
   "metadata": {},
   "outputs": [
    {
     "name": "stdout",
     "output_type": "stream",
     "text": [
      "Fd['one']: aik\n"
     ]
    }
   ],
   "source": [
    "print(\"Fd['one']:\", Fd['one'])"
   ]
  },
  {
   "cell_type": "code",
   "execution_count": 580,
   "id": "9b591dd9-ff9d-42a6-923d-2e6ce0369213",
   "metadata": {},
   "outputs": [
    {
     "name": "stdout",
     "output_type": "stream",
     "text": [
      "Fd['ten']: das\n"
     ]
    }
   ],
   "source": [
    "print(\"Fd['ten']:\", Fd['ten'])"
   ]
  },
  {
   "cell_type": "code",
   "execution_count": 582,
   "id": "160b8cf5-7401-479d-8a7f-2147599e1568",
   "metadata": {},
   "outputs": [
    {
     "name": "stdout",
     "output_type": "stream",
     "text": [
      "After deleting 'three': {'one': 'aik', 'ten': 'das', 'fifteen': 'pandra'}\n"
     ]
    }
   ],
   "source": [
    "del Fd['three']\n",
    "print(\"After deleting 'three':\", Fd)"
   ]
  },
  {
   "cell_type": "code",
   "execution_count": 584,
   "id": "823c099e-8b66-4160-bf2d-e940ac084d42",
   "metadata": {},
   "outputs": [
    {
     "name": "stdout",
     "output_type": "stream",
     "text": [
      "Length of Fd: 3\n"
     ]
    }
   ],
   "source": [
    "print(\"Length of Fd:\", len(Fd))"
   ]
  },
  {
   "cell_type": "code",
   "execution_count": 586,
   "id": "fc097200-bf06-4215-9608-fe9c036fd510",
   "metadata": {},
   "outputs": [
    {
     "name": "stdout",
     "output_type": "stream",
     "text": [
      "Keys in Fd: dict_keys(['one', 'ten', 'fifteen'])\n"
     ]
    }
   ],
   "source": [
    "print(\"Keys in Fd:\", Fd.keys())"
   ]
  },
  {
   "cell_type": "code",
   "execution_count": 588,
   "id": "41155792-dca4-4b7e-b0dc-6ffaa11ee700",
   "metadata": {},
   "outputs": [
    {
     "name": "stdout",
     "output_type": "stream",
     "text": [
      "Values in Fd: dict_values(['aik', 'das', 'pandra'])\n"
     ]
    }
   ],
   "source": [
    "print(\"Values in Fd:\", Fd.values())"
   ]
  },
  {
   "cell_type": "code",
   "execution_count": 590,
   "id": "dceed725-e1a8-4d13-ac50-f4e002c4d61c",
   "metadata": {},
   "outputs": [
    {
     "name": "stdout",
     "output_type": "stream",
     "text": [
      "Fd.items(): dict_items([('one', 'aik'), ('ten', 'das'), ('fifteen', 'pandra')])\n"
     ]
    }
   ],
   "source": [
    "print(\"Fd.items():\", Fd.items())"
   ]
  },
  {
   "cell_type": "code",
   "execution_count": 592,
   "id": "87112745-7eff-4c96-b62d-3e071d41b864",
   "metadata": {},
   "outputs": [
    {
     "name": "stdout",
     "output_type": "stream",
     "text": [
      "'one' in Fd: True\n",
      "'two' in Fd: False\n"
     ]
    }
   ],
   "source": [
    "print(\"'one' in Fd:\", 'one' in Fd)\n",
    "print(\"'two' in Fd:\", 'two' in Fd) "
   ]
  },
  {
   "cell_type": "code",
   "execution_count": 594,
   "id": "2a29336b-c1a4-499e-8573-7781f1fad8c0",
   "metadata": {},
   "outputs": [
    {
     "name": "stdout",
     "output_type": "stream",
     "text": [
      "Alias after modification: {'one': 'aik', 'ten': 'das', 'fifteen': 'pandra', 'three': '3'}\n",
      "Original dictionary after alias modification: {'one': 'aik', 'ten': 'das', 'fifteen': 'pandra'}\n",
      "Copy after modification: {'one': 'aik', 'ten': 'das', 'fifteen': 'pandra', 'three': '3'}\n",
      "Original dictionary after copy modification: {'one': 'aik', 'ten': 'das', 'fifteen': 'pandra'}\n"
     ]
    }
   ],
   "source": [
    "alias['three'] = '3'  \n",
    "print(\"Alias after modification:\", alias)\n",
    "print(\"Original dictionary after alias modification:\", Fd)\n",
    "copy['three'] = '3'   \n",
    "print(\"Copy after modification:\", copy)\n",
    "print(\"Original dictionary after copy modification:\", Fd)"
   ]
  },
  {
   "cell_type": "markdown",
   "id": "dc9ad857-3cf7-4b10-92af-71a72d6574f3",
   "metadata": {},
   "source": [
    "# 2 Built-in Dictionary Functions"
   ]
  },
  {
   "cell_type": "code",
   "execution_count": 651,
   "id": "15a400af-529a-4706-b5f7-20b2a04d8492",
   "metadata": {},
   "outputs": [],
   "source": [
    "my_dict = {\n",
    "    'name': 'Shehwar',\n",
    "    'age': 18,\n",
    "    'city': 'Peshawar'\n",
    "}"
   ]
  },
  {
   "cell_type": "code",
   "execution_count": 653,
   "id": "cea4caed-9e25-4536-ab1f-1aa5cc2215ae",
   "metadata": {},
   "outputs": [
    {
     "name": "stdout",
     "output_type": "stream",
     "text": [
      "Original my_dict: {'name': 'Shehwar', 'age': 18, 'city': 'Peshawar'}\n",
      "my_dict after clear(): {}\n"
     ]
    }
   ],
   "source": [
    "print(\"Original my_dict:\", my_dict)\n",
    "my_dict.clear()        # Clear the dictionary\n",
    "print(\"my_dict after clear():\", my_dict)"
   ]
  },
  {
   "cell_type": "code",
   "execution_count": 655,
   "id": "64bca53a-140d-433d-8e60-833120dbf6b1",
   "metadata": {},
   "outputs": [
    {
     "name": "stdout",
     "output_type": "stream",
     "text": [
      "Getting 'name' using get(): Shehwar\n",
      "Getting 'nonexistent' using get(): None\n"
     ]
    }
   ],
   "source": [
    "# b. .get()\n",
    "my_dict = {\n",
    "    'name': 'Shehwar',\n",
    "    'age': 18,\n",
    "    'city': 'Peshawar'\n",
    "}\n",
    "print(\"Getting 'name' using get():\", my_dict.get('name'))\n",
    "print(\"Getting 'nonexistent' using get():\", my_dict.get('nonexistent'))  \n"
   ]
  },
  {
   "cell_type": "code",
   "execution_count": 657,
   "id": "5b52a64f-998c-4454-bf9d-f29b90aa1327",
   "metadata": {},
   "outputs": [
    {
     "name": "stdout",
     "output_type": "stream",
     "text": [
      "Items in my_dict: dict_items([('name', 'Shehwar'), ('age', 18), ('city', 'Peshawar')])\n"
     ]
    }
   ],
   "source": [
    "print(\"Items in my_dict:\", my_dict.items())\n"
   ]
  },
  {
   "cell_type": "code",
   "execution_count": 659,
   "id": "46fae1bd-205b-4449-8fab-64ccae56fa26",
   "metadata": {},
   "outputs": [
    {
     "name": "stdout",
     "output_type": "stream",
     "text": [
      "Keys in my_dict: dict_keys(['name', 'age', 'city'])\n"
     ]
    }
   ],
   "source": [
    "print(\"Keys in my_dict:\", my_dict.keys())\n"
   ]
  },
  {
   "cell_type": "code",
   "execution_count": 663,
   "id": "73b6a769-16b4-412f-8ca3-f3d1a97d41f2",
   "metadata": {},
   "outputs": [
    {
     "name": "stdout",
     "output_type": "stream",
     "text": [
      "Values in my_dict: dict_values(['Shehwar', 18, 'Peshawar'])\n"
     ]
    }
   ],
   "source": [
    "print(\"Values in my_dict:\", my_dict.values())"
   ]
  },
  {
   "cell_type": "markdown",
   "id": "9ee4b8cf-22e3-4f02-885f-664f5300d188",
   "metadata": {},
   "source": [
    "# List comprehensions:"
   ]
  },
  {
   "cell_type": "code",
   "execution_count": 1,
   "id": "1c7e6aeb-32cc-4384-a33a-dea34fccc163",
   "metadata": {},
   "outputs": [
    {
     "name": "stdout",
     "output_type": "stream",
     "text": [
      "[0, 1, 4, 9, 16, 25, 36, 49, 64, 81]\n"
     ]
    }
   ],
   "source": [
    "squares = []\n",
    "for x in range(10):\n",
    "    squares.append(x * x)\n",
    "\n",
    "print(squares)\n"
   ]
  },
  {
   "cell_type": "code",
   "execution_count": 3,
   "id": "ea9c0f87-b3c0-48c6-9472-d66333e9f4aa",
   "metadata": {},
   "outputs": [
    {
     "name": "stdout",
     "output_type": "stream",
     "text": [
      "[0, 1, 4, 9, 16, 25, 36, 49, 64, 81]\n"
     ]
    }
   ],
   "source": [
    "squares = [x * x for x in range(10)]\n",
    "print(squares)\n"
   ]
  },
  {
   "cell_type": "code",
   "execution_count": 5,
   "id": "1035e373-a351-4378-b323-14482fb22bd7",
   "metadata": {},
   "outputs": [
    {
     "name": "stdout",
     "output_type": "stream",
     "text": [
      "[1, 2, 3, 4, 5, 6, 7, 8, 9, 10]\n"
     ]
    }
   ],
   "source": [
    "squares = [(x + 1) for x in range(10)]\n",
    "print(squares)\n"
   ]
  },
  {
   "cell_type": "code",
   "execution_count": 7,
   "id": "22e7b7cf-97f0-4376-b6a1-a58b475b7b03",
   "metadata": {},
   "outputs": [
    {
     "name": "stdout",
     "output_type": "stream",
     "text": [
      "[0, 4, 16, 36, 64]\n"
     ]
    }
   ],
   "source": [
    "even_squares = [x * x for x in range(10) if x % 2 == 0]\n",
    "print(even_squares)\n"
   ]
  },
  {
   "cell_type": "code",
   "execution_count": 13,
   "id": "0b1eb373-cfff-4341-8533-9f6a0a8f0ab1",
   "metadata": {},
   "outputs": [
    {
     "name": "stdout",
     "output_type": "stream",
     "text": [
      "[0, 4, 16, 36, 64]\n"
     ]
    }
   ],
   "source": [
    "even_squares = []\n",
    "for x in range(10):\n",
    "    if x % 2 == 0:\n",
    "        even_squares.append(x * x)\n",
    "\n",
    "print(even_squares)\n"
   ]
  },
  {
   "cell_type": "markdown",
   "id": "5d11de92-13b3-4634-b72e-f2f9e65dc46f",
   "metadata": {},
   "source": [
    "<center><span style=\"color:red; font-size:30px; font-family:timesnewroman; text-decoration:underline; \">Dictionary comprehension: <span></center>"
   ]
  },
  {
   "cell_type": "code",
   "execution_count": 3,
   "id": "334a4336-b65b-4fb0-98c8-9307851bc69e",
   "metadata": {},
   "outputs": [
    {
     "name": "stdout",
     "output_type": "stream",
     "text": [
      "{0: 0, 1: 1, 2: 4, 3: 9, 4: 16}\n"
     ]
    }
   ],
   "source": [
    "squares_dict = {x: x * x for x in range(5)}\n",
    "print(squares_dict)\n"
   ]
  },
  {
   "cell_type": "code",
   "execution_count": 7,
   "id": "24a3466d-3569-490a-8542-bf90f936632b",
   "metadata": {},
   "outputs": [
    {
     "name": "stdout",
     "output_type": "stream",
     "text": [
      "{0: 0, 2: 4, 4: 16, 6: 36, 8: 64}\n"
     ]
    }
   ],
   "source": [
    "even_squares_dict = {x:x * x for x in range(10) if x % 2 == 0}\n",
    "print(even_squares_dict)\n"
   ]
  },
  {
   "cell_type": "markdown",
   "id": "c76b2ba1-be65-4fa8-ba5c-cd516aa6b28b",
   "metadata": {},
   "source": [
    "# Encouraging:"
   ]
  },
  {
   "cell_type": "code",
   "execution_count": 10,
   "id": "65b82e90-1744-4e3c-a087-e58429de6ea9",
   "metadata": {},
   "outputs": [
    {
     "name": "stdout",
     "output_type": "stream",
     "text": [
      "Length of spam!: 5\n",
      "1 is not a type that has a length.\n",
      "Length of ['Brie', 'Roquefort', 'Pol le Veq']: 3\n",
      "Length of [1, 2, 3]: 3\n"
     ]
    }
   ],
   "source": [
    "my_list = ['spam!', 1, ['Brie', 'Roquefort', 'Pol le Veq'], [1, 2, 3]]\n",
    "\n",
    "for item in my_list:\n",
    "    try:\n",
    "        print(f\"Length of {item}: {len(item)}\")\n",
    "    except TypeError:\n",
    "        print(f\"{item} is not a type that has a length.\")"
   ]
  },
  {
   "cell_type": "code",
   "execution_count": 52,
   "id": "212fdcbc-3e80-476c-a9a0-4b95fef6c1a2",
   "metadata": {},
   "outputs": [
    {
     "name": "stdout",
     "output_type": "stream",
     "text": [
      "['Registration No', 'CLO1', 'CLO2', 'CLO3']\n",
      "['13KTELE0343', '8', '0', '14']\n",
      "['15KTELE0428', '16.5', '17.5', '20']\n",
      "['17KTELE0529', '16.5', '26.5', '17']\n",
      "['17KTELE0535', '14.5', '20.5', '21']\n",
      "['18JZELE0580', '8', '0', '0']\n",
      "['18KTELE0560', '13.5', '26', '20']\n",
      "['18KTELE0562', '27.5', '22.5', '12']\n",
      "['18KTELE0563', '18', '8.5', '6']\n",
      "['18KTELE0564', '27', '34', '23']\n",
      "['18KTELE0565', '20', '27.5', '16']\n",
      "['18KTELE0566', '19', '25.5', '19']\n",
      "['18KTELE0567', '25.5', '33.5', '19']\n",
      "['18KTELE0568', '19', '28', '3']\n",
      "['18KTELE0569', '8', '7.5', '5']\n",
      "['18KTELE0570', '15.5', '15.5', '8.5']\n",
      "['18KTELE0571', '20', '26.5', '14.5']\n",
      "['18KTELE0572', '25.5', '30', '1']\n",
      "['18KTELE0573', '22.5', '34', '13']\n",
      "['18KTELE0574', '20.5', '31', '17']\n",
      "['18KTELE0575', '18', '32.5', '14']\n",
      "['18KTELE0576', '21', '28.5', '15']\n",
      "['18KTELE0577', '26.5', '34.5', '25']\n",
      "['18KTELE0578', '17', '16.5', '7']\n",
      "['18KTELE0579', '22.5', '22.5', '10']\n",
      "['18KTELE0580', '23.5', '22', '21']\n",
      "['18KTELE0581', '23.5', '26', '19']\n",
      "['18KTELE0583', '24', '21', '16']\n",
      "['18KTELE0584', '19', '25', '17']\n",
      "['18KTELE0585', '17', '23', '18']\n",
      "['18KTELE0586', '19.5', '27', '18']\n",
      "['18KTELE0587', '24.5', '30', '21']\n",
      "['18KTELE0588', '30', '39', '18']\n"
     ]
    }
   ],
   "source": [
    "import csv\n",
    "with open(r'C:\\Users\\Acer\\Documents\\Result_CSV (1).csv', mode='r') as file:\n",
    "    csv_reader = csv.reader(file)\n",
    "    for row in csv_reader:\n",
    "        print(row)"
   ]
  },
  {
   "cell_type": "code",
   "execution_count": 56,
   "id": "33db193d-2b52-41ee-8f23-d8612040fbe7",
   "metadata": {},
   "outputs": [
    {
     "name": "stdout",
     "output_type": "stream",
     "text": [
      "CSV as a List:\n",
      "['Registration No', 'CLO1', 'CLO2', 'CLO3']\n",
      "['13KTELE0343', '8', '0', '14']\n",
      "['15KTELE0428', '16.5', '17.5', '20']\n",
      "['17KTELE0529', '16.5', '26.5', '17']\n",
      "['17KTELE0535', '14.5', '20.5', '21']\n",
      "['18JZELE0580', '8', '0', '0']\n",
      "['18KTELE0560', '13.5', '26', '20']\n",
      "['18KTELE0562', '27.5', '22.5', '12']\n",
      "['18KTELE0563', '18', '8.5', '6']\n",
      "['18KTELE0564', '27', '34', '23']\n",
      "['18KTELE0565', '20', '27.5', '16']\n",
      "['18KTELE0566', '19', '25.5', '19']\n",
      "['18KTELE0567', '25.5', '33.5', '19']\n",
      "['18KTELE0568', '19', '28', '3']\n",
      "['18KTELE0569', '8', '7.5', '5']\n",
      "['18KTELE0570', '15.5', '15.5', '8.5']\n",
      "['18KTELE0571', '20', '26.5', '14.5']\n",
      "['18KTELE0572', '25.5', '30', '1']\n",
      "['18KTELE0573', '22.5', '34', '13']\n",
      "['18KTELE0574', '20.5', '31', '17']\n",
      "['18KTELE0575', '18', '32.5', '14']\n",
      "['18KTELE0576', '21', '28.5', '15']\n",
      "['18KTELE0577', '26.5', '34.5', '25']\n",
      "['18KTELE0578', '17', '16.5', '7']\n",
      "['18KTELE0579', '22.5', '22.5', '10']\n",
      "['18KTELE0580', '23.5', '22', '21']\n",
      "['18KTELE0581', '23.5', '26', '19']\n",
      "['18KTELE0583', '24', '21', '16']\n",
      "['18KTELE0584', '19', '25', '17']\n",
      "['18KTELE0585', '17', '23', '18']\n",
      "['18KTELE0586', '19.5', '27', '18']\n",
      "['18KTELE0587', '24.5', '30', '21']\n",
      "['18KTELE0588', '30', '39', '18']\n",
      "\n",
      "CSV as a List of Dictionaries:\n",
      "{'Registration No': '13KTELE0343', 'CLO1': '8', 'CLO2': '0', 'CLO3': '14'}\n",
      "{'Registration No': '15KTELE0428', 'CLO1': '16.5', 'CLO2': '17.5', 'CLO3': '20'}\n",
      "{'Registration No': '17KTELE0529', 'CLO1': '16.5', 'CLO2': '26.5', 'CLO3': '17'}\n",
      "{'Registration No': '17KTELE0535', 'CLO1': '14.5', 'CLO2': '20.5', 'CLO3': '21'}\n",
      "{'Registration No': '18JZELE0580', 'CLO1': '8', 'CLO2': '0', 'CLO3': '0'}\n",
      "{'Registration No': '18KTELE0560', 'CLO1': '13.5', 'CLO2': '26', 'CLO3': '20'}\n",
      "{'Registration No': '18KTELE0562', 'CLO1': '27.5', 'CLO2': '22.5', 'CLO3': '12'}\n",
      "{'Registration No': '18KTELE0563', 'CLO1': '18', 'CLO2': '8.5', 'CLO3': '6'}\n",
      "{'Registration No': '18KTELE0564', 'CLO1': '27', 'CLO2': '34', 'CLO3': '23'}\n",
      "{'Registration No': '18KTELE0565', 'CLO1': '20', 'CLO2': '27.5', 'CLO3': '16'}\n",
      "{'Registration No': '18KTELE0566', 'CLO1': '19', 'CLO2': '25.5', 'CLO3': '19'}\n",
      "{'Registration No': '18KTELE0567', 'CLO1': '25.5', 'CLO2': '33.5', 'CLO3': '19'}\n",
      "{'Registration No': '18KTELE0568', 'CLO1': '19', 'CLO2': '28', 'CLO3': '3'}\n",
      "{'Registration No': '18KTELE0569', 'CLO1': '8', 'CLO2': '7.5', 'CLO3': '5'}\n",
      "{'Registration No': '18KTELE0570', 'CLO1': '15.5', 'CLO2': '15.5', 'CLO3': '8.5'}\n",
      "{'Registration No': '18KTELE0571', 'CLO1': '20', 'CLO2': '26.5', 'CLO3': '14.5'}\n",
      "{'Registration No': '18KTELE0572', 'CLO1': '25.5', 'CLO2': '30', 'CLO3': '1'}\n",
      "{'Registration No': '18KTELE0573', 'CLO1': '22.5', 'CLO2': '34', 'CLO3': '13'}\n",
      "{'Registration No': '18KTELE0574', 'CLO1': '20.5', 'CLO2': '31', 'CLO3': '17'}\n",
      "{'Registration No': '18KTELE0575', 'CLO1': '18', 'CLO2': '32.5', 'CLO3': '14'}\n",
      "{'Registration No': '18KTELE0576', 'CLO1': '21', 'CLO2': '28.5', 'CLO3': '15'}\n",
      "{'Registration No': '18KTELE0577', 'CLO1': '26.5', 'CLO2': '34.5', 'CLO3': '25'}\n",
      "{'Registration No': '18KTELE0578', 'CLO1': '17', 'CLO2': '16.5', 'CLO3': '7'}\n",
      "{'Registration No': '18KTELE0579', 'CLO1': '22.5', 'CLO2': '22.5', 'CLO3': '10'}\n",
      "{'Registration No': '18KTELE0580', 'CLO1': '23.5', 'CLO2': '22', 'CLO3': '21'}\n",
      "{'Registration No': '18KTELE0581', 'CLO1': '23.5', 'CLO2': '26', 'CLO3': '19'}\n",
      "{'Registration No': '18KTELE0583', 'CLO1': '24', 'CLO2': '21', 'CLO3': '16'}\n",
      "{'Registration No': '18KTELE0584', 'CLO1': '19', 'CLO2': '25', 'CLO3': '17'}\n",
      "{'Registration No': '18KTELE0585', 'CLO1': '17', 'CLO2': '23', 'CLO3': '18'}\n",
      "{'Registration No': '18KTELE0586', 'CLO1': '19.5', 'CLO2': '27', 'CLO3': '18'}\n",
      "{'Registration No': '18KTELE0587', 'CLO1': '24.5', 'CLO2': '30', 'CLO3': '21'}\n",
      "{'Registration No': '18KTELE0588', 'CLO1': '30', 'CLO2': '39', 'CLO3': '18'}\n"
     ]
    }
   ],
   "source": [
    "# Reading the CSV as a list\n",
    "data_list = read_csv_as_list(file_path)\n",
    "print(\"CSV as a List:\")\n",
    "for row in data_list:\n",
    "    print(row)\n",
    "# Reading the CSV as a list of dictionaries\n",
    "data_dict = read_csv_as_dict(file_path)\n",
    "print(\"\\nCSV as a List of Dictionaries:\")\n",
    "for row in data_dict:\n",
    "    print(row)"
   ]
  },
  {
   "cell_type": "markdown",
   "id": "b0b0ec13-46c8-4b1a-a37b-88abd249d260",
   "metadata": {},
   "source": [
    "# LAB: 3 COMPLETED By NAME: SHEHWAR MUHAMMAD REG NO: 23JZELE0505 SECTI0N: A"
   ]
  }
 ],
 "metadata": {
  "kernelspec": {
   "display_name": "Python 3 (ipykernel)",
   "language": "python",
   "name": "python3"
  },
  "language_info": {
   "codemirror_mode": {
    "name": "ipython",
    "version": 3
   },
   "file_extension": ".py",
   "mimetype": "text/x-python",
   "name": "python",
   "nbconvert_exporter": "python",
   "pygments_lexer": "ipython3",
   "version": "3.12.4"
  }
 },
 "nbformat": 4,
 "nbformat_minor": 5
}
