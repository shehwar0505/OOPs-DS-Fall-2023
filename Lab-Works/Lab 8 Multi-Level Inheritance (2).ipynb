{
 "cells": [
  {
   "cell_type": "markdown",
   "id": "90c22bc4-bf50-4992-b679-e578dad4cd59",
   "metadata": {},
   "source": [
    "# Lab Title: EE-271 “OOP & Data Structures Lab"
   ]
  },
  {
   "cell_type": "markdown",
   "id": "512578e9-334f-4aa0-8842-0e1c428b2aaf",
   "metadata": {},
   "source": [
    "# LAB 8: Multi-Level Inheritancek:"
   ]
  },
  {
   "cell_type": "markdown",
   "id": "7544214d-a8a3-48c7-a8a6-886f9348c533",
   "metadata": {},
   "source": [
    "# Lab Report work:"
   ]
  },
  {
   "cell_type": "code",
   "execution_count": 22,
   "id": "99049488-f40e-42db-85f1-405990cb4901",
   "metadata": {},
   "outputs": [],
   "source": [
    "# Base Employee Class\n",
    "class Employee:\n",
    "    def __init__(self, emp_id, name):\n",
    "        self.emp_id = emp_id\n",
    "        self.name = name\n",
    "    \n",
    "    def calculate_payroll(self):\n",
    "        raise NotImplementedError(\"This method should be overridden in the subclass.\")\n",
    "\n",
    "    def work(self, hours):\n",
    "        raise NotImplementedError(\"This method should be overridden in the subclass.\")\n",
    "\n",
    "# SalaryEmployee Class (inherits from Employee)\n",
    "class SalaryEmployee(Employee):\n",
    "    def __init__(self, emp_id, name, weekly_salary):\n",
    "        super().__init__(emp_id, name)\n",
    "        self.weekly_salary = weekly_salary\n",
    "    \n",
    "    def calculate_payroll(self):\n",
    "        return self.weekly_salary\n",
    "    \n",
    "    def work(self, hours):\n",
    "        print(f\"{self.name} worked for {hours} hours (Salary-based).\")\n",
    "\n",
    "# Manager Class (inherits from SalaryEmployee)\n",
    "class Manager(SalaryEmployee):\n",
    "    def __init__(self, emp_id, name, weekly_salary):\n",
    "        super().__init__(emp_id, name, weekly_salary)\n",
    "    \n",
    "    def work(self, hours):\n",
    "        print(f\"Manager {self.name} worked for {hours} hours, delegating tasks and overseeing operations.\")\n",
    "\n",
    "# Secretary Class (inherits from SalaryEmployee)\n",
    "class Secretary(SalaryEmployee):\n",
    "    def __init__(self, emp_id, name, weekly_salary):\n",
    "        super().__init__(emp_id, name, weekly_salary)\n",
    "    \n",
    "    def work(self, hours):\n",
    "        print(f\"Secretary {self.name} worked for {hours} hours, handling paperwork and administration.\")\n",
    "\n",
    "# SalesPerson Class (inherits from SalaryEmployee)\n",
    "class SalesPerson(SalaryEmployee):\n",
    "    def __init__(self, emp_id, name, weekly_salary, commission_rate):\n",
    "        super().__init__(emp_id, name, weekly_salary)\n",
    "        self.commission_rate = commission_rate  # Commission rate as a percentage\n",
    "        self.sales_made = 0  # Track the sales made by the employee\n",
    "\n",
    "    def work(self, hours, sales_made):\n",
    "        self.sales_made += sales_made\n",
    "        commission = sales_made * self.commission_rate\n",
    "        total_pay = self.weekly_salary + commission\n",
    "        print(f\"SalesPerson {self.name} worked for {hours} hours and made ${sales_made} in sales. \"\n",
    "              f\"Commission earned: ${commission}. Total Pay: ${total_pay:.2f}\")\n",
    "\n",
    "# HourlyEmployee Class (inherits from Employee)\n",
    "class factoryworker(Employee):\n",
    "    def __init__(self, emp_id, name, hourly_rate, hours_worked):\n",
    "        super().__init__(emp_id, name)\n",
    "        self.hourly_rate = hourly_rate\n",
    "        self.hours_worked = hours_worked\n",
    "    \n",
    "    def calculate_payroll(self):\n",
    "        return self.hourly_rate * self.hours_worked\n",
    "    \n",
    "    def work(self, hours):\n",
    "        self.hours_worked += hours\n",
    "        total_pay = self.calculate_payroll()\n",
    "        print(f\"Factory Worker {self.name} worked for {hours} hours. Total Pay: ${total_pay:.2f}\")\n",
    "\n",
    "# ProductivitySystem Class\n",
    "class ProductivitySystem:\n",
    "    def calculate_productivity(self, employees):\n",
    "        for employee in employees:\n",
    "            print(f\"Employee: {employee.name}\")\n",
    "            if isinstance(employee, SalesPerson):\n",
    "                employee.work(40, 2000)\n",
    "            else:\n",
    "                employee.work(40)\n",
    "            print(\"=\" * 40)"
   ]
  },
  {
   "cell_type": "code",
   "execution_count": 24,
   "id": "bc48cfa7-0e95-4ebf-ab06-62f29261f4a8",
   "metadata": {},
   "outputs": [],
   "source": [
    "# Create instances of different types of employees\n",
    "manager1 = Manager(1, \"SHEHWAR\", 1500)\n",
    "secretary1 = Secretary(2, \"HILAL\", 800)\n",
    "salesperson1 = SalesPerson(3, \"SUDAIS\", 1000, 0.1)  \n",
    "factoryworker1 = factoryworker(4, \"MAMOON\", 20, 40)  \n",
    "\n",
    "# Create a list of employees\n",
    "employees = [\n",
    "    manager1, secretary1, salesperson1, factoryworker1\n",
    "]"
   ]
  },
  {
   "cell_type": "code",
   "execution_count": 26,
   "id": "d81449ac-26ff-409a-9cda-927f991b48af",
   "metadata": {},
   "outputs": [
    {
     "name": "stdout",
     "output_type": "stream",
     "text": [
      "Employee: SHEHWAR\n",
      "Manager SHEHWAR worked for 40 hours, delegating tasks and overseeing operations.\n",
      "========================================\n",
      "Employee: HILAL\n",
      "Secretary HILAL worked for 40 hours, handling paperwork and administration.\n",
      "========================================\n",
      "Employee: SUDAIS\n",
      "SalesPerson SUDAIS worked for 40 hours and made $2000 in sales. Commission earned: $200.0. Total Pay: $1200.00\n",
      "========================================\n",
      "Employee: MAMOON\n",
      "Factory Worker MAMOON worked for 40 hours. Total Pay: $1600.00\n",
      "========================================\n"
     ]
    }
   ],
   "source": [
    "# Create a ProductivitySystem instance and calculate productivity for all employees\n",
    "productivity_system = ProductivitySystem()\n",
    "productivity_system.calculate_productivity(employees)"
   ]
  },
  {
   "cell_type": "markdown",
   "id": "0e6b7217-06bb-4285-b6db-84cb6688036c",
   "metadata": {},
   "source": [
    "# LAB: 8 COMPLETED By NAME: SHEHWAR MUHAMMAD REG NO: 23JZELE0505 SECTI0N: A"
   ]
  }
 ],
 "metadata": {
  "kernelspec": {
   "display_name": "Python 3 (ipykernel)",
   "language": "python",
   "name": "python3"
  },
  "language_info": {
   "codemirror_mode": {
    "name": "ipython",
    "version": 3
   },
   "file_extension": ".py",
   "mimetype": "text/x-python",
   "name": "python",
   "nbconvert_exporter": "python",
   "pygments_lexer": "ipython3",
   "version": "3.12.4"
  }
 },
 "nbformat": 4,
 "nbformat_minor": 5
}
