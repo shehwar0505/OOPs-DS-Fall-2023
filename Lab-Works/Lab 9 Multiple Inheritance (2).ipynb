{
 "cells": [
  {
   "cell_type": "markdown",
   "id": "bc0bf8b9-0720-4633-94b3-06c7fbee91e9",
   "metadata": {},
   "source": [
    "# Lab Title: EE-271 “OOP & Data Structures Lab"
   ]
  },
  {
   "cell_type": "markdown",
   "id": "87a7a2c4-372b-48f2-a6e8-98f03e451467",
   "metadata": {},
   "source": [
    "# LAB 9: Multiple Inheritance"
   ]
  },
  {
   "cell_type": "markdown",
   "id": "9178898e-e23c-41af-963f-5d1c87e5f503",
   "metadata": {},
   "source": [
    "# Lab Report work:"
   ]
  },
  {
   "cell_type": "code",
   "execution_count": 11,
   "id": "4528fd7f-8ff2-4865-b1d6-462ac80842f2",
   "metadata": {},
   "outputs": [],
   "source": [
    "# Base Employee Class\n",
    "class Employee:\n",
    "    def __init__(self, employee_id, name):\n",
    "        self.id = employee_id\n",
    "        self.name = name\n",
    "        \n",
    "    def calculate_payroll(self):\n",
    "        raise NotImplementedError(\"This method should be overridden in the subclass\")\n",
    "\n",
    "# SalaryEmployee Class (Administrative Workers)\n",
    "class SalaryEmployee(Employee):\n",
    "    def __init__(self, employee_id, name, weekly_salary):\n",
    "        # Initialize the base class with id and name\n",
    "        super().__init__(employee_id, name)\n",
    "        self.weekly_salary = weekly_salary\n",
    "    \n",
    "    def calculate_payroll(self):\n",
    "        return self.weekly_salary\n",
    "\n",
    "# HourlyEmployee Class (Manufacturing Workers)\n",
    "class HourlyEmployee(Employee):\n",
    "    def __init__(self, employee_id, name, hours_worked, hourly_rate):\n",
    "        # Initialize the base class with id and name\n",
    "        super().__init__(employee_id, name)\n",
    "        self.hours_worked = hours_worked\n",
    "        self.hourly_rate = hourly_rate\n",
    "    \n",
    "    def calculate_payroll(self):\n",
    "        return self.hours_worked * self.hourly_rate\n",
    "\n",
    "# CommissionEmployee Class (Sales Associates)\n",
    "class CommissionEmployee(SalaryEmployee):\n",
    "    def __init__(self, employee_id, name, weekly_salary, commission_rate, sales):\n",
    "        # Initialize the base class (SalaryEmployee) with id, name, and salary\n",
    "        super().__init__(employee_id, name, weekly_salary)\n",
    "        self.commission_rate = commission_rate\n",
    "        self.sales = sales\n",
    "    \n",
    "    def calculate_payroll(self):\n",
    "        commission = self.sales * self.commission_rate\n",
    "        return self.weekly_salary + commission\n",
    "\n",
    "# PayrollSystem Class\n",
    "class PayrollSystem:\n",
    "    def calculate_payroll(self, employees):\n",
    "        for employee in employees:\n",
    "            payroll = employee.calculate_payroll()\n",
    "            print(f\"Employee ID: {employee.id}, Name: {employee.name}, Payroll: ${payroll:.2f}\")\n",
    "            print(\"=\" * 40)"
   ]
  },
  {
   "cell_type": "code",
   "execution_count": 13,
   "id": "0f645698-328b-4efb-bc24-b8eb3657dcc5",
   "metadata": {},
   "outputs": [
    {
     "name": "stdout",
     "output_type": "stream",
     "text": [
      "Employee ID: 1, Name: shehwar, Payroll: $1000.00\n",
      "========================================\n",
      "Employee ID: 2, Name: hilal, Payroll: $800.00\n",
      "========================================\n",
      "Employee ID: 3, Name: sebgut, Payroll: $1050.00\n",
      "========================================\n"
     ]
    }
   ],
   "source": [
    "# Create instances of different employees\n",
    "salary_employee = SalaryEmployee(1, \"shehwar\", 1000)  \n",
    "hourly_employee = HourlyEmployee(2, \"hilal\", 40, 20)  \n",
    "commission_employee = CommissionEmployee(3, \"sebgut\", 800, 0.05, 5000)  \n",
    "\n",
    "# Create a list of employees\n",
    "employees = [salary_employee, hourly_employee, commission_employee]\n",
    "\n",
    "# Create an instance of PayrollSystem\n",
    "payroll_system = PayrollSystem()\n",
    "\n",
    "# Process payroll\n",
    "payroll_system.calculate_payroll(employees)\n"
   ]
  },
  {
   "cell_type": "code",
   "execution_count": 21,
   "id": "675d0e0f-6cc1-4dac-aaa4-db5ca144b9bf",
   "metadata": {},
   "outputs": [],
   "source": [
    "# Manager Class (inherits from SalaryEmployee)\n",
    "class Manager(SalaryEmployee):\n",
    "    def __init__(self, emp_id, name, weekly_salary):\n",
    "        super().__init__(emp_id, name, weekly_salary)\n",
    "    \n",
    "    def work(self, hours):\n",
    "        print(f\"Manager {self.name} worked for {hours} hours, delegating tasks and overseeing operations.\")\n",
    "\n",
    "# Secretary Class (inherits from SalaryEmployee)\n",
    "class Secretary(SalaryEmployee):\n",
    "    def __init__(self, emp_id, name, weekly_salary):\n",
    "        super().__init__(emp_id, name, weekly_salary)\n",
    "    \n",
    "    def work(self, hours):\n",
    "        print(f\"Secretary {self.name} worked for {hours} hours, handling paperwork and administration.\")\n",
    "\n",
    "# SalesPerson Class (inherits from SalaryEmployee)\n",
    "class SalesPerson(SalaryEmployee):\n",
    "    def __init__(self, emp_id, name, weekly_salary, commission_rate):\n",
    "        super().__init__(emp_id, name, weekly_salary)\n",
    "        self.commission_rate = commission_rate  # Commission rate as a percentage\n",
    "        self.sales_made = 0  # Track the sales made by the employee\n",
    "\n",
    "    def work(self, hours, sales_made):\n",
    "        self.sales_made += sales_made\n",
    "        commission = sales_made * self.commission_rate\n",
    "        total_pay = self.weekly_salary + commission\n",
    "        print(f\"SalesPerson {self.name} worked for {hours} hours and made ${sales_made} in sales. \"\n",
    "              f\"Commission earned: ${commission}. Total Pay: ${total_pay:.2f}\")\n",
    "\n",
    "# HourlyEmployee Class (inherits from Employee)\n",
    "class HourlyEmployee(Employee):\n",
    "    def __init__(self, emp_id, name, hourly_rate, hours_worked):\n",
    "        super().__init__(emp_id, name)\n",
    "        self.hourly_rate = hourly_rate\n",
    "        self.hours_worked = hours_worked\n",
    "    \n",
    "    def calculate_payroll(self):\n",
    "        return self.hourly_rate * self.hours_worked\n",
    "    \n",
    "    def work(self, hours):\n",
    "        self.hours_worked += hours\n",
    "        total_pay = self.calculate_payroll()\n",
    "        print(f\"Factory Worker {self.name} worked for {hours} hours. Total Pay: ${total_pay:.2f}\")\n",
    "\n",
    "# ProductivitySystem Class\n",
    "class ProductivitySystem:\n",
    "    def calculate_productivity(self, employees):\n",
    "        for employee in employees:\n",
    "            print(f\"Employee: {employee.name}\")\n",
    "            if isinstance(employee, SalesPerson):\n",
    "                employee.work(40, 2000)  \n",
    "            else:\n",
    "                employee.work(40)  \n",
    "            print(\"=\" * 40)"
   ]
  },
  {
   "cell_type": "code",
   "execution_count": 23,
   "id": "ebc673fe-b50f-43ed-81f6-71f165372ccf",
   "metadata": {},
   "outputs": [
    {
     "name": "stdout",
     "output_type": "stream",
     "text": [
      "Employee: shehwar\n",
      "Manager shehwar worked for 40 hours, delegating tasks and overseeing operations.\n",
      "========================================\n",
      "Employee: sir\n",
      "Secretary sir worked for 40 hours, handling paperwork and administration.\n",
      "========================================\n",
      "Employee: waseam\n",
      "SalesPerson waseam worked for 40 hours and made $2000 in sales. Commission earned: $200.0. Total Pay: $1200.00\n",
      "========================================\n",
      "Employee: hilal\n",
      "Factory Worker hilal worked for 40 hours. Total Pay: $1600.00\n",
      "========================================\n"
     ]
    }
   ],
   "source": [
    "# Create instances of different types of employees\n",
    "manager1 = Manager(1, \"shehwar\", 1500)\n",
    "secretary1 = Secretary(2, \"sir\", 800)\n",
    "salesperson1 = SalesPerson(3, \"waseam\", 1000, 0.1)  \n",
    "factoryworker1 = HourlyEmployee(4, \"hilal\", 20, 40)  \n",
    "\n",
    "# Create a list of employees\n",
    "employees = [\n",
    "    manager1, secretary1, salesperson1, factoryworker1\n",
    "]\n",
    "\n",
    "# Create a ProductivitySystem instance and calculate productivity for all employees\n",
    "productivity_system = ProductivitySystem()\n",
    "productivity_system.calculate_productivity(employees)"
   ]
  },
  {
   "cell_type": "code",
   "execution_count": 25,
   "id": "f54e79fe-a76a-43c2-867e-17bc9c66e1a0",
   "metadata": {},
   "outputs": [],
   "source": [
    "class TemporarySecretary(Secretary, HourlyEmployee):\n",
    "    def __init__(self, id, name, hours_worked, hourly_rate):\n",
    "        HourlyEmployee.__init__(self, id, name, hours_worked, hourly_rate)\n",
    "    def calculate_payroll(self):\t\n",
    "        return HourlyEmployee.calculate_payroll(self)\n"
   ]
  },
  {
   "cell_type": "code",
   "execution_count": 27,
   "id": "886a8223-9275-4d1f-9d4f-dfbf6fba6b94",
   "metadata": {},
   "outputs": [],
   "source": [
    "manager1 = Manager(1, \"shehwar\", 1500)\n",
    "secretary1 = Secretary(2, \"sir\", 800)\n",
    "salesperson1 = SalesPerson(3, \"sebgut\", 1000, 0.1)\n",
    "factoryworker1 = HourlyEmployee(4, \"hilal\", 20, 40)\n",
    "temporarysecretary = TemporarySecretary(5, \"nabeal\", 40, 9)"
   ]
  },
  {
   "cell_type": "code",
   "execution_count": 29,
   "id": "97deb738-fad2-4df7-86ee-00078668c018",
   "metadata": {},
   "outputs": [],
   "source": [
    "company_employees = [manager1, secretary1, salesperson1, factoryworker1, temporarysecretary]"
   ]
  },
  {
   "cell_type": "code",
   "execution_count": 31,
   "id": "9993b332-83b8-4bc0-914e-1d1f6662797c",
   "metadata": {},
   "outputs": [
    {
     "name": "stdout",
     "output_type": "stream",
     "text": [
      "Employee: shehwar\n",
      "Manager shehwar worked for 40 hours, delegating tasks and overseeing operations.\n",
      "========================================\n",
      "Employee: sir\n",
      "Secretary sir worked for 40 hours, handling paperwork and administration.\n",
      "========================================\n",
      "Employee: sebgut\n",
      "SalesPerson sebgut worked for 40 hours and made $2000 in sales. Commission earned: $200.0. Total Pay: $1200.00\n",
      "========================================\n",
      "Employee: hilal\n",
      "Factory Worker hilal worked for 40 hours. Total Pay: $1600.00\n",
      "========================================\n",
      "Employee: nabeal\n",
      "Secretary nabeal worked for 40 hours, handling paperwork and administration.\n",
      "========================================\n"
     ]
    }
   ],
   "source": [
    "productivity_system = ProductivitySystem()\n",
    "productivity_system.calculate_productivity(company_employees)"
   ]
  },
  {
   "cell_type": "markdown",
   "id": "fed275f6-71f8-49ab-a533-d2e57dfae97c",
   "metadata": {},
   "source": [
    "# LAB: 9 COMPLETED By NAME: SHEHWAR MUHAMMAD REG NO: 23JZELE0505 SECTI0N: A"
   ]
  }
 ],
 "metadata": {
  "kernelspec": {
   "display_name": "Python 3 (ipykernel)",
   "language": "python",
   "name": "python3"
  },
  "language_info": {
   "codemirror_mode": {
    "name": "ipython",
    "version": 3
   },
   "file_extension": ".py",
   "mimetype": "text/x-python",
   "name": "python",
   "nbconvert_exporter": "python",
   "pygments_lexer": "ipython3",
   "version": "3.12.4"
  }
 },
 "nbformat": 4,
 "nbformat_minor": 5
}
