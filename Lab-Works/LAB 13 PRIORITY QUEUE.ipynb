{
 "cells": [
  {
   "cell_type": "markdown",
   "id": "8402282b-068d-4e15-a62d-210c3e8c0f29",
   "metadata": {},
   "source": [
    "# Lab 13 PRIORITY QUEUE"
   ]
  },
  {
   "cell_type": "markdown",
   "id": "5433a22d-3ede-42ea-9604-3abdde8432aa",
   "metadata": {},
   "source": [
    "# Lab Title: EE-271 “OOP & Data Structures Lab”"
   ]
  },
  {
   "cell_type": "markdown",
   "id": "6698d329-19e2-40f0-b9b7-5b95bd698dac",
   "metadata": {},
   "source": [
    "# Aim:\n",
    "# The aim of this lab is to understand the concepts of priority queue and how it \n",
    "# works.\n",
    "# Introduction:\n",
    "# A priority queue is a data structure that stores elements along with associated \n",
    "# priorities. The key feature of a priority queue is that the element with the highest (or lowest) \n",
    "# priority is always at the front and is the next to be removed."
   ]
  },
  {
   "cell_type": "markdown",
   "id": "89cff024-82de-4821-9634-13b6f96f75ea",
   "metadata": {},
   "source": [
    "# 1. Lab work task:"
   ]
  },
  {
   "cell_type": "markdown",
   "id": "55a9991f-972d-4112-aa42-5655b91ed090",
   "metadata": {},
   "source": [
    "# 1. Importing heapq for the Priority Queue\n",
    "# We use the heapq module for its efficient implementation of a binary heap,\n",
    " which is \n",
    "th e underlying data structure for our priority queue."
   ]
  },
  {
   "cell_type": "code",
   "execution_count": 25,
   "id": "1ab52643-744f-4731-8612-bb3e44603fa2",
   "metadata": {},
   "outputs": [],
   "source": [
    "import heapq\n"
   ]
  },
  {
   "cell_type": "markdown",
   "id": "f7fd25e0-25a5-47c9-a794-03310833b2e8",
   "metadata": {},
   "source": [
    "# 2. Enqueue Operation (Insert into the Priority Queue)"
   ]
  },
  {
   "cell_type": "code",
   "execution_count": 27,
   "id": "495c538e-697e-4e24-8df0-bd081af41881",
   "metadata": {},
   "outputs": [
    {
     "name": "stdout",
     "output_type": "stream",
     "text": [
      "['apple', 'orange', 'banana']\n"
     ]
    }
   ],
   "source": [
    "from heapq import heappush\n",
    "\n",
    "fruits = []\n",
    "\n",
    "heappush(fruits, \"orange\")\n",
    "heappush(fruits, \"apple\")\n",
    "heappush(fruits, \"banana\")\n",
    "\n",
    "print(fruits)  \n"
   ]
  },
  {
   "cell_type": "markdown",
   "id": "5f522f71-a203-40b7-8eee-4775fafa14ae",
   "metadata": {},
   "source": [
    "# 3. Dequeue Operation (Remove from the Priority Queue)\n"
   ]
  },
  {
   "cell_type": "code",
   "execution_count": 29,
   "id": "a3cc999e-15da-4f5d-aedc-5fc624ae31e6",
   "metadata": {},
   "outputs": [
    {
     "name": "stdout",
     "output_type": "stream",
     "text": [
      "['banana', 'orange']\n"
     ]
    }
   ],
   "source": [
    "from heapq import heappop\n",
    "\n",
    "heappop(fruits)\n",
    "print(fruits)  \n"
   ]
  },
  {
   "cell_type": "markdown",
   "id": "4b603db1-7e43-400c-8456-c6c92d667f64",
   "metadata": {},
   "source": [
    "# 4. Comparing String Objects"
   ]
  },
  {
   "cell_type": "code",
   "execution_count": 31,
   "id": "784449b9-7f93-4b83-82c7-c609baa6fad7",
   "metadata": {},
   "outputs": [
    {
     "name": "stdout",
     "output_type": "stream",
     "text": [
      "True\n",
      "False\n"
     ]
    }
   ],
   "source": [
    "person1 = (\"John\", \"Brown\", 42)\n",
    "person2 = (\"John\", \"Doe\", 42)\n",
    "person3 = (\"John\", \"Doe\", 24)\n",
    "\n",
    "print(person1 < person2)  \n",
    "print(person2 < person3) \n"
   ]
  },
  {
   "cell_type": "markdown",
   "id": "acc49527-39a2-4bee-ba48-ab231e4b3c38",
   "metadata": {},
   "source": [
    "# 5. Building a Priority Queue Data Type"
   ]
  },
  {
   "cell_type": "code",
   "execution_count": 25,
   "id": "8d9f2472-7abe-4aea-9c73-4eb6b46eca3e",
   "metadata": {},
   "outputs": [],
   "source": [
    "from heapq import heappop, heappush\n",
    "\n",
    "class PriorityQueue:\n",
    "    def __init__(self):\n",
    "        self._elements = []\n",
    "\n",
    "    def enqueue_with_priority(self, priority, value):\n",
    "        heappush(self._elements, (priority, value))\n",
    "\n",
    "    def dequeue(self):\n",
    "        return heappop(self._elements)"
   ]
  },
  {
   "cell_type": "code",
   "execution_count": 29,
   "id": "4c63310d-94c1-4e25-b5c5-705e8406e829",
   "metadata": {},
   "outputs": [
    {
     "name": "stdout",
     "output_type": "stream",
     "text": [
      "[(1, 'Radio station tuned in'), (2, 'Hazard lights turned on'), (3, 'Brake pedal depressed'), (2, 'Windshield wipers turned on')]\n"
     ]
    }
   ],
   "source": [
    "\n",
    "# Define priority levels\n",
    "CRITICAL = 3\n",
    "IMPORTANT = 2\n",
    "NEUTRAL = 1\n",
    "\n",
    "messages = PriorityQueue()\n",
    "messages.enqueue_with_priority(IMPORTANT, \"Windshield wipers turned on\")\n",
    "messages.enqueue_with_priority(NEUTRAL, \"Radio station tuned in\")\n",
    "messages.enqueue_with_priority(CRITICAL, \"Brake pedal depressed\")\n",
    "messages.enqueue_with_priority(IMPORTANT, \"Hazard lights turned on\")\n",
    "\n",
    "print(messages._elements)  \n"
   ]
  },
  {
   "cell_type": "markdown",
   "id": "72516b01-7ec2-470c-9e0c-b8dd3ece7f7b",
   "metadata": {},
   "source": [
    "# 6. Negative Priority"
   ]
  },
  {
   "cell_type": "code",
   "execution_count": 64,
   "id": "9f5cefca-b992-454c-9799-25c9da1a7792",
   "metadata": {},
   "outputs": [],
   "source": [
    "class PriorityQueue:\n",
    "    def __init__(self):\n",
    "        self._elements = []\n",
    "\n",
    "    def enqueue_with_priority(self, priority, value):\n",
    "        heappush(self._elements, (-priority, value))  \n",
    "\n",
    "    def dequeue(self):\n",
    "        return heappop(self._elements)[1]  "
   ]
  },
  {
   "cell_type": "code",
   "execution_count": 66,
   "id": "177638cd-14db-4ab4-9a99-b5d26e564a4a",
   "metadata": {},
   "outputs": [
    {
     "name": "stdout",
     "output_type": "stream",
     "text": [
      "Brake pedal depressed\n",
      "Hazard lights turned on\n"
     ]
    }
   ],
   "source": [
    "messages = PriorityQueue()\n",
    "messages.enqueue_with_priority(IMPORTANT, \"Windshield wipers turned on\")\n",
    "messages.enqueue_with_priority(NEUTRAL, \"Radio station tuned in\")\n",
    "messages.enqueue_with_priority(CRITICAL, \"Brake pedal depressed\")\n",
    "messages.enqueue_with_priority(IMPORTANT, \"Hazard lights turned on\")\n",
    "\n",
    "print(messages.dequeue())\n",
    "print(messages.dequeue())  \n"
   ]
  },
  {
   "cell_type": "markdown",
   "id": "7c16120c-eba0-4d21-8eaa-bb22e6dcfff0",
   "metadata": {},
   "source": [
    "# 7. Handling Corner Cases in Priority Queue"
   ]
  },
  {
   "cell_type": "code",
   "execution_count": 49,
   "id": "d407f02f-6845-4549-a61b-c14deaf8230e",
   "metadata": {},
   "outputs": [],
   "source": [
    "from itertools import count\n",
    "from heapq import heappush, heappop\n",
    "\n",
    "class PriorityQueue:\n",
    "    def __init__(self):\n",
    "        self._elements = []\n",
    "        self._counter = count()\n",
    "\n",
    "    def enqueue_with_priority(self, priority, value):\n",
    "        element = (-priority, next(self._counter), value)\n",
    "        heappush(self._elements, element)\n",
    "\n",
    "    def dequeue(self):\n",
    "        return heappop(self._elements)[-1]"
   ]
  },
  {
   "cell_type": "code",
   "execution_count": 53,
   "id": "96247e2b-d191-44af-bff4-7a425bcbc403",
   "metadata": {},
   "outputs": [
    {
     "name": "stdout",
     "output_type": "stream",
     "text": [
      "Brake pedal depressed\n",
      "Windshield wipers turned on\n"
     ]
    }
   ],
   "source": [
    "messages = PriorityQueue()\n",
    "messages.enqueue_with_priority(IMPORTANT, \"Windshield wipers turned on\")\n",
    "messages.enqueue_with_priority(NEUTRAL, \"Radio station tuned in\")\n",
    "messages.enqueue_with_priority(CRITICAL, \"Brake pedal depressed\")\n",
    "messages.enqueue_with_priority(IMPORTANT, \"Hazard lights turned on\")\n",
    "\n",
    "print(messages.dequeue())  \n",
    "print(messages.dequeue())"
   ]
  },
  {
   "cell_type": "markdown",
   "id": "d4736ab5-1ff3-4d89-976a-683b4204d30f",
   "metadata": {},
   "source": [
    "# 8. Refactoring the Code Using Mixin Classes"
   ]
  },
  {
   "cell_type": "code",
   "execution_count": 58,
   "id": "3cdb5d8a-4e48-4ba7-8e76-68ccc9dcbf9f",
   "metadata": {},
   "outputs": [],
   "source": [
    "class IterableMixin:\n",
    "    def __len__(self):\n",
    "        return len(self._elements)\n",
    "\n",
    "    def __iter__(self):\n",
    "        while len(self) > 0:\n",
    "            yield self.dequeue()\n",
    "\n",
    "class PriorityQueue(IterableMixin):\n",
    "    def __init__(self):\n",
    "        self._elements = []\n",
    "        self._counter = count()\n",
    "\n",
    "    def enqueue_with_priority(self, priority, value):\n",
    "        element = (-priority, next(self._counter), value)\n",
    "        heappush(self._elements, element)\n",
    "\n",
    "    def dequeue(self):\n",
    "        return heappop(self._elements)[-1]"
   ]
  },
  {
   "cell_type": "code",
   "execution_count": 60,
   "id": "c1e5657d-abf7-41f3-9a5e-22f326dd559b",
   "metadata": {},
   "outputs": [
    {
     "name": "stdout",
     "output_type": "stream",
     "text": [
      "Brake pedal depressed\n",
      "Windshield wipers turned on\n",
      "Hazard lights turned on\n",
      "Radio station tuned in\n"
     ]
    }
   ],
   "source": [
    "# Now PriorityQueue has iterability and length functionality\n",
    "messages = PriorityQueue()\n",
    "messages.enqueue_with_priority(IMPORTANT, \"Windshield wipers turned on\")\n",
    "messages.enqueue_with_priority(NEUTRAL, \"Radio station tuned in\")\n",
    "messages.enqueue_with_priority(CRITICAL, \"Brake pedal depressed\")\n",
    "messages.enqueue_with_priority(IMPORTANT, \"Hazard lights turned on\")\n",
    "\n",
    "for message in messages:\n",
    "    print(message)\n"
   ]
  },
  {
   "cell_type": "markdown",
   "id": "2e377418-4f2e-46a9-8724-7e8ba053d3e3",
   "metadata": {},
   "source": [
    "# LAB: 13 COMPLETED By NAME: SHEHWAR MUHAMMAD REG NO: 23JZELE0505 SECTI0N A:\n"
   ]
  }
 ],
 "metadata": {
  "kernelspec": {
   "display_name": "Python 3 (ipykernel)",
   "language": "python",
   "name": "python3"
  },
  "language_info": {
   "codemirror_mode": {
    "name": "ipython",
    "version": 3
   },
   "file_extension": ".py",
   "mimetype": "text/x-python",
   "name": "python",
   "nbconvert_exporter": "python",
   "pygments_lexer": "ipython3",
   "version": "3.12.4"
  }
 },
 "nbformat": 4,
 "nbformat_minor": 5
}
