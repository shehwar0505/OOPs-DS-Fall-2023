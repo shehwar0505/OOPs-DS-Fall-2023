{
 "cells": [
  {
   "cell_type": "markdown",
   "id": "4507f100-5971-42b0-89f6-b854c86fc499",
   "metadata": {},
   "source": [
    "# Lab 4: Classes, objects, and instances  "
   ]
  },
  {
   "cell_type": "markdown",
   "id": "b38b75b9-a189-4560-a2a8-a6fce8af980e",
   "metadata": {},
   "source": [
    "# Lab Title:  EE-271 “OOP & Data Structures Lab”"
   ]
  },
  {
   "cell_type": "markdown",
   "id": "26202456-7c27-49bf-951e-2a808909c8f2",
   "metadata": {},
   "source": [
    "# lab Work task"
   ]
  },
  {
   "cell_type": "markdown",
   "id": "2f4cbfab-f74c-4422-a1a0-94fb37981879",
   "metadata": {},
   "source": [
    "# (1):"
   ]
  },
  {
   "cell_type": "code",
   "execution_count": 169,
   "id": "4f90c0ff-a741-4f92-8f29-498af635866d",
   "metadata": {},
   "outputs": [],
   "source": [
    "class Employee:\n",
    "    def __init__(self, name: str, age: int, position: str, year_started: int) -> None:\n",
    "        self.name = name\n",
    "        self.age = age\n",
    "        self.position = position\n",
    "        self.year_started = year_started\n",
    "kirk = [\"James Kirk\", 34, \"Captain\", 2265] \n",
    "spock = [\"Spock\", 35, \"Science Officer\", 2254] \n",
    "mccoy = [\"Leonard McCoy\", \"Chief Medical Officer\", 2266] "
   ]
  },
  {
   "cell_type": "code",
   "execution_count": 171,
   "id": "e95d9114-f6cc-41b1-8877-7ea76809d94d",
   "metadata": {},
   "outputs": [
    {
     "name": "stdout",
     "output_type": "stream",
     "text": [
      "James Kirk\n"
     ]
    }
   ],
   "source": [
    "print(kirk[0]) "
   ]
  },
  {
   "cell_type": "code",
   "execution_count": 173,
   "id": "acdb3f62-0e8d-45ca-98ac-2c8d58f38e59",
   "metadata": {},
   "outputs": [
    {
     "name": "stdout",
     "output_type": "stream",
     "text": [
      "Chief Medical Officer\n"
     ]
    }
   ],
   "source": [
    "print(mccoy[1])"
   ]
  },
  {
   "cell_type": "markdown",
   "id": "41764918-d466-4898-a649-e72e6513dee9",
   "metadata": {},
   "source": [
    "# (2): Dog Class"
   ]
  },
  {
   "cell_type": "code",
   "execution_count": 212,
   "id": "838108ad-3e47-4925-9b47-3115ed40aafc",
   "metadata": {},
   "outputs": [],
   "source": [
    "class Dog:\n",
    "    pass\n"
   ]
  },
  {
   "cell_type": "code",
   "execution_count": 214,
   "id": "9a06a479-c70f-40bf-9ed8-db6f9d711037",
   "metadata": {},
   "outputs": [
    {
     "name": "stdout",
     "output_type": "stream",
     "text": [
      "Comparison of a and b: False\n",
      "Instance a: <__main__.Dog object at 0x0000025DC836FBF0>\n",
      "Instance b: <__main__.Dog object at 0x0000025DCAB056A0>\n"
     ]
    }
   ],
   "source": [
    "dog_instance = Dog()\n",
    "inst = Dog()\n",
    "a = Dog()\n",
    "b = Dog()\n",
    "comparison_result = a == b  \n",
    "print(f\"Comparison of a and b: {comparison_result}\")  \n",
    "print(\"Instance a:\", a)\n",
    "print(\"Instance b:\", b)\n"
   ]
  },
  {
   "cell_type": "markdown",
   "id": "e3a324fd-9c26-4c8e-8e0f-11c47eaa5aec",
   "metadata": {},
   "source": [
    "# (3): My First Class"
   ]
  },
  {
   "cell_type": "code",
   "execution_count": 7,
   "id": "45377d17-4282-44c7-9b9d-17d24abcc5a5",
   "metadata": {},
   "outputs": [],
   "source": [
    "class MyFirstClass:\n",
    "    pass\n"
   ]
  },
  {
   "cell_type": "code",
   "execution_count": 9,
   "id": "3a67bb33-6986-42c6-9b0e-b493e165c79d",
   "metadata": {},
   "outputs": [],
   "source": [
    "\n",
    "FC1 = MyFirstClass()\n",
    "FC2 = MyFirstClass()\n"
   ]
  },
  {
   "cell_type": "code",
   "execution_count": 11,
   "id": "e6c048a5-c1ad-4b38-a373-9a42a1a1070a",
   "metadata": {},
   "outputs": [
    {
     "name": "stdout",
     "output_type": "stream",
     "text": [
      "Do FC1 and FC2 represent the same object? False\n"
     ]
    }
   ],
   "source": [
    "same_object = FC1 is FC2  \n",
    "print(f\"Do FC1 and FC2 represent the same object? {same_object}\")  \n"
   ]
  },
  {
   "cell_type": "code",
   "execution_count": 13,
   "id": "9dd6d54d-39c3-4320-a559-a41cc9c1a8e6",
   "metadata": {},
   "outputs": [
    {
     "name": "stdout",
     "output_type": "stream",
     "text": [
      "Instance FC1: <__main__.MyFirstClass object at 0x00000243E7AED1F0>\n",
      "Instance FC2: <__main__.MyFirstClass object at 0x00000243E8480B90>\n"
     ]
    }
   ],
   "source": [
    "print(\"Instance FC1:\", FC1)\n",
    "print(\"Instance FC2:\", FC2)\n"
   ]
  },
  {
   "cell_type": "markdown",
   "id": "7b16eff8-4d7c-494d-b44d-dbc4a8ca0567",
   "metadata": {},
   "source": [
    "# (4): Class Point"
   ]
  },
  {
   "cell_type": "code",
   "execution_count": 224,
   "id": "b2365f73-4e8b-449e-8d16-2cf369276596",
   "metadata": {},
   "outputs": [],
   "source": [
    "class Point:\n",
    "    pass\n"
   ]
  },
  {
   "cell_type": "code",
   "execution_count": 226,
   "id": "d5a05106-82e9-4489-9c71-4973895d25ec",
   "metadata": {},
   "outputs": [
    {
     "name": "stdout",
     "output_type": "stream",
     "text": [
      "Instance p1: <__main__.Point object at 0x0000025DC9F02A20>\n",
      "Instance p2: <__main__.Point object at 0x0000025DC9F003B0>\n",
      "Circle 1: <__main__.Circle object at 0x0000025DC9EFB9E0>\n",
      "Circle 2: <__main__.Circle object at 0x0000025DC9EFB7D0>\n",
      "Circle 1 attributes: 5 blue\n",
      "Circle 2 attributes: 10 red\n"
     ]
    }
   ],
   "source": [
    "p1 = Point()\n",
    "p2 = Point()\n",
    "\n",
    "print(\"Instance p1:\", p1)\n",
    "print(\"Instance p2:\", p2)\n",
    "\n",
    "class Circle:\n",
    "    pass\n",
    "\n",
    "circle1 = Circle()\n",
    "circle2 = Circle()\n",
    "\n",
    "circle1.radius = 5\n",
    "circle1.color = \"blue\"\n",
    "circle2.radius = 10\n",
    "circle2.color = \"red\"\n",
    "\n",
    "print(\"Circle 1:\", circle1)\n",
    "print(\"Circle 2:\", circle2)\n",
    "print(\"Circle 1 attributes:\", circle1.radius, circle1.color)\n",
    "print(\"Circle 2 attributes:\", circle2.radius, circle2.color)\n"
   ]
  },
  {
   "cell_type": "markdown",
   "id": "43f676d6-e0c1-4a83-b616-162a5906db05",
   "metadata": {},
   "source": [
    "# (5): Class Dog"
   ]
  },
  {
   "cell_type": "code",
   "execution_count": 228,
   "id": "c9c3fdb9-5630-49f3-82f0-50832acfd932",
   "metadata": {},
   "outputs": [],
   "source": [
    "class Dog:\n",
    "    def __init__(self, name, age):\n",
    "        self.name = name\n",
    "        self.age = age\n",
    "\n",
    "    def __str__(self):\n",
    "        \n",
    "        return f\"Dog(name: {self.name}, age: {self.age})\"\n"
   ]
  },
  {
   "cell_type": "code",
   "execution_count": 230,
   "id": "99a887ad-b6c5-456d-9dcb-789541d62a09",
   "metadata": {},
   "outputs": [
    {
     "name": "stdout",
     "output_type": "stream",
     "text": [
      "Dog(name: Miles, age: 4)\n"
     ]
    }
   ],
   "source": [
    "miles = Dog(\"Miles\", 4)\n",
    "\n",
    "print(miles)\n"
   ]
  },
  {
   "cell_type": "markdown",
   "id": "e1a8d733-993f-452a-beb9-58f53816c719",
   "metadata": {},
   "source": [
    "# (6): Class Dog"
   ]
  },
  {
   "cell_type": "code",
   "execution_count": 29,
   "id": "0e37ed09-b520-4a20-b77c-8bcc5846e2a5",
   "metadata": {},
   "outputs": [],
   "source": [
    "class Dog:\n",
    "    species = \"Canis familiaris\"  \n",
    "\n",
    "    def __init__(self, name, age):  \n",
    "        self.name = name  \n",
    "        self.age = age    "
   ]
  },
  {
   "cell_type": "code",
   "execution_count": 31,
   "id": "42451459-65a4-47a3-9a63-34452043280c",
   "metadata": {},
   "outputs": [],
   "source": [
    "miles = Dog(\"Miles\", 4)\n",
    "buddy = Dog(\"Buddy\", 9)"
   ]
  },
  {
   "cell_type": "code",
   "execution_count": 33,
   "id": "70e622a2-e3be-4b4d-bc29-d1087298a5f4",
   "metadata": {},
   "outputs": [
    {
     "name": "stdout",
     "output_type": "stream",
     "text": [
      "Miles\n",
      "4\n",
      "Buddy\n",
      "9\n"
     ]
    }
   ],
   "source": [
    "print(miles.name)  \n",
    "print(miles.age)   \n",
    "print(buddy.name)  \n",
    "print(buddy.age)"
   ]
  },
  {
   "cell_type": "code",
   "execution_count": 35,
   "id": "361bfca3-e62b-42bc-8c57-85c0b8a04978",
   "metadata": {},
   "outputs": [
    {
     "name": "stdout",
     "output_type": "stream",
     "text": [
      "10\n",
      "Felis silvestris\n",
      "Canis familiaris\n"
     ]
    }
   ],
   "source": [
    "buddy.age = 10\n",
    "print(buddy.age)   \n",
    "\n",
    "miles.species = \"Felis silvestris\"\n",
    "print(miles.species)  \n",
    "print(buddy.species)  \n"
   ]
  },
  {
   "cell_type": "markdown",
   "id": "ad6f53ec-d407-49f4-ad17-e7fb793d552d",
   "metadata": {},
   "source": [
    "# (7):"
   ]
  },
  {
   "cell_type": "code",
   "execution_count": 190,
   "id": "a871cc72-7c50-47a4-ba88-cf6f6ca97837",
   "metadata": {},
   "outputs": [],
   "source": [
    "import math\n",
    "\n",
    "class Point:\n",
    "    \n",
    "\n",
    "    def __init__(self, x: float, y: float):\n",
    "        \n",
    "        self.x = x  \n",
    "        self.y = y  \n",
    "\n",
    "    def distance(self, other: 'Point') -> float:\n",
    "        \n",
    "        return math.sqrt((self.x - other.x) ** 2 + (self.y - other.y) ** 2)\n",
    "\n",
    "    def show(self) -> tuple:\n",
    "       \n",
    "        return (self.x, self.y)\n",
    "\n",
    "    def locate(self) -> str:\n",
    "        if self.x > 0 and self.y > 0:\n",
    "            return \"Quadrant I\"\n",
    "        elif self.x < 0 and self.y > 0:\n",
    "            return \"Quadrant II\"\n",
    "        elif self.x < 0 and self.y < 0:\n",
    "            return \"Quadrant III\"\n",
    "        elif self.x > 0 and self.y < 0:\n",
    "            return \"Quadrant IV\"\n",
    "        else:\n",
    "            return \"On an axis or the origin\"\n",
    "            \n",
    "    def print_point(self):\n",
    "        \n",
    "        print(f\"Point coordinates: ({self.x}, {self.y})\")"
   ]
  },
  {
   "cell_type": "code",
   "execution_count": 204,
   "id": "821d5e0d-048a-45d3-9974-fb76c5563896",
   "metadata": {},
   "outputs": [],
   "source": [
    "p1 = Point(-3, 4)"
   ]
  },
  {
   "cell_type": "code",
   "execution_count": 206,
   "id": "f4e8698d-5648-4ab7-92ed-ee98a3f059cc",
   "metadata": {},
   "outputs": [],
   "source": [
    "p2 = Point(6, 8)"
   ]
  },
  {
   "cell_type": "code",
   "execution_count": 208,
   "id": "4de8c709-9162-4e32-9b0c-f76e5ee6f73b",
   "metadata": {},
   "outputs": [
    {
     "name": "stdout",
     "output_type": "stream",
     "text": [
      "(-3, 4)\n",
      "(6, 8)\n"
     ]
    }
   ],
   "source": [
    "print(p1.show())  \n",
    "print(p2.show())  \n"
   ]
  },
  {
   "cell_type": "code",
   "execution_count": 210,
   "id": "a4b99a25-62a7-41d4-a7c0-2b41269b54bb",
   "metadata": {},
   "outputs": [
    {
     "name": "stdout",
     "output_type": "stream",
     "text": [
      "Quadrant II\n",
      "Quadrant I\n"
     ]
    }
   ],
   "source": [
    "print(p1.locate())  \n",
    "print(p2.locate())  \n"
   ]
  },
  {
   "cell_type": "code",
   "execution_count": 212,
   "id": "d23601e9-3812-4001-99f5-c8f4db4b5127",
   "metadata": {},
   "outputs": [
    {
     "name": "stdout",
     "output_type": "stream",
     "text": [
      "p1 coordinates: -3, 4\n",
      "p2 coordinates: 6, 8\n"
     ]
    }
   ],
   "source": [
    "\n",
    "print(f\"p1 coordinates: {p1.x}, {p1.y}\")  \n",
    "print(f\"p2 coordinates: {p2.x}, {p2.y}\")  \n"
   ]
  },
  {
   "cell_type": "code",
   "execution_count": 214,
   "id": "5ab4e282-8085-4147-8ae4-f5fc3bfae663",
   "metadata": {},
   "outputs": [
    {
     "name": "stdout",
     "output_type": "stream",
     "text": [
      "Point coordinates: (-3, 4)\n",
      "Point coordinates: (6, 8)\n"
     ]
    }
   ],
   "source": [
    "p1.print_point()  \n",
    "p2.print_point()  \n"
   ]
  },
  {
   "cell_type": "code",
   "execution_count": 216,
   "id": "10f44cee-35d0-4af7-b887-33cbda22d2ad",
   "metadata": {},
   "outputs": [
    {
     "name": "stdout",
     "output_type": "stream",
     "text": [
      "Distance between p1 and p2: 9.848857801796104\n"
     ]
    }
   ],
   "source": [
    "distance = p1.distance(p2)\n",
    "print(f\"Distance between p1 and p2: {distance}\")  \n"
   ]
  },
  {
   "cell_type": "code",
   "execution_count": 218,
   "id": "5139b7e2-8d71-4652-9c10-4b5a6df84047",
   "metadata": {},
   "outputs": [
    {
     "name": "stdout",
     "output_type": "stream",
     "text": [
      "{'__module__': '__main__', '__init__': <function Point.__init__ at 0x000001FC42899940>, 'distance': <function Point.distance at 0x000001FC42899080>, 'show': <function Point.show at 0x000001FC4289ACA0>, 'locate': <function Point.locate at 0x000001FC4289A700>, 'print_point': <function Point.print_point at 0x000001FC4289A340>, '__dict__': <attribute '__dict__' of 'Point' objects>, '__weakref__': <attribute '__weakref__' of 'Point' objects>, '__doc__': None}\n"
     ]
    }
   ],
   "source": [
    "print(Point.__dict__)  "
   ]
  },
  {
   "cell_type": "code",
   "execution_count": 222,
   "id": "6e1829e3-2d57-4847-a5a3-158675bab735",
   "metadata": {},
   "outputs": [
    {
     "name": "stdout",
     "output_type": "stream",
     "text": [
      "{'x': -3, 'y': 4}\n"
     ]
    }
   ],
   "source": [
    "print(p1.__dict__) "
   ]
  },
  {
   "cell_type": "code",
   "execution_count": 224,
   "id": "63e21528-04b2-4cde-83f0-12cb08bba000",
   "metadata": {},
   "outputs": [
    {
     "name": "stdout",
     "output_type": "stream",
     "text": [
      "Help on class Point in module __main__:\n",
      "\n",
      "class Point(builtins.object)\n",
      " |  Point(x: float, y: float)\n",
      " |\n",
      " |  Methods defined here:\n",
      " |\n",
      " |  __init__(self, x: float, y: float)\n",
      " |      Initialize self.  See help(type(self)) for accurate signature.\n",
      " |\n",
      " |  distance(self, other: 'Point') -> float\n",
      " |\n",
      " |  locate(self) -> str\n",
      " |\n",
      " |  print_point(self)\n",
      " |\n",
      " |  show(self) -> tuple\n",
      " |\n",
      " |  ----------------------------------------------------------------------\n",
      " |  Data descriptors defined here:\n",
      " |\n",
      " |  __dict__\n",
      " |      dictionary for instance variables\n",
      " |\n",
      " |  __weakref__\n",
      " |      list of weak references to the object\n",
      "\n",
      "None\n"
     ]
    }
   ],
   "source": [
    "print(help(Point))"
   ]
  },
  {
   "cell_type": "code",
   "execution_count": 226,
   "id": "e166f4da-8546-4824-bed8-076d10e64361",
   "metadata": {
    "scrolled": true
   },
   "outputs": [
    {
     "name": "stdout",
     "output_type": "stream",
     "text": [
      "None\n",
      "__init__ docstring: None\n",
      "__init__ annotations: {'x': <class 'float'>, 'y': <class 'float'>}\n",
      "distance docstring: None\n",
      "distance annotations: {'other': 'Point', 'return': <class 'float'>}\n",
      "show docstring: None\n",
      "show annotations: {'return': <class 'tuple'>}\n",
      "locate docstring: None\n",
      "locate annotations: {'return': <class 'str'>}\n",
      "print_point docstring: None\n",
      "print_point annotations: {}\n"
     ]
    }
   ],
   "source": [
    "print(Point.__doc__)  \n",
    "for method in [Point.__init__, Point.distance, Point.show, Point.locate, Point.print_point]:\n",
    "    print(f\"{method.__name__} docstring: {method.__doc__}\")\n",
    "    print(f\"{method.__name__} annotations: {method.__annotations__}\")\n"
   ]
  },
  {
   "cell_type": "markdown",
   "id": "a3bc1470-08bb-40bc-bf36-49cc63d0cc06",
   "metadata": {},
   "source": [
    "# (8):"
   ]
  },
  {
   "cell_type": "code",
   "execution_count": 228,
   "id": "a49e64d3-12ec-472b-9437-571dc6044b29",
   "metadata": {},
   "outputs": [],
   "source": [
    "import math\n",
    "\n",
    "class Point:\n",
    "   \n",
    "    def __init__(self, x: float = 0.0, y: float = 0.0):\n",
    "       \n",
    "        \n",
    "        self.x = x  \n",
    "        self.y = y  \n",
    "\n",
    "    def distance(self, other: 'Point') -> float:\n",
    "       \n",
    "        return math.sqrt((self.x - other.x) ** 2 + (self.y - other.y) ** 2)\n",
    "\n",
    "    def show(self) -> tuple:\n",
    "        \n",
    "        return (self.x, self.y)\n",
    "\n",
    "    def locate(self) -> str:\n",
    "        \n",
    "        return f\"Point is located at ({self.x}, {self.y})\"\n",
    "\n",
    "    def print_point(self):\n",
    "        \n",
    "        print(f\"Point coordinates: ({self.x}, {self.y})\")"
   ]
  },
  {
   "cell_type": "code",
   "execution_count": 230,
   "id": "92d5b55a-abbc-487a-be18-70555fb9c5c2",
   "metadata": {},
   "outputs": [
    {
     "name": "stdout",
     "output_type": "stream",
     "text": [
      "point_1 coordinates using dot operator: x = 3, y = 4\n",
      "point_1 coordinates using show method: (3, 4)\n"
     ]
    }
   ],
   "source": [
    "point_1 = Point(3, 4)\n",
    "print(f\"point_1 coordinates using dot operator: x = {point_1.x}, y = {point_1.y}\")  \n",
    "print(f\"point_1 coordinates using show method: {point_1.show()}\")  \n"
   ]
  },
  {
   "cell_type": "code",
   "execution_count": 232,
   "id": "541c7f81-b28b-4e7a-a4d5-3d94339b930a",
   "metadata": {},
   "outputs": [
    {
     "name": "stdout",
     "output_type": "stream",
     "text": [
      "point_2 coordinates using show method: (5, 0.0)\n"
     ]
    }
   ],
   "source": [
    "point_2 = Point(5)  \n",
    "print(f\"point_2 coordinates using show method: {point_2.show()}\")  "
   ]
  },
  {
   "cell_type": "code",
   "execution_count": 234,
   "id": "8b215857-892f-42a8-8a2f-8a809cf3832d",
   "metadata": {},
   "outputs": [
    {
     "name": "stdout",
     "output_type": "stream",
     "text": [
      "point_3 coordinates using show method: (0.0, 0.0)\n"
     ]
    }
   ],
   "source": [
    "point_3 = Point()  \n",
    "print(f\"point_3 coordinates using show method: {point_3.show()}\")  \n"
   ]
  },
  {
   "cell_type": "markdown",
   "id": "b556f415-eba8-4855-bda7-d4c0a970d452",
   "metadata": {},
   "source": [
    "# LAB: 4 COMPLETED By NAME: SHEHWAR MUHAMMAD REG NO: 23JZELE0505 SECTI0N A:"
   ]
  }
 ],
 "metadata": {
  "kernelspec": {
   "display_name": "Python 3 (ipykernel)",
   "language": "python",
   "name": "python3"
  },
  "language_info": {
   "codemirror_mode": {
    "name": "ipython",
    "version": 3
   },
   "file_extension": ".py",
   "mimetype": "text/x-python",
   "name": "python",
   "nbconvert_exporter": "python",
   "pygments_lexer": "ipython3",
   "version": "3.12.4"
  }
 },
 "nbformat": 4,
 "nbformat_minor": 5
}
