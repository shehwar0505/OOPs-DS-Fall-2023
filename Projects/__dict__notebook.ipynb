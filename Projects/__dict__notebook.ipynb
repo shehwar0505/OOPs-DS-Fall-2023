{
 "cells": [
  {
   "cell_type": "markdown",
   "id": "8c5a87b4-9a8e-4934-b225-8ce85eb5c9cb",
   "metadata": {},
   "source": [
    "# __dict__"
   ]
  },
  {
   "cell_type": "markdown",
   "id": "45d7bfcf-04bd-4a45-8249-a9a3b9a6dcef",
   "metadata": {},
   "source": [
    "![](__dict__1.jpg)"
   ]
  },
  {
   "cell_type": "markdown",
   "id": "08707ca2-1cc8-478c-a938-41889dcc4af9",
   "metadata": {},
   "source": [
    "# Example:"
   ]
  },
  {
   "cell_type": "code",
   "execution_count": 14,
   "id": "bf95efc6-61b2-4e41-8fe2-cbffc7678294",
   "metadata": {},
   "outputs": [],
   "source": [
    "class Person:\n",
    "    def __init__(self, name, age):\n",
    "        self.name = name\n",
    "        self.age = age"
   ]
  },
  {
   "cell_type": "code",
   "execution_count": 16,
   "id": "dbecf35d-6d35-418e-a090-8c21793b99a8",
   "metadata": {},
   "outputs": [],
   "source": [
    "person = Person(\"shehwar\", 18)"
   ]
  },
  {
   "cell_type": "markdown",
   "id": "027fd206-f164-4dd2-a3d1-1e4de2245a83",
   "metadata": {},
   "source": [
    "# Common Uses of __dict__:"
   ]
  },
  {
   "cell_type": "markdown",
   "id": "759b0c55-0c96-4364-8114-56a304045714",
   "metadata": {},
   "source": [
    "# Inspecting Object Attributes:"
   ]
  },
  {
   "cell_type": "code",
   "execution_count": 20,
   "id": "0e322e1e-4440-4c42-8230-a35344c1b4ad",
   "metadata": {},
   "outputs": [
    {
     "data": {
      "text/plain": [
       "{'name': 'shehwar', 'age': 18}"
      ]
     },
     "execution_count": 20,
     "metadata": {},
     "output_type": "execute_result"
    }
   ],
   "source": [
    "person.__dict__\n"
   ]
  },
  {
   "cell_type": "markdown",
   "id": "aebac305-9b19-4a8c-bc31-ac0174fa9566",
   "metadata": {},
   "source": [
    "# Modifying Attributes Dynamically:\r\n",
    "\r\n"
   ]
  },
  {
   "cell_type": "code",
   "execution_count": 23,
   "id": "a4c74787-ede0-4802-8e33-666b91647d8b",
   "metadata": {},
   "outputs": [
    {
     "data": {
      "text/plain": [
       "20"
      ]
     },
     "execution_count": 23,
     "metadata": {},
     "output_type": "execute_result"
    }
   ],
   "source": [
    "person.__dict__['age'] = 20\n",
    "person.age\n"
   ]
  },
  {
   "cell_type": "code",
   "execution_count": 25,
   "id": "6b97409f-d759-42c7-8f70-feb4056cd82c",
   "metadata": {},
   "outputs": [
    {
     "data": {
      "text/plain": [
       "{'name': 'shehwar', 'age': 20}"
      ]
     },
     "execution_count": 25,
     "metadata": {},
     "output_type": "execute_result"
    }
   ],
   "source": [
    "person.__dict__"
   ]
  },
  {
   "cell_type": "code",
   "execution_count": 27,
   "id": "f29ffed6-aba1-4e76-afaa-201ed4e897c6",
   "metadata": {},
   "outputs": [
    {
     "data": {
      "text/plain": [
       "'ktk'"
      ]
     },
     "execution_count": 27,
     "metadata": {},
     "output_type": "execute_result"
    }
   ],
   "source": [
    "person.__dict__['name'] = 'ktk'\n",
    "person.name"
   ]
  },
  {
   "cell_type": "code",
   "execution_count": 29,
   "id": "0953bd3e-78e0-4526-8236-4e9a33a1af84",
   "metadata": {},
   "outputs": [
    {
     "data": {
      "text/plain": [
       "{'name': 'ktk', 'age': 20}"
      ]
     },
     "execution_count": 29,
     "metadata": {},
     "output_type": "execute_result"
    }
   ],
   "source": [
    "person.__dict__"
   ]
  },
  {
   "cell_type": "markdown",
   "id": "cb36368b-74ad-4a04-9347-1968287658d9",
   "metadata": {},
   "source": [
    "# Adding or Modifying Attributes Dynamically:\n",
    "\n"
   ]
  },
  {
   "cell_type": "code",
   "execution_count": 32,
   "id": "d13a6014-e7e8-4e1e-978d-ea66c0e62de6",
   "metadata": {},
   "outputs": [
    {
     "data": {
      "text/plain": [
       "'Dak ismail khel'"
      ]
     },
     "execution_count": 32,
     "metadata": {},
     "output_type": "execute_result"
    }
   ],
   "source": [
    "person.__dict__ ['address'] = 'Dak ismail khel'\n",
    "person.address  \n"
   ]
  },
  {
   "cell_type": "code",
   "execution_count": 34,
   "id": "39400800-7a0f-4305-a7ca-efa8b0a623e6",
   "metadata": {},
   "outputs": [
    {
     "data": {
      "text/plain": [
       "{'name': 'ktk', 'age': 20, 'address': 'Dak ismail khel'}"
      ]
     },
     "execution_count": 34,
     "metadata": {},
     "output_type": "execute_result"
    }
   ],
   "source": [
    "person.__dict__"
   ]
  },
  {
   "cell_type": "markdown",
   "id": "4a8a1aa8-ee47-4dae-937d-669e0318d48e",
   "metadata": {},
   "source": [
    "# Example:"
   ]
  },
  {
   "cell_type": "code",
   "execution_count": 37,
   "id": "86a782f0-f39a-4c62-b08b-e6b839b73c23",
   "metadata": {},
   "outputs": [],
   "source": [
    "class Dog:\n",
    "    species = \"Canis familiaris\"\n",
    "    \n",
    "    def __init__(self, name):\n",
    "        self.name = name"
   ]
  },
  {
   "cell_type": "code",
   "execution_count": 39,
   "id": "c3bf1c78-7b4f-41c2-b15c-183668b58020",
   "metadata": {},
   "outputs": [],
   "source": [
    "D = Dog ('jack')"
   ]
  },
  {
   "cell_type": "markdown",
   "id": "6702a644-393e-458b-a252-ff2b7865e415",
   "metadata": {},
   "source": [
    "# Inspecting Object Attributes:"
   ]
  },
  {
   "cell_type": "code",
   "execution_count": 42,
   "id": "490e6dae-5271-443d-a8fc-3f161c704efe",
   "metadata": {},
   "outputs": [
    {
     "data": {
      "text/plain": [
       "{'name': 'jack'}"
      ]
     },
     "execution_count": 42,
     "metadata": {},
     "output_type": "execute_result"
    }
   ],
   "source": [
    "D.__dict__"
   ]
  },
  {
   "cell_type": "markdown",
   "id": "c3377bfd-735e-47db-b318-26e9f59c7c90",
   "metadata": {},
   "source": [
    "# Class __dict__: When called on a class, __dict__ returns a dictionary of the class's attributes (methods and variables)."
   ]
  },
  {
   "cell_type": "code",
   "execution_count": 45,
   "id": "bf81e1aa-5cd5-40a9-bfa0-68247b244a10",
   "metadata": {},
   "outputs": [
    {
     "data": {
      "text/plain": [
       "mappingproxy({'__module__': '__main__',\n",
       "              'species': 'Canis familiaris',\n",
       "              '__init__': <function __main__.Dog.__init__(self, name)>,\n",
       "              '__dict__': <attribute '__dict__' of 'Dog' objects>,\n",
       "              '__weakref__': <attribute '__weakref__' of 'Dog' objects>,\n",
       "              '__doc__': None})"
      ]
     },
     "execution_count": 45,
     "metadata": {},
     "output_type": "execute_result"
    }
   ],
   "source": [
    "Dog.__dict__"
   ]
  },
  {
   "cell_type": "markdown",
   "id": "a92d3fd8-23a8-4f67-8036-bbbb0c4f654b",
   "metadata": {},
   "source": [
    "# Modifying Attributes:"
   ]
  },
  {
   "cell_type": "code",
   "execution_count": 48,
   "id": "dc9cbf4b-549e-4e0b-bd9a-84636ed66e19",
   "metadata": {},
   "outputs": [
    {
     "data": {
      "text/plain": [
       "'dog'"
      ]
     },
     "execution_count": 48,
     "metadata": {},
     "output_type": "execute_result"
    }
   ],
   "source": [
    "D.__dict__['name'] = \"dog\"\n",
    "D.name"
   ]
  },
  {
   "cell_type": "markdown",
   "id": "67f75536-5f04-4a28-800a-4ac74aab2162",
   "metadata": {},
   "source": [
    "# Adding Attributes:"
   ]
  },
  {
   "cell_type": "code",
   "execution_count": 51,
   "id": "f9bd43eb-83c5-420b-9fca-c25005bb494c",
   "metadata": {},
   "outputs": [
    {
     "data": {
      "text/plain": [
       "'red'"
      ]
     },
     "execution_count": 51,
     "metadata": {},
     "output_type": "execute_result"
    }
   ],
   "source": [
    "D.__dict__ ['color'] = 'red'\n",
    "D.color "
   ]
  },
  {
   "cell_type": "code",
   "execution_count": 53,
   "id": "0fdd9321-566b-4d39-8c97-695ae16e3692",
   "metadata": {},
   "outputs": [
    {
     "data": {
      "text/plain": [
       "{'name': 'dog', 'color': 'red'}"
      ]
     },
     "execution_count": 53,
     "metadata": {},
     "output_type": "execute_result"
    }
   ],
   "source": [
    "D.__dict__"
   ]
  },
  {
   "cell_type": "code",
   "execution_count": 55,
   "id": "ed5fa02c-b9ad-47e9-b0ac-c43b07e4a2ed",
   "metadata": {},
   "outputs": [
    {
     "data": {
      "text/plain": [
       "mappingproxy({'__module__': '__main__',\n",
       "              'species': 'Canis familiaris',\n",
       "              '__init__': <function __main__.Dog.__init__(self, name)>,\n",
       "              '__dict__': <attribute '__dict__' of 'Dog' objects>,\n",
       "              '__weakref__': <attribute '__weakref__' of 'Dog' objects>,\n",
       "              '__doc__': None})"
      ]
     },
     "execution_count": 55,
     "metadata": {},
     "output_type": "execute_result"
    }
   ],
   "source": [
    "Dog.__dict__"
   ]
  },
  {
   "cell_type": "markdown",
   "id": "ed94a282-5ee6-4448-ac6e-656ee9293137",
   "metadata": {},
   "source": [
    "# Example:"
   ]
  },
  {
   "cell_type": "code",
   "execution_count": 58,
   "id": "698690f5-96fc-45ee-9c37-f50cdb8fde51",
   "metadata": {},
   "outputs": [],
   "source": [
    "class Circle:\n",
    "    def __init__(self, radius):\n",
    "        self._radius = radius  \n",
    "    \n",
    "    @property\n",
    "    def radius(self):\n",
    "        return self._radius\n",
    "    \n",
    "    @radius.setter\n",
    "    def radius(self, value):\n",
    "        self._radius = value\n",
    "\n",
    "    @property\n",
    "    def area(self):\n",
    "        return 3.14159 * self._radius ** 2\n",
    "    def __repr__(self):\n",
    "        print(repr(circle))  \n",
    "    def __str__(self):\n",
    "        print(str(circle))"
   ]
  },
  {
   "cell_type": "code",
   "execution_count": 60,
   "id": "f18ab4ea-6143-444b-91f9-98eac04fec64",
   "metadata": {},
   "outputs": [],
   "source": [
    "circle = Circle(8)"
   ]
  },
  {
   "cell_type": "markdown",
   "id": "f9219181-9cd7-4e17-aa96-e856bb1305d8",
   "metadata": {},
   "source": [
    "# Inspect the object's attributes."
   ]
  },
  {
   "cell_type": "code",
   "execution_count": 63,
   "id": "aa603889-9381-45ef-aab0-fde67b2a6074",
   "metadata": {},
   "outputs": [
    {
     "data": {
      "text/plain": [
       "{'_radius': 8}"
      ]
     },
     "execution_count": 63,
     "metadata": {},
     "output_type": "execute_result"
    }
   ],
   "source": [
    "circle.__dict__"
   ]
  },
  {
   "cell_type": "code",
   "execution_count": 65,
   "id": "52ae0202-cc2c-4b7c-9950-a37608dde3d6",
   "metadata": {},
   "outputs": [
    {
     "data": {
      "text/plain": [
       "201.06176"
      ]
     },
     "execution_count": 65,
     "metadata": {},
     "output_type": "execute_result"
    }
   ],
   "source": [
    "circle.area"
   ]
  },
  {
   "cell_type": "markdown",
   "id": "a8d6fd69-5fac-4198-9253-1bcc6adde8eb",
   "metadata": {},
   "source": [
    "# Modify existing attributes.\n"
   ]
  },
  {
   "cell_type": "code",
   "execution_count": 68,
   "id": "6eec9793-ab9b-4efc-af1e-fd08322f31aa",
   "metadata": {},
   "outputs": [
    {
     "data": {
      "text/plain": [
       "10"
      ]
     },
     "execution_count": 68,
     "metadata": {},
     "output_type": "execute_result"
    }
   ],
   "source": [
    "# Modify an existing attribute (radius) via __dict__\n",
    "circle.__dict__['_radius'] = 10\n",
    "circle.radius"
   ]
  },
  {
   "cell_type": "markdown",
   "id": "9a196c61-66fc-4d1f-93e4-c41129e36c5e",
   "metadata": {},
   "source": [
    "# Add new attributes dynamically."
   ]
  },
  {
   "cell_type": "code",
   "execution_count": 71,
   "id": "f2997c90-2d71-4420-b249-65909430e2d5",
   "metadata": {},
   "outputs": [
    {
     "data": {
      "text/plain": [
       "'red'"
      ]
     },
     "execution_count": 71,
     "metadata": {},
     "output_type": "execute_result"
    }
   ],
   "source": [
    "# Add a new attribute dynamically via __dict__\n",
    "circle.__dict__['color'] = 'red'\n",
    "circle.color"
   ]
  },
  {
   "cell_type": "markdown",
   "id": "052fc824-c7c6-4bbd-9fca-b5d9d4bb801e",
   "metadata": {},
   "source": [
    "# Remove attributes."
   ]
  },
  {
   "cell_type": "code",
   "execution_count": 74,
   "id": "a38cce5b-da16-41d4-925c-260c86267fd4",
   "metadata": {},
   "outputs": [],
   "source": [
    "# Remove an attribute from the object via __dict__\n",
    "del circle.__dict__['_radius']  "
   ]
  },
  {
   "cell_type": "code",
   "execution_count": 76,
   "id": "44fd2335-22bb-4e1c-8dca-63eec7b5e740",
   "metadata": {},
   "outputs": [
    {
     "data": {
      "text/plain": [
       "{'color': 'red'}"
      ]
     },
     "execution_count": 76,
     "metadata": {},
     "output_type": "execute_result"
    }
   ],
   "source": [
    "# Checking the __dict__ after adding and removing attributes\n",
    "circle.__dict__ \n"
   ]
  },
  {
   "cell_type": "markdown",
   "id": "729c2a6f-9edf-4d06-b359-66a6bda79edc",
   "metadata": {},
   "source": [
    "# Example:"
   ]
  },
  {
   "cell_type": "code",
   "execution_count": 79,
   "id": "61433127-1a2a-4ed5-88db-8feb42f9a27e",
   "metadata": {},
   "outputs": [],
   "source": [
    "class Circuit:\n",
    "    def __init__(self, resistance: float = 1.0) -> None:\n",
    "        self.resistance = resistance\n",
    "\n",
    "    @property\n",
    "    def resistance(self) -> float:\n",
    "        return self._resistance\n",
    "\n",
    "    @resistance.setter\n",
    "    def resistance(self, value: float) -> None:\n",
    "        self._resistance = value\n",
    "\n",
    "    def current(self, voltage: float) -> float:\n",
    "        return voltage / self.resistance\n",
    "\n",
    "    def __repr__(self) -> str:\n",
    "        return f\"Circuit(resistance={self.resistance})\""
   ]
  },
  {
   "cell_type": "code",
   "execution_count": 81,
   "id": "10f91ade-71ba-4f7f-a288-5cdbd28398dc",
   "metadata": {},
   "outputs": [
    {
     "name": "stdout",
     "output_type": "stream",
     "text": [
      "Circuit(resistance=10)\n"
     ]
    }
   ],
   "source": [
    "c = Circuit(10)\n",
    "print(c)"
   ]
  },
  {
   "cell_type": "code",
   "execution_count": 83,
   "id": "aa1db37a-615b-4d5f-b492-c3b24802b3b6",
   "metadata": {},
   "outputs": [
    {
     "name": "stdout",
     "output_type": "stream",
     "text": [
      "Current at 20V: 2.0 A\n"
     ]
    }
   ],
   "source": [
    "print(f\"Current at 20V: {c.current(20)} A\")"
   ]
  },
  {
   "cell_type": "markdown",
   "id": "c8c69813-d998-4ca4-81ff-c75c17a0c832",
   "metadata": {},
   "source": [
    "# Inspect the object's attributes."
   ]
  },
  {
   "cell_type": "code",
   "execution_count": 86,
   "id": "7cdcdba4-f912-4fcc-882b-bf9b07cd1386",
   "metadata": {},
   "outputs": [
    {
     "data": {
      "text/plain": [
       "{'_resistance': 10}"
      ]
     },
     "execution_count": 86,
     "metadata": {},
     "output_type": "execute_result"
    }
   ],
   "source": [
    "c.__dict__"
   ]
  },
  {
   "cell_type": "markdown",
   "id": "add77453-39df-433e-bb15-0549cb635ab2",
   "metadata": {},
   "source": [
    "# Class __dict__: When called on a class, __dict__ returns a dictionary of the class's attributes (methods and variables)."
   ]
  },
  {
   "cell_type": "code",
   "execution_count": 89,
   "id": "429bfc6f-b5f0-4d06-a63e-1c8c9c84287e",
   "metadata": {},
   "outputs": [
    {
     "data": {
      "text/plain": [
       "mappingproxy({'__module__': '__main__',\n",
       "              '__init__': <function __main__.Circuit.__init__(self, resistance: float = 1.0) -> None>,\n",
       "              'resistance': <property at 0x21e76b647c0>,\n",
       "              'current': <function __main__.Circuit.current(self, voltage: float) -> float>,\n",
       "              '__repr__': <function __main__.Circuit.__repr__(self) -> str>,\n",
       "              '__dict__': <attribute '__dict__' of 'Circuit' objects>,\n",
       "              '__weakref__': <attribute '__weakref__' of 'Circuit' objects>,\n",
       "              '__doc__': None})"
      ]
     },
     "execution_count": 89,
     "metadata": {},
     "output_type": "execute_result"
    }
   ],
   "source": [
    "Circuit.__dict__"
   ]
  },
  {
   "cell_type": "markdown",
   "id": "7c612e1f-17f7-464e-a4af-c316c90ea329",
   "metadata": {},
   "source": [
    "# Modify existing attributes.\n"
   ]
  },
  {
   "cell_type": "code",
   "execution_count": 92,
   "id": "f29e3fe1-5d1a-46af-ae67-cfd8e5a29aa8",
   "metadata": {},
   "outputs": [
    {
     "data": {
      "text/plain": [
       "20"
      ]
     },
     "execution_count": 92,
     "metadata": {},
     "output_type": "execute_result"
    }
   ],
   "source": [
    "# Modify an existing attribute (radius) via __dict__\n",
    "c.__dict__['_resistance']= 20\n",
    "c.resistance"
   ]
  },
  {
   "cell_type": "code",
   "execution_count": 94,
   "id": "224fd84d-b495-4737-9e44-8045f45f1e5d",
   "metadata": {},
   "outputs": [
    {
     "data": {
      "text/plain": [
       "{'_resistance': 20}"
      ]
     },
     "execution_count": 94,
     "metadata": {},
     "output_type": "execute_result"
    }
   ],
   "source": [
    "c.__dict__"
   ]
  },
  {
   "cell_type": "markdown",
   "id": "584a1229-c92f-4187-985b-3149e151df1f",
   "metadata": {},
   "source": [
    "# Add new attributes dynamically."
   ]
  },
  {
   "cell_type": "code",
   "execution_count": 97,
   "id": "2a7be697-ea71-4a62-bb29-f2378d7c6b53",
   "metadata": {},
   "outputs": [
    {
     "data": {
      "text/plain": [
       "<bound method Circuit.current of Circuit(resistance=20)>"
      ]
     },
     "execution_count": 97,
     "metadata": {},
     "output_type": "execute_result"
    }
   ],
   "source": [
    "c.__dict__['currrent'] = 10\n",
    "c.current"
   ]
  },
  {
   "cell_type": "code",
   "execution_count": 99,
   "id": "6d6dda23-0233-47ae-ad2b-bf381ef420ec",
   "metadata": {},
   "outputs": [
    {
     "data": {
      "text/plain": [
       "{'_resistance': 20, 'currrent': 10}"
      ]
     },
     "execution_count": 99,
     "metadata": {},
     "output_type": "execute_result"
    }
   ],
   "source": [
    "c.__dict__"
   ]
  },
  {
   "cell_type": "code",
   "execution_count": 101,
   "id": "e68b68be-69d0-42da-b3d7-e79e1f7c0e53",
   "metadata": {},
   "outputs": [
    {
     "name": "stdout",
     "output_type": "stream",
     "text": [
      "Current at 10V: 0.5 A\n"
     ]
    }
   ],
   "source": [
    "print(f\"Current at 10V: {c.current(10)} A\")"
   ]
  },
  {
   "cell_type": "markdown",
   "id": "356ba3fa-f7b1-44e8-97c1-072358d8717a",
   "metadata": {},
   "source": [
    "# Remove attributes."
   ]
  },
  {
   "cell_type": "code",
   "execution_count": 104,
   "id": "a3e46b0e-4f15-4992-80fa-b6b79e59b669",
   "metadata": {},
   "outputs": [],
   "source": [
    "del c.__dict__['_resistance']"
   ]
  },
  {
   "cell_type": "code",
   "execution_count": 106,
   "id": "bf409ea2-19b1-4206-8598-d22f1679fbf3",
   "metadata": {},
   "outputs": [
    {
     "data": {
      "text/plain": [
       "{'currrent': 10}"
      ]
     },
     "execution_count": 106,
     "metadata": {},
     "output_type": "execute_result"
    }
   ],
   "source": [
    "c.__dict__"
   ]
  },
  {
   "cell_type": "markdown",
   "id": "52b3fca2-cc85-4384-9ddd-b1159ea1eae0",
   "metadata": {},
   "source": [
    "# Example:"
   ]
  },
  {
   "cell_type": "code",
   "execution_count": 109,
   "id": "c61cca5f-1bff-470e-a7cf-e3b7a9d21b5d",
   "metadata": {},
   "outputs": [],
   "source": [
    "import math\n",
    "\n",
    "class Point:\n",
    "    def __init__(self, x, y):\n",
    "        self._x = x\n",
    "        self._y = y\n",
    "\n",
    "    @property\n",
    "    def x(self):\n",
    "        return self._x\n",
    "\n",
    "    @x.setter\n",
    "    def x(self, value: float):\n",
    "        self._x = value\n",
    "\n",
    "    @property\n",
    "    def y(self) -> float:\n",
    "        return self._y\n",
    "\n",
    "    @y.setter\n",
    "    def y(self, value: float):\n",
    "        self._y = value\n",
    "\n",
    "    def distance_to(self, other: 'Point'):\n",
    "        return math.sqrt((self.x - other.x) ** 2 + (self.y - other.y) ** 2)\n",
    "\n",
    "    def distance_from_origin(self):\n",
    "        return math.sqrt(self.x ** 2 + self.y ** 2)\n",
    "\n",
    "    def locate(self) -> str:\n",
    "        return f\"Point is located at ({self.x}, {self.y})\"\n",
    "\n",
    "    def __repr__(self) -> str:\n",
    "        return f\"Point({self.x}, {self.y})\"\n",
    "\n",
    "    def __str__(self):\n",
    "        return f\"Point at ({self.x}, {self.y})\"\n",
    "\n",
    "    @staticmethod\n",
    "    def origin() -> 'Point':\n",
    "        return Point(0, 0)\n",
    "\n",
    "    @classmethod\n",
    "    def from_tuple(cls, coord: tuple) -> 'Point':\n",
    "        return cls(*coord)"
   ]
  },
  {
   "cell_type": "code",
   "execution_count": 111,
   "id": "7b8c0629-a3e0-4d87-bbbe-50d0956e8571",
   "metadata": {},
   "outputs": [],
   "source": [
    "a = Point(3, 4)\n",
    "b = Point(6, 8)"
   ]
  },
  {
   "cell_type": "markdown",
   "id": "5993f743-d5f9-49d3-a8a9-a2937beceab3",
   "metadata": {},
   "source": [
    "# Inspect the object's attributes."
   ]
  },
  {
   "cell_type": "code",
   "execution_count": 114,
   "id": "378b3463-183d-445d-9278-796524e1c506",
   "metadata": {},
   "outputs": [
    {
     "data": {
      "text/plain": [
       "{'_x': 3, '_y': 4}"
      ]
     },
     "execution_count": 114,
     "metadata": {},
     "output_type": "execute_result"
    }
   ],
   "source": [
    "a.__dict__"
   ]
  },
  {
   "cell_type": "code",
   "execution_count": 116,
   "id": "779c1b6e-d68d-454b-b025-ef6bf0318beb",
   "metadata": {},
   "outputs": [
    {
     "data": {
      "text/plain": [
       "{'_x': 6, '_y': 8}"
      ]
     },
     "execution_count": 116,
     "metadata": {},
     "output_type": "execute_result"
    }
   ],
   "source": [
    "b.__dict__"
   ]
  },
  {
   "cell_type": "code",
   "execution_count": 118,
   "id": "736a1576-f6b8-43d3-b1bf-c0137a50667a",
   "metadata": {},
   "outputs": [
    {
     "data": {
      "text/plain": [
       "({'_x': 3, '_y': 4}, {'_x': 6, '_y': 8})"
      ]
     },
     "execution_count": 118,
     "metadata": {},
     "output_type": "execute_result"
    }
   ],
   "source": [
    "a.__dict__,b.__dict__"
   ]
  },
  {
   "cell_type": "markdown",
   "id": "8eb7f64f-180c-47c5-bf65-7776573c282e",
   "metadata": {},
   "source": [
    "# Class __dict__: When called on a class, __dict__ returns a dictionary of the class's attributes (methods and variables)."
   ]
  },
  {
   "cell_type": "code",
   "execution_count": 121,
   "id": "e26e6680-469f-4b9d-ac83-6243dba7b9c8",
   "metadata": {},
   "outputs": [
    {
     "data": {
      "text/plain": [
       "mappingproxy({'__module__': '__main__',\n",
       "              '__init__': <function __main__.Point.__init__(self, x, y)>,\n",
       "              'x': <property at 0x21e75501c10>,\n",
       "              'y': <property at 0x21e75503060>,\n",
       "              'distance_to': <function __main__.Point.distance_to(self, other: 'Point')>,\n",
       "              'distance_from_origin': <function __main__.Point.distance_from_origin(self)>,\n",
       "              'locate': <function __main__.Point.locate(self) -> str>,\n",
       "              '__repr__': <function __main__.Point.__repr__(self) -> str>,\n",
       "              '__str__': <function __main__.Point.__str__(self)>,\n",
       "              'origin': <staticmethod(<function Point.origin at 0x0000021E76B68FE0>)>,\n",
       "              'from_tuple': <classmethod(<function Point.from_tuple at 0x0000021E76B69080>)>,\n",
       "              '__dict__': <attribute '__dict__' of 'Point' objects>,\n",
       "              '__weakref__': <attribute '__weakref__' of 'Point' objects>,\n",
       "              '__doc__': None})"
      ]
     },
     "execution_count": 121,
     "metadata": {},
     "output_type": "execute_result"
    }
   ],
   "source": [
    "Point.__dict__"
   ]
  },
  {
   "cell_type": "markdown",
   "id": "744aa5f2-a16c-48fc-a4e7-ca0f410551a9",
   "metadata": {},
   "source": [
    "# Modify existing attributes.\n"
   ]
  },
  {
   "cell_type": "code",
   "execution_count": 124,
   "id": "130f45f2-dfa0-48bd-8d3b-2a9d23ea27c0",
   "metadata": {},
   "outputs": [],
   "source": [
    "a.__dict__['_x'] = 7"
   ]
  },
  {
   "cell_type": "code",
   "execution_count": 126,
   "id": "39c8edeb-1727-48a6-8de3-5a88bc911d45",
   "metadata": {},
   "outputs": [
    {
     "data": {
      "text/plain": [
       "{'_x': 7, '_y': 4}"
      ]
     },
     "execution_count": 126,
     "metadata": {},
     "output_type": "execute_result"
    }
   ],
   "source": [
    "a.__dict__"
   ]
  },
  {
   "cell_type": "code",
   "execution_count": 128,
   "id": "cdd795ee-d2a5-45e8-b24f-637315d0cc50",
   "metadata": {},
   "outputs": [],
   "source": [
    "b.__dict__['_y'] = 9"
   ]
  },
  {
   "cell_type": "code",
   "execution_count": 130,
   "id": "a2c774d2-5667-43e1-9f3f-65efb6113b78",
   "metadata": {},
   "outputs": [
    {
     "data": {
      "text/plain": [
       "{'_x': 6, '_y': 9}"
      ]
     },
     "execution_count": 130,
     "metadata": {},
     "output_type": "execute_result"
    }
   ],
   "source": [
    "b.__dict__"
   ]
  },
  {
   "cell_type": "markdown",
   "id": "87ef5175-f8f9-453f-a037-92aeba28b622",
   "metadata": {},
   "source": [
    "# Add new attributes dynamically.\n"
   ]
  },
  {
   "cell_type": "code",
   "execution_count": 133,
   "id": "2efda0a8-ea71-42c7-954c-797fdf6d0cec",
   "metadata": {},
   "outputs": [],
   "source": [
    "a.__dict__['z'] = 10"
   ]
  },
  {
   "cell_type": "code",
   "execution_count": 135,
   "id": "d83be5d4-4961-4737-b2fa-24dcff3b4c35",
   "metadata": {},
   "outputs": [
    {
     "data": {
      "text/plain": [
       "{'_x': 7, '_y': 4, 'z': 10}"
      ]
     },
     "execution_count": 135,
     "metadata": {},
     "output_type": "execute_result"
    }
   ],
   "source": [
    "a.__dict__"
   ]
  },
  {
   "cell_type": "code",
   "execution_count": 137,
   "id": "6efcf718-db8c-43f6-a2b0-e7d81c8d1890",
   "metadata": {},
   "outputs": [],
   "source": [
    "b.__dict__['z'] = 20"
   ]
  },
  {
   "cell_type": "code",
   "execution_count": 139,
   "id": "a9b48592-e039-49bd-9e9f-8d19361d83bf",
   "metadata": {},
   "outputs": [
    {
     "data": {
      "text/plain": [
       "{'_x': 6, '_y': 9, 'z': 20}"
      ]
     },
     "execution_count": 139,
     "metadata": {},
     "output_type": "execute_result"
    }
   ],
   "source": [
    "b.__dict__"
   ]
  },
  {
   "cell_type": "markdown",
   "id": "b8eea95d-9826-47d1-8346-47bad85df44e",
   "metadata": {},
   "source": [
    "# Remove attributes."
   ]
  },
  {
   "cell_type": "code",
   "execution_count": 142,
   "id": "94c9e8f7-c970-4bc8-a0c9-1d8ca480f163",
   "metadata": {},
   "outputs": [],
   "source": [
    "del a.__dict__['_x']"
   ]
  },
  {
   "cell_type": "code",
   "execution_count": 144,
   "id": "d6e14172-fbc0-45a4-ba94-d96d96a27921",
   "metadata": {},
   "outputs": [
    {
     "data": {
      "text/plain": [
       "{'_y': 4, 'z': 10}"
      ]
     },
     "execution_count": 144,
     "metadata": {},
     "output_type": "execute_result"
    }
   ],
   "source": [
    "a.__dict__"
   ]
  },
  {
   "cell_type": "code",
   "execution_count": 146,
   "id": "2bdb0cd9-e5db-4833-a530-128b68ca2aa7",
   "metadata": {},
   "outputs": [],
   "source": [
    "del b.__dict__['z']"
   ]
  },
  {
   "cell_type": "code",
   "execution_count": 148,
   "id": "4a7d084a-a350-4928-beb4-417700adf4c6",
   "metadata": {},
   "outputs": [
    {
     "data": {
      "text/plain": [
       "{'_x': 6, '_y': 9}"
      ]
     },
     "execution_count": 148,
     "metadata": {},
     "output_type": "execute_result"
    }
   ],
   "source": [
    "b.__dict__"
   ]
  },
  {
   "cell_type": "markdown",
   "id": "2dac975f-2a2a-4775-bc5f-4b2a2b2c0ddd",
   "metadata": {},
   "source": [
    "# Conclusion\n",
    "# The __dict__ attribute in Python provides a flexible way to interact with an object's attributes. It allows you to:\n",
    "\n",
    "# Inspect the object's attributes.\n",
    "# Modify existing attributes.\n",
    "# Add new attributes dynamically.\n",
    "# Remove attributes."
   ]
  },
  {
   "cell_type": "markdown",
   "id": "3c8cc7fb-0625-4e3d-85d4-b1912956a1dc",
   "metadata": {},
   "source": [
    "# Prepared By Shehwar Muhammad Sec: A Reg No: 0505"
   ]
  }
 ],
 "metadata": {
  "kernelspec": {
   "display_name": "Python 3 (ipykernel)",
   "language": "python",
   "name": "python3"
  },
  "language_info": {
   "codemirror_mode": {
    "name": "ipython",
    "version": 3
   },
   "file_extension": ".py",
   "mimetype": "text/x-python",
   "name": "python",
   "nbconvert_exporter": "python",
   "pygments_lexer": "ipython3",
   "version": "3.12.4"
  }
 },
 "nbformat": 4,
 "nbformat_minor": 5
}
